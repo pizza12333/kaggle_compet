{
 "cells": [
  {
   "cell_type": "code",
   "execution_count": 2,
   "metadata": {
    "collapsed": true
   },
   "outputs": [],
   "source": [
    "import gc\n",
    "from concurrent.futures import ThreadPoolExecutor\n",
    "\n",
    "import pandas as pd\n",
    "import numpy as np\n",
    "import os\n",
    "import lightgbm as lgb\n",
    "import json\n",
    "import sklearn.metrics\n",
    "from sklearn.metrics import f1_score, roc_auc_score\n",
    "from sklearn.model_selection import train_test_split\n",
    "from scipy.sparse import dok_matrix, coo_matrix\n",
    "from sklearn.utils.multiclass import  type_of_target\n",
    "path = \"data\""
   ]
  },
  {
   "cell_type": "code",
   "execution_count": 3,
   "metadata": {
    "collapsed": false
   },
   "outputs": [
    {
     "name": "stdout",
     "output_type": "stream",
     "text": [
      "CPU times: user 10.4 s, sys: 580 ms, total: 11 s\n",
      "Wall time: 11 s\n"
     ]
    }
   ],
   "source": [
    "%%time\n",
    "aisles = pd.read_csv(os.path.join(path, \"aisles.csv\"), dtype={'aisle_id': np.uint8, 'aisle': 'category'})\n",
    "departments = pd.read_csv(os.path.join(path, \"departments.csv\"),\n",
    "                          dtype={'department_id': np.uint8, 'department': 'category'})\n",
    "order_prior = pd.read_csv(os.path.join(path, \"order_products__prior.csv\"), dtype={'order_id': np.uint32,\n",
    "                                                                                  'product_id': np.uint16,\n",
    "                                                                                  'add_to_cart_order': np.uint8,\n",
    "                                                                                  'reordered': bool})\n",
    "\n",
    "order_train = pd.read_csv(os.path.join(path, \"order_products__train.csv\"), dtype={'order_id': np.uint32,\n",
    "                                                                                  'product_id': np.uint16,\n",
    "                                                                                  'add_to_cart_order': np.uint8,\n",
    "                                                                                  'reordered': bool})\n",
    "orders = pd.read_csv(os.path.join(path, \"orders.csv\"), dtype={'order_id': np.uint32,\n",
    "                                                              'user_id': np.uint32,\n",
    "                                                              'eval_set': 'category',\n",
    "                                                              'order_number': np.uint8,\n",
    "                                                              'order_dow': np.uint8,\n",
    "                                                              'order_hour_of_day': np.uint8\n",
    "                                                              })\n",
    "\n",
    "product_embeddings = pd.read_pickle('data/product_embeddings.pkl')"
   ]
  },
  {
   "cell_type": "code",
   "execution_count": 6,
   "metadata": {
    "collapsed": false
   },
   "outputs": [
    {
     "data": {
      "text/html": [
       "<div>\n",
       "<style>\n",
       "    .dataframe thead tr:only-child th {\n",
       "        text-align: right;\n",
       "    }\n",
       "\n",
       "    .dataframe thead th {\n",
       "        text-align: left;\n",
       "    }\n",
       "\n",
       "    .dataframe tbody tr th {\n",
       "        vertical-align: top;\n",
       "    }\n",
       "</style>\n",
       "<table border=\"1\" class=\"dataframe\">\n",
       "  <thead>\n",
       "    <tr style=\"text-align: right;\">\n",
       "      <th></th>\n",
       "      <th>product_id</th>\n",
       "      <th>product_name</th>\n",
       "      <th>aisle_id</th>\n",
       "      <th>department_id</th>\n",
       "      <th>0</th>\n",
       "      <th>1</th>\n",
       "      <th>2</th>\n",
       "      <th>3</th>\n",
       "      <th>4</th>\n",
       "      <th>5</th>\n",
       "      <th>...</th>\n",
       "      <th>22</th>\n",
       "      <th>23</th>\n",
       "      <th>24</th>\n",
       "      <th>25</th>\n",
       "      <th>26</th>\n",
       "      <th>27</th>\n",
       "      <th>28</th>\n",
       "      <th>29</th>\n",
       "      <th>30</th>\n",
       "      <th>31</th>\n",
       "    </tr>\n",
       "  </thead>\n",
       "  <tbody>\n",
       "    <tr>\n",
       "      <th>0</th>\n",
       "      <td>1</td>\n",
       "      <td>Chocolate Sandwich Cookies</td>\n",
       "      <td>61</td>\n",
       "      <td>19</td>\n",
       "      <td>-0.274106</td>\n",
       "      <td>-0.346766</td>\n",
       "      <td>-0.492804</td>\n",
       "      <td>0.040195</td>\n",
       "      <td>1.393330</td>\n",
       "      <td>0.857459</td>\n",
       "      <td>...</td>\n",
       "      <td>-0.734671</td>\n",
       "      <td>0.084122</td>\n",
       "      <td>1.307883</td>\n",
       "      <td>1.036936</td>\n",
       "      <td>1.053968</td>\n",
       "      <td>-0.436293</td>\n",
       "      <td>0.449946</td>\n",
       "      <td>-0.599207</td>\n",
       "      <td>-0.566169</td>\n",
       "      <td>0.386086</td>\n",
       "    </tr>\n",
       "    <tr>\n",
       "      <th>1</th>\n",
       "      <td>2</td>\n",
       "      <td>All-Seasons Salt</td>\n",
       "      <td>104</td>\n",
       "      <td>13</td>\n",
       "      <td>0.430817</td>\n",
       "      <td>-0.094257</td>\n",
       "      <td>0.289575</td>\n",
       "      <td>0.386656</td>\n",
       "      <td>-0.716073</td>\n",
       "      <td>-0.983020</td>\n",
       "      <td>...</td>\n",
       "      <td>-0.555524</td>\n",
       "      <td>0.555755</td>\n",
       "      <td>0.176689</td>\n",
       "      <td>0.276771</td>\n",
       "      <td>0.671120</td>\n",
       "      <td>0.720933</td>\n",
       "      <td>-0.506837</td>\n",
       "      <td>-0.355288</td>\n",
       "      <td>0.010037</td>\n",
       "      <td>0.199384</td>\n",
       "    </tr>\n",
       "    <tr>\n",
       "      <th>2</th>\n",
       "      <td>3</td>\n",
       "      <td>Robust Golden Unsweetened Oolong Tea</td>\n",
       "      <td>94</td>\n",
       "      <td>7</td>\n",
       "      <td>-0.684641</td>\n",
       "      <td>0.156538</td>\n",
       "      <td>0.747337</td>\n",
       "      <td>0.635513</td>\n",
       "      <td>-0.289291</td>\n",
       "      <td>-0.394251</td>\n",
       "      <td>...</td>\n",
       "      <td>0.327167</td>\n",
       "      <td>-0.025734</td>\n",
       "      <td>-0.038228</td>\n",
       "      <td>0.443475</td>\n",
       "      <td>-0.345621</td>\n",
       "      <td>-0.862611</td>\n",
       "      <td>0.881672</td>\n",
       "      <td>0.059684</td>\n",
       "      <td>0.900507</td>\n",
       "      <td>-0.671068</td>\n",
       "    </tr>\n",
       "    <tr>\n",
       "      <th>3</th>\n",
       "      <td>4</td>\n",
       "      <td>Smart Ones Classic Favorites Mini Rigatoni Wit...</td>\n",
       "      <td>38</td>\n",
       "      <td>1</td>\n",
       "      <td>0.370838</td>\n",
       "      <td>0.339059</td>\n",
       "      <td>0.911805</td>\n",
       "      <td>-0.451075</td>\n",
       "      <td>0.206791</td>\n",
       "      <td>0.782340</td>\n",
       "      <td>...</td>\n",
       "      <td>-0.158184</td>\n",
       "      <td>0.232721</td>\n",
       "      <td>-0.765808</td>\n",
       "      <td>-0.655540</td>\n",
       "      <td>0.961942</td>\n",
       "      <td>0.795764</td>\n",
       "      <td>-0.670161</td>\n",
       "      <td>-0.714329</td>\n",
       "      <td>-0.422820</td>\n",
       "      <td>0.499329</td>\n",
       "    </tr>\n",
       "    <tr>\n",
       "      <th>4</th>\n",
       "      <td>5</td>\n",
       "      <td>Green Chile Anytime Sauce</td>\n",
       "      <td>5</td>\n",
       "      <td>13</td>\n",
       "      <td>-0.602406</td>\n",
       "      <td>-0.448103</td>\n",
       "      <td>0.912450</td>\n",
       "      <td>-0.440221</td>\n",
       "      <td>0.403223</td>\n",
       "      <td>0.052592</td>\n",
       "      <td>...</td>\n",
       "      <td>-0.548407</td>\n",
       "      <td>-0.049812</td>\n",
       "      <td>-0.573244</td>\n",
       "      <td>0.125205</td>\n",
       "      <td>-0.426396</td>\n",
       "      <td>-0.435550</td>\n",
       "      <td>0.808476</td>\n",
       "      <td>-0.183062</td>\n",
       "      <td>-0.743405</td>\n",
       "      <td>0.215610</td>\n",
       "    </tr>\n",
       "  </tbody>\n",
       "</table>\n",
       "<p>5 rows × 36 columns</p>\n",
       "</div>"
      ],
      "text/plain": [
       "   product_id                                       product_name  aisle_id  \\\n",
       "0           1                         Chocolate Sandwich Cookies        61   \n",
       "1           2                                   All-Seasons Salt       104   \n",
       "2           3               Robust Golden Unsweetened Oolong Tea        94   \n",
       "3           4  Smart Ones Classic Favorites Mini Rigatoni Wit...        38   \n",
       "4           5                          Green Chile Anytime Sauce         5   \n",
       "\n",
       "   department_id         0         1         2         3         4         5  \\\n",
       "0             19 -0.274106 -0.346766 -0.492804  0.040195  1.393330  0.857459   \n",
       "1             13  0.430817 -0.094257  0.289575  0.386656 -0.716073 -0.983020   \n",
       "2              7 -0.684641  0.156538  0.747337  0.635513 -0.289291 -0.394251   \n",
       "3              1  0.370838  0.339059  0.911805 -0.451075  0.206791  0.782340   \n",
       "4             13 -0.602406 -0.448103  0.912450 -0.440221  0.403223  0.052592   \n",
       "\n",
       "     ...           22        23        24        25        26        27  \\\n",
       "0    ...    -0.734671  0.084122  1.307883  1.036936  1.053968 -0.436293   \n",
       "1    ...    -0.555524  0.555755  0.176689  0.276771  0.671120  0.720933   \n",
       "2    ...     0.327167 -0.025734 -0.038228  0.443475 -0.345621 -0.862611   \n",
       "3    ...    -0.158184  0.232721 -0.765808 -0.655540  0.961942  0.795764   \n",
       "4    ...    -0.548407 -0.049812 -0.573244  0.125205 -0.426396 -0.435550   \n",
       "\n",
       "         28        29        30        31  \n",
       "0  0.449946 -0.599207 -0.566169  0.386086  \n",
       "1 -0.506837 -0.355288  0.010037  0.199384  \n",
       "2  0.881672  0.059684  0.900507 -0.671068  \n",
       "3 -0.670161 -0.714329 -0.422820  0.499329  \n",
       "4  0.808476 -0.183062 -0.743405  0.215610  \n",
       "\n",
       "[5 rows x 36 columns]"
      ]
     },
     "execution_count": 6,
     "metadata": {},
     "output_type": "execute_result"
    }
   ],
   "source": [
    "product_embeddings.head()"
   ]
  },
  {
   "cell_type": "code",
   "execution_count": 7,
   "metadata": {
    "collapsed": true
   },
   "outputs": [],
   "source": [
    "## item2vec을 임베딩 하기 위한 리스트 : 0 - 31 개니까 32개 리스트만듬\n",
    "embedings = list(range(32))"
   ]
  },
  {
   "cell_type": "code",
   "execution_count": 13,
   "metadata": {
    "collapsed": false
   },
   "outputs": [
    {
     "data": {
      "text/html": [
       "<div>\n",
       "<style>\n",
       "    .dataframe thead tr:only-child th {\n",
       "        text-align: right;\n",
       "    }\n",
       "\n",
       "    .dataframe thead th {\n",
       "        text-align: left;\n",
       "    }\n",
       "\n",
       "    .dataframe tbody tr th {\n",
       "        vertical-align: top;\n",
       "    }\n",
       "</style>\n",
       "<table border=\"1\" class=\"dataframe\">\n",
       "  <thead>\n",
       "    <tr style=\"text-align: right;\">\n",
       "      <th></th>\n",
       "      <th>0</th>\n",
       "      <th>1</th>\n",
       "      <th>2</th>\n",
       "      <th>3</th>\n",
       "      <th>4</th>\n",
       "      <th>5</th>\n",
       "      <th>6</th>\n",
       "      <th>7</th>\n",
       "      <th>8</th>\n",
       "      <th>9</th>\n",
       "      <th>...</th>\n",
       "      <th>23</th>\n",
       "      <th>24</th>\n",
       "      <th>25</th>\n",
       "      <th>26</th>\n",
       "      <th>27</th>\n",
       "      <th>28</th>\n",
       "      <th>29</th>\n",
       "      <th>30</th>\n",
       "      <th>31</th>\n",
       "      <th>product_id</th>\n",
       "    </tr>\n",
       "  </thead>\n",
       "  <tbody>\n",
       "    <tr>\n",
       "      <th>0</th>\n",
       "      <td>-0.274106</td>\n",
       "      <td>-0.346766</td>\n",
       "      <td>-0.492804</td>\n",
       "      <td>0.040195</td>\n",
       "      <td>1.393330</td>\n",
       "      <td>0.857459</td>\n",
       "      <td>-0.641340</td>\n",
       "      <td>-0.140168</td>\n",
       "      <td>-0.220764</td>\n",
       "      <td>-0.303222</td>\n",
       "      <td>...</td>\n",
       "      <td>0.084122</td>\n",
       "      <td>1.307883</td>\n",
       "      <td>1.036936</td>\n",
       "      <td>1.053968</td>\n",
       "      <td>-0.436293</td>\n",
       "      <td>0.449946</td>\n",
       "      <td>-0.599207</td>\n",
       "      <td>-0.566169</td>\n",
       "      <td>0.386086</td>\n",
       "      <td>1</td>\n",
       "    </tr>\n",
       "    <tr>\n",
       "      <th>1</th>\n",
       "      <td>0.430817</td>\n",
       "      <td>-0.094257</td>\n",
       "      <td>0.289575</td>\n",
       "      <td>0.386656</td>\n",
       "      <td>-0.716073</td>\n",
       "      <td>-0.983020</td>\n",
       "      <td>0.427547</td>\n",
       "      <td>0.626686</td>\n",
       "      <td>-0.706547</td>\n",
       "      <td>0.502924</td>\n",
       "      <td>...</td>\n",
       "      <td>0.555755</td>\n",
       "      <td>0.176689</td>\n",
       "      <td>0.276771</td>\n",
       "      <td>0.671120</td>\n",
       "      <td>0.720933</td>\n",
       "      <td>-0.506837</td>\n",
       "      <td>-0.355288</td>\n",
       "      <td>0.010037</td>\n",
       "      <td>0.199384</td>\n",
       "      <td>2</td>\n",
       "    </tr>\n",
       "    <tr>\n",
       "      <th>2</th>\n",
       "      <td>-0.684641</td>\n",
       "      <td>0.156538</td>\n",
       "      <td>0.747337</td>\n",
       "      <td>0.635513</td>\n",
       "      <td>-0.289291</td>\n",
       "      <td>-0.394251</td>\n",
       "      <td>0.872738</td>\n",
       "      <td>-0.557070</td>\n",
       "      <td>-0.402544</td>\n",
       "      <td>0.677990</td>\n",
       "      <td>...</td>\n",
       "      <td>-0.025734</td>\n",
       "      <td>-0.038228</td>\n",
       "      <td>0.443475</td>\n",
       "      <td>-0.345621</td>\n",
       "      <td>-0.862611</td>\n",
       "      <td>0.881672</td>\n",
       "      <td>0.059684</td>\n",
       "      <td>0.900507</td>\n",
       "      <td>-0.671068</td>\n",
       "      <td>3</td>\n",
       "    </tr>\n",
       "    <tr>\n",
       "      <th>3</th>\n",
       "      <td>0.370838</td>\n",
       "      <td>0.339059</td>\n",
       "      <td>0.911805</td>\n",
       "      <td>-0.451075</td>\n",
       "      <td>0.206791</td>\n",
       "      <td>0.782340</td>\n",
       "      <td>0.641243</td>\n",
       "      <td>-0.597517</td>\n",
       "      <td>-0.773465</td>\n",
       "      <td>-0.700460</td>\n",
       "      <td>...</td>\n",
       "      <td>0.232721</td>\n",
       "      <td>-0.765808</td>\n",
       "      <td>-0.655540</td>\n",
       "      <td>0.961942</td>\n",
       "      <td>0.795764</td>\n",
       "      <td>-0.670161</td>\n",
       "      <td>-0.714329</td>\n",
       "      <td>-0.422820</td>\n",
       "      <td>0.499329</td>\n",
       "      <td>4</td>\n",
       "    </tr>\n",
       "    <tr>\n",
       "      <th>4</th>\n",
       "      <td>-0.602406</td>\n",
       "      <td>-0.448103</td>\n",
       "      <td>0.912450</td>\n",
       "      <td>-0.440221</td>\n",
       "      <td>0.403223</td>\n",
       "      <td>0.052592</td>\n",
       "      <td>-0.482172</td>\n",
       "      <td>0.348995</td>\n",
       "      <td>0.605238</td>\n",
       "      <td>-0.356287</td>\n",
       "      <td>...</td>\n",
       "      <td>-0.049812</td>\n",
       "      <td>-0.573244</td>\n",
       "      <td>0.125205</td>\n",
       "      <td>-0.426396</td>\n",
       "      <td>-0.435550</td>\n",
       "      <td>0.808476</td>\n",
       "      <td>-0.183062</td>\n",
       "      <td>-0.743405</td>\n",
       "      <td>0.215610</td>\n",
       "      <td>5</td>\n",
       "    </tr>\n",
       "  </tbody>\n",
       "</table>\n",
       "<p>5 rows × 33 columns</p>\n",
       "</div>"
      ],
      "text/plain": [
       "          0         1         2         3         4         5         6  \\\n",
       "0 -0.274106 -0.346766 -0.492804  0.040195  1.393330  0.857459 -0.641340   \n",
       "1  0.430817 -0.094257  0.289575  0.386656 -0.716073 -0.983020  0.427547   \n",
       "2 -0.684641  0.156538  0.747337  0.635513 -0.289291 -0.394251  0.872738   \n",
       "3  0.370838  0.339059  0.911805 -0.451075  0.206791  0.782340  0.641243   \n",
       "4 -0.602406 -0.448103  0.912450 -0.440221  0.403223  0.052592 -0.482172   \n",
       "\n",
       "          7         8         9     ...            23        24        25  \\\n",
       "0 -0.140168 -0.220764 -0.303222     ...      0.084122  1.307883  1.036936   \n",
       "1  0.626686 -0.706547  0.502924     ...      0.555755  0.176689  0.276771   \n",
       "2 -0.557070 -0.402544  0.677990     ...     -0.025734 -0.038228  0.443475   \n",
       "3 -0.597517 -0.773465 -0.700460     ...      0.232721 -0.765808 -0.655540   \n",
       "4  0.348995  0.605238 -0.356287     ...     -0.049812 -0.573244  0.125205   \n",
       "\n",
       "         26        27        28        29        30        31  product_id  \n",
       "0  1.053968 -0.436293  0.449946 -0.599207 -0.566169  0.386086           1  \n",
       "1  0.671120  0.720933 -0.506837 -0.355288  0.010037  0.199384           2  \n",
       "2 -0.345621 -0.862611  0.881672  0.059684  0.900507 -0.671068           3  \n",
       "3  0.961942  0.795764 -0.670161 -0.714329 -0.422820  0.499329           4  \n",
       "4 -0.426396 -0.435550  0.808476 -0.183062 -0.743405  0.215610           5  \n",
       "\n",
       "[5 rows x 33 columns]"
      ]
     },
     "execution_count": 13,
     "metadata": {},
     "output_type": "execute_result"
    }
   ],
   "source": [
    "product_embeddings[embedings + ['product_id']].head()"
   ]
  },
  {
   "cell_type": "code",
   "execution_count": 11,
   "metadata": {
    "collapsed": false
   },
   "outputs": [
    {
     "data": {
      "text/plain": [
       "(49688, 33)"
      ]
     },
     "execution_count": 11,
     "metadata": {},
     "output_type": "execute_result"
    }
   ],
   "source": [
    "product_embeddings[embedings + ['product_id']].shape"
   ]
  },
  {
   "cell_type": "code",
   "execution_count": 12,
   "metadata": {
    "collapsed": false
   },
   "outputs": [
    {
     "data": {
      "text/plain": [
       "(49688, 36)"
      ]
     },
     "execution_count": 12,
     "metadata": {},
     "output_type": "execute_result"
    }
   ],
   "source": [
    "product_embeddings.shape"
   ]
  },
  {
   "cell_type": "code",
   "execution_count": 14,
   "metadata": {
    "collapsed": true
   },
   "outputs": [],
   "source": [
    "## product_embeddings에서 product_name,aisle_id,department_id 열을 제거한것\n",
    "product_embeddings = product_embeddings[embedings + ['product_id']]"
   ]
  },
  {
   "cell_type": "code",
   "execution_count": 15,
   "metadata": {
    "collapsed": false
   },
   "outputs": [
    {
     "data": {
      "text/html": [
       "<div>\n",
       "<style>\n",
       "    .dataframe thead tr:only-child th {\n",
       "        text-align: right;\n",
       "    }\n",
       "\n",
       "    .dataframe thead th {\n",
       "        text-align: left;\n",
       "    }\n",
       "\n",
       "    .dataframe tbody tr th {\n",
       "        vertical-align: top;\n",
       "    }\n",
       "</style>\n",
       "<table border=\"1\" class=\"dataframe\">\n",
       "  <thead>\n",
       "    <tr style=\"text-align: right;\">\n",
       "      <th></th>\n",
       "      <th>order_id</th>\n",
       "      <th>product_id</th>\n",
       "      <th>add_to_cart_order</th>\n",
       "      <th>reordered</th>\n",
       "    </tr>\n",
       "  </thead>\n",
       "  <tbody>\n",
       "    <tr>\n",
       "      <th>0</th>\n",
       "      <td>1</td>\n",
       "      <td>49302</td>\n",
       "      <td>1</td>\n",
       "      <td>True</td>\n",
       "    </tr>\n",
       "  </tbody>\n",
       "</table>\n",
       "</div>"
      ],
      "text/plain": [
       "   order_id  product_id  add_to_cart_order  reordered\n",
       "0         1       49302                  1       True"
      ]
     },
     "execution_count": 15,
     "metadata": {},
     "output_type": "execute_result"
    }
   ],
   "source": [
    "order_train.head(1)"
   ]
  },
  {
   "cell_type": "code",
   "execution_count": 16,
   "metadata": {
    "collapsed": false
   },
   "outputs": [
    {
     "data": {
      "text/html": [
       "<div>\n",
       "<style>\n",
       "    .dataframe thead tr:only-child th {\n",
       "        text-align: right;\n",
       "    }\n",
       "\n",
       "    .dataframe thead th {\n",
       "        text-align: left;\n",
       "    }\n",
       "\n",
       "    .dataframe tbody tr th {\n",
       "        vertical-align: top;\n",
       "    }\n",
       "</style>\n",
       "<table border=\"1\" class=\"dataframe\">\n",
       "  <thead>\n",
       "    <tr style=\"text-align: right;\">\n",
       "      <th></th>\n",
       "      <th>order_id</th>\n",
       "      <th>user_id</th>\n",
       "      <th>eval_set</th>\n",
       "      <th>order_number</th>\n",
       "      <th>order_dow</th>\n",
       "      <th>order_hour_of_day</th>\n",
       "      <th>days_since_prior_order</th>\n",
       "    </tr>\n",
       "  </thead>\n",
       "  <tbody>\n",
       "    <tr>\n",
       "      <th>0</th>\n",
       "      <td>2539329</td>\n",
       "      <td>1</td>\n",
       "      <td>prior</td>\n",
       "      <td>1</td>\n",
       "      <td>2</td>\n",
       "      <td>8</td>\n",
       "      <td>NaN</td>\n",
       "    </tr>\n",
       "  </tbody>\n",
       "</table>\n",
       "</div>"
      ],
      "text/plain": [
       "   order_id  user_id eval_set  order_number  order_dow  order_hour_of_day  \\\n",
       "0   2539329        1    prior             1          2                  8   \n",
       "\n",
       "   days_since_prior_order  \n",
       "0                     NaN  "
      ]
     },
     "execution_count": 16,
     "metadata": {},
     "output_type": "execute_result"
    }
   ],
   "source": [
    "orders.head(1)"
   ]
  },
  {
   "cell_type": "code",
   "execution_count": 17,
   "metadata": {
    "collapsed": false
   },
   "outputs": [
    {
     "name": "stdout",
     "output_type": "stream",
     "text": [
      "CPU times: user 976 ms, sys: 248 ms, total: 1.22 s\n",
      "Wall time: 1.22 s\n"
     ]
    }
   ],
   "source": [
    "%%time\n",
    "order_prev = pd.merge(order_train, orders, on='order_id')"
   ]
  },
  {
   "cell_type": "code",
   "execution_count": 18,
   "metadata": {
    "collapsed": false
   },
   "outputs": [
    {
     "data": {
      "text/html": [
       "<div>\n",
       "<style>\n",
       "    .dataframe thead tr:only-child th {\n",
       "        text-align: right;\n",
       "    }\n",
       "\n",
       "    .dataframe thead th {\n",
       "        text-align: left;\n",
       "    }\n",
       "\n",
       "    .dataframe tbody tr th {\n",
       "        vertical-align: top;\n",
       "    }\n",
       "</style>\n",
       "<table border=\"1\" class=\"dataframe\">\n",
       "  <thead>\n",
       "    <tr style=\"text-align: right;\">\n",
       "      <th></th>\n",
       "      <th>order_id</th>\n",
       "      <th>product_id</th>\n",
       "      <th>add_to_cart_order</th>\n",
       "      <th>reordered</th>\n",
       "      <th>user_id</th>\n",
       "      <th>eval_set</th>\n",
       "      <th>order_number</th>\n",
       "      <th>order_dow</th>\n",
       "      <th>order_hour_of_day</th>\n",
       "      <th>days_since_prior_order</th>\n",
       "    </tr>\n",
       "  </thead>\n",
       "  <tbody>\n",
       "    <tr>\n",
       "      <th>0</th>\n",
       "      <td>1</td>\n",
       "      <td>49302</td>\n",
       "      <td>1</td>\n",
       "      <td>True</td>\n",
       "      <td>112108</td>\n",
       "      <td>train</td>\n",
       "      <td>4</td>\n",
       "      <td>4</td>\n",
       "      <td>10</td>\n",
       "      <td>9.0</td>\n",
       "    </tr>\n",
       "  </tbody>\n",
       "</table>\n",
       "</div>"
      ],
      "text/plain": [
       "   order_id  product_id  add_to_cart_order  reordered  user_id eval_set  \\\n",
       "0         1       49302                  1       True   112108    train   \n",
       "\n",
       "   order_number  order_dow  order_hour_of_day  days_since_prior_order  \n",
       "0             4          4                 10                     9.0  "
      ]
     },
     "execution_count": 18,
     "metadata": {},
     "output_type": "execute_result"
    }
   ],
   "source": [
    "order_prev.head(1)"
   ]
  },
  {
   "cell_type": "code",
   "execution_count": 20,
   "metadata": {
    "collapsed": false
   },
   "outputs": [
    {
     "data": {
      "text/plain": [
       "0    4\n",
       "1    4\n",
       "2    4\n",
       "3    4\n",
       "4    4\n",
       "Name: order_number, dtype: uint8"
      ]
     },
     "execution_count": 20,
     "metadata": {},
     "output_type": "execute_result"
    }
   ],
   "source": [
    "order_prev.order_number.head()"
   ]
  },
  {
   "cell_type": "code",
   "execution_count": 21,
   "metadata": {
    "collapsed": false
   },
   "outputs": [
    {
     "name": "stdout",
     "output_type": "stream",
     "text": [
      "CPU times: user 4 ms, sys: 0 ns, total: 4 ms\n",
      "Wall time: 2.94 ms\n"
     ]
    }
   ],
   "source": [
    "%%time\n",
    "## order_number에서 -1을 전부 제거한다.\n",
    "order_prev.order_number -= 1"
   ]
  },
  {
   "cell_type": "code",
   "execution_count": 24,
   "metadata": {
    "collapsed": false
   },
   "outputs": [
    {
     "data": {
      "text/plain": [
       "0    3\n",
       "1    3\n",
       "2    3\n",
       "3    3\n",
       "4    3\n",
       "Name: order_number, dtype: uint8"
      ]
     },
     "execution_count": 24,
     "metadata": {},
     "output_type": "execute_result"
    }
   ],
   "source": [
    "order_prev.order_number.head()"
   ]
  },
  {
   "cell_type": "code",
   "execution_count": 25,
   "metadata": {
    "collapsed": false
   },
   "outputs": [
    {
     "name": "stdout",
     "output_type": "stream",
     "text": [
      "CPU times: user 1.06 s, sys: 224 ms, total: 1.29 s\n",
      "Wall time: 1.28 s\n"
     ]
    }
   ],
   "source": [
    "%%time\n",
    "## eval_set, days_since_prior_order 제외하고 orders와 병합한다 \n",
    "order_prev = pd.merge(order_prev[['user_id', 'order_number', 'product_id', \n",
    "                                  'reordered', 'add_to_cart_order', 'order_dow','order_hour_of_day']], \n",
    "                      orders[['user_id', 'order_number', 'order_id']],\n",
    "                          on=['user_id', 'order_number'])\n",
    "\n"
   ]
  },
  {
   "cell_type": "code",
   "execution_count": 26,
   "metadata": {
    "collapsed": false
   },
   "outputs": [
    {
     "data": {
      "text/html": [
       "<div>\n",
       "<style>\n",
       "    .dataframe thead tr:only-child th {\n",
       "        text-align: right;\n",
       "    }\n",
       "\n",
       "    .dataframe thead th {\n",
       "        text-align: left;\n",
       "    }\n",
       "\n",
       "    .dataframe tbody tr th {\n",
       "        vertical-align: top;\n",
       "    }\n",
       "</style>\n",
       "<table border=\"1\" class=\"dataframe\">\n",
       "  <thead>\n",
       "    <tr style=\"text-align: right;\">\n",
       "      <th></th>\n",
       "      <th>user_id</th>\n",
       "      <th>order_number</th>\n",
       "      <th>product_id</th>\n",
       "      <th>reordered</th>\n",
       "      <th>add_to_cart_order</th>\n",
       "      <th>order_dow</th>\n",
       "      <th>order_hour_of_day</th>\n",
       "      <th>order_id</th>\n",
       "    </tr>\n",
       "  </thead>\n",
       "  <tbody>\n",
       "    <tr>\n",
       "      <th>0</th>\n",
       "      <td>112108</td>\n",
       "      <td>3</td>\n",
       "      <td>49302</td>\n",
       "      <td>True</td>\n",
       "      <td>1</td>\n",
       "      <td>4</td>\n",
       "      <td>10</td>\n",
       "      <td>186706</td>\n",
       "    </tr>\n",
       "    <tr>\n",
       "      <th>1</th>\n",
       "      <td>112108</td>\n",
       "      <td>3</td>\n",
       "      <td>11109</td>\n",
       "      <td>True</td>\n",
       "      <td>2</td>\n",
       "      <td>4</td>\n",
       "      <td>10</td>\n",
       "      <td>186706</td>\n",
       "    </tr>\n",
       "  </tbody>\n",
       "</table>\n",
       "</div>"
      ],
      "text/plain": [
       "   user_id  order_number  product_id  reordered  add_to_cart_order  order_dow  \\\n",
       "0   112108             3       49302       True                  1          4   \n",
       "1   112108             3       11109       True                  2          4   \n",
       "\n",
       "   order_hour_of_day  order_id  \n",
       "0                 10    186706  \n",
       "1                 10    186706  "
      ]
     },
     "execution_count": 26,
     "metadata": {},
     "output_type": "execute_result"
    }
   ],
   "source": [
    "order_prev.head(2)"
   ]
  },
  {
   "cell_type": "code",
   "execution_count": 27,
   "metadata": {
    "collapsed": true
   },
   "outputs": [],
   "source": [
    "order_prev.drop(['order_number', 'user_id'], axis=1, inplace=True)"
   ]
  },
  {
   "cell_type": "code",
   "execution_count": 28,
   "metadata": {
    "collapsed": false
   },
   "outputs": [
    {
     "data": {
      "text/html": [
       "<div>\n",
       "<style>\n",
       "    .dataframe thead tr:only-child th {\n",
       "        text-align: right;\n",
       "    }\n",
       "\n",
       "    .dataframe thead th {\n",
       "        text-align: left;\n",
       "    }\n",
       "\n",
       "    .dataframe tbody tr th {\n",
       "        vertical-align: top;\n",
       "    }\n",
       "</style>\n",
       "<table border=\"1\" class=\"dataframe\">\n",
       "  <thead>\n",
       "    <tr style=\"text-align: right;\">\n",
       "      <th></th>\n",
       "      <th>product_id</th>\n",
       "      <th>reordered</th>\n",
       "      <th>add_to_cart_order</th>\n",
       "      <th>order_dow</th>\n",
       "      <th>order_hour_of_day</th>\n",
       "      <th>order_id</th>\n",
       "    </tr>\n",
       "  </thead>\n",
       "  <tbody>\n",
       "    <tr>\n",
       "      <th>0</th>\n",
       "      <td>49302</td>\n",
       "      <td>True</td>\n",
       "      <td>1</td>\n",
       "      <td>4</td>\n",
       "      <td>10</td>\n",
       "      <td>186706</td>\n",
       "    </tr>\n",
       "  </tbody>\n",
       "</table>\n",
       "</div>"
      ],
      "text/plain": [
       "   product_id  reordered  add_to_cart_order  order_dow  order_hour_of_day  \\\n",
       "0       49302       True                  1          4                 10   \n",
       "\n",
       "   order_id  \n",
       "0    186706  "
      ]
     },
     "execution_count": 28,
     "metadata": {},
     "output_type": "execute_result"
    }
   ],
   "source": [
    "order_prev.head(1)"
   ]
  },
  {
   "cell_type": "code",
   "execution_count": 29,
   "metadata": {
    "collapsed": true
   },
   "outputs": [],
   "source": [
    "order_prev.rename(columns={'reordered': 'reordered_prev',\n",
    "                           'add_to_cart_order': 'add_to_cart_order_prev',\n",
    "                           'order_dow': 'order_dow_prev',\n",
    "                           'order_hour_of_day': 'order_hour_of_day_prev'}, \n",
    "                  inplace=True)"
   ]
  },
  {
   "cell_type": "code",
   "execution_count": 30,
   "metadata": {
    "collapsed": false
   },
   "outputs": [
    {
     "data": {
      "text/html": [
       "<div>\n",
       "<style>\n",
       "    .dataframe thead tr:only-child th {\n",
       "        text-align: right;\n",
       "    }\n",
       "\n",
       "    .dataframe thead th {\n",
       "        text-align: left;\n",
       "    }\n",
       "\n",
       "    .dataframe tbody tr th {\n",
       "        vertical-align: top;\n",
       "    }\n",
       "</style>\n",
       "<table border=\"1\" class=\"dataframe\">\n",
       "  <thead>\n",
       "    <tr style=\"text-align: right;\">\n",
       "      <th></th>\n",
       "      <th>product_id</th>\n",
       "      <th>reordered_prev</th>\n",
       "      <th>add_to_cart_order_prev</th>\n",
       "      <th>order_dow_prev</th>\n",
       "      <th>order_hour_of_day_prev</th>\n",
       "      <th>order_id</th>\n",
       "    </tr>\n",
       "  </thead>\n",
       "  <tbody>\n",
       "    <tr>\n",
       "      <th>0</th>\n",
       "      <td>49302</td>\n",
       "      <td>True</td>\n",
       "      <td>1</td>\n",
       "      <td>4</td>\n",
       "      <td>10</td>\n",
       "      <td>186706</td>\n",
       "    </tr>\n",
       "  </tbody>\n",
       "</table>\n",
       "</div>"
      ],
      "text/plain": [
       "   product_id  reordered_prev  add_to_cart_order_prev  order_dow_prev  \\\n",
       "0       49302            True                       1               4   \n",
       "\n",
       "   order_hour_of_day_prev  order_id  \n",
       "0                      10    186706  "
      ]
     },
     "execution_count": 30,
     "metadata": {},
     "output_type": "execute_result"
    }
   ],
   "source": [
    "order_prev.head(1)"
   ]
  },
  {
   "cell_type": "code",
   "execution_count": 32,
   "metadata": {
    "collapsed": true
   },
   "outputs": [],
   "source": [
    "products = pd.read_csv(os.path.join(path, \"products.csv\"), dtype={'product_id': np.uint16,\n",
    "                                                                  'aisle_id': np.uint8,\n",
    "                                                                  'department_id': np.uint8})\n",
    "order_train = pd.read_pickle(os.path.join(path, 'chunk_0.pkl'))"
   ]
  },
  {
   "cell_type": "code",
   "execution_count": 33,
   "metadata": {
    "collapsed": true
   },
   "outputs": [],
   "source": [
    "## eval_set == train 인 애들 중에 'order_id',  'product_id',  'reordered'열만 갖고 와라 \n",
    "order_train = order_train.loc[order_train.eval_set == \"train\", ['order_id',  'product_id',  'reordered']]"
   ]
  },
  {
   "cell_type": "code",
   "execution_count": 34,
   "metadata": {
    "collapsed": true
   },
   "outputs": [],
   "source": [
    "## 유저가 상품과 주문을 얼마 주기로 하는지 전처리 해놓은 것 로드\n",
    "## preprocessing#4\n",
    "product_periods = pd.read_pickle(os.path.join(path, 'product_periods_stat.pkl')).fillna(9999)"
   ]
  },
  {
   "cell_type": "code",
   "execution_count": 35,
   "metadata": {
    "collapsed": false
   },
   "outputs": [
    {
     "data": {
      "text/html": [
       "<div>\n",
       "<style>\n",
       "    .dataframe thead tr:only-child th {\n",
       "        text-align: right;\n",
       "    }\n",
       "\n",
       "    .dataframe thead th {\n",
       "        text-align: left;\n",
       "    }\n",
       "\n",
       "    .dataframe tbody tr th {\n",
       "        vertical-align: top;\n",
       "    }\n",
       "</style>\n",
       "<table border=\"1\" class=\"dataframe\">\n",
       "  <thead>\n",
       "    <tr style=\"text-align: right;\">\n",
       "      <th></th>\n",
       "      <th>user_id</th>\n",
       "      <th>product_id</th>\n",
       "      <th>last</th>\n",
       "      <th>prev1</th>\n",
       "      <th>prev2</th>\n",
       "      <th>median</th>\n",
       "      <th>mean</th>\n",
       "    </tr>\n",
       "  </thead>\n",
       "  <tbody>\n",
       "    <tr>\n",
       "      <th>0</th>\n",
       "      <td>1</td>\n",
       "      <td>196</td>\n",
       "      <td>14.0</td>\n",
       "      <td>30.0</td>\n",
       "      <td>0.0</td>\n",
       "      <td>20.0</td>\n",
       "      <td>19.555556</td>\n",
       "    </tr>\n",
       "  </tbody>\n",
       "</table>\n",
       "</div>"
      ],
      "text/plain": [
       "   user_id  product_id  last  prev1  prev2  median       mean\n",
       "0        1         196  14.0   30.0    0.0    20.0  19.555556"
      ]
     },
     "execution_count": 35,
     "metadata": {},
     "output_type": "execute_result"
    }
   ],
   "source": [
    "product_periods.head(1)"
   ]
  },
  {
   "cell_type": "code",
   "execution_count": null,
   "metadata": {
    "collapsed": true
   },
   "outputs": [],
   "source": [
    "# product_periods.prev1 = product_periods['last'] / product_periods.prev1\n",
    "# product_periods.prev2 = product_periods['last'] / product_periods.prev2\n",
    "# product_periods['mean'] = product_periods['last'] / product_periods['mean']\n",
    "# product_periods['median'] = product_periods['last'] / product_periods['median']"
   ]
  },
  {
   "cell_type": "code",
   "execution_count": 37,
   "metadata": {
    "collapsed": false
   },
   "outputs": [
    {
     "name": "stdout",
     "output_type": "stream",
     "text": [
      "CPU times: user 216 ms, sys: 180 ms, total: 396 ms\n",
      "Wall time: 396 ms\n"
     ]
    }
   ],
   "source": [
    "%%time\n",
    "\n",
    "weights = order_train.groupby('order_id')['reordered'].sum().to_frame('weights')\n",
    "weights.reset_index(inplace=True)"
   ]
  },
  {
   "cell_type": "code",
   "execution_count": 44,
   "metadata": {
    "collapsed": false
   },
   "outputs": [
    {
     "data": {
      "text/html": [
       "<div>\n",
       "<style>\n",
       "    .dataframe thead tr:only-child th {\n",
       "        text-align: right;\n",
       "    }\n",
       "\n",
       "    .dataframe thead th {\n",
       "        text-align: left;\n",
       "    }\n",
       "\n",
       "    .dataframe tbody tr th {\n",
       "        vertical-align: top;\n",
       "    }\n",
       "</style>\n",
       "<table border=\"1\" class=\"dataframe\">\n",
       "  <thead>\n",
       "    <tr style=\"text-align: right;\">\n",
       "      <th></th>\n",
       "      <th>order_id</th>\n",
       "      <th>product_id</th>\n",
       "      <th>reordered</th>\n",
       "    </tr>\n",
       "  </thead>\n",
       "  <tbody>\n",
       "    <tr>\n",
       "      <th>0</th>\n",
       "      <td>1</td>\n",
       "      <td>49302</td>\n",
       "      <td>True</td>\n",
       "    </tr>\n",
       "    <tr>\n",
       "      <th>1</th>\n",
       "      <td>1</td>\n",
       "      <td>11109</td>\n",
       "      <td>True</td>\n",
       "    </tr>\n",
       "    <tr>\n",
       "      <th>2</th>\n",
       "      <td>1</td>\n",
       "      <td>43633</td>\n",
       "      <td>True</td>\n",
       "    </tr>\n",
       "    <tr>\n",
       "      <th>3</th>\n",
       "      <td>1</td>\n",
       "      <td>22035</td>\n",
       "      <td>True</td>\n",
       "    </tr>\n",
       "    <tr>\n",
       "      <th>4</th>\n",
       "      <td>36</td>\n",
       "      <td>19660</td>\n",
       "      <td>True</td>\n",
       "    </tr>\n",
       "  </tbody>\n",
       "</table>\n",
       "</div>"
      ],
      "text/plain": [
       "   order_id  product_id  reordered\n",
       "0         1       49302       True\n",
       "1         1       11109       True\n",
       "2         1       43633       True\n",
       "3         1       22035       True\n",
       "4        36       19660       True"
      ]
     },
     "execution_count": 44,
     "metadata": {},
     "output_type": "execute_result"
    }
   ],
   "source": [
    "order_train.head(5)"
   ]
  },
  {
   "cell_type": "code",
   "execution_count": 46,
   "metadata": {
    "collapsed": false
   },
   "outputs": [
    {
     "data": {
      "text/plain": [
       "order_id\n",
       "1     4.0\n",
       "36    6.0\n",
       "38    1.0\n",
       "Name: reordered, dtype: float64"
      ]
     },
     "execution_count": 46,
     "metadata": {},
     "output_type": "execute_result"
    }
   ],
   "source": [
    "## order_id==1 은 4개 있는데 모두 재구매된 상품이기 때문에 4가 된다.\n",
    "order_train.groupby('order_id')['reordered'].sum().head(3)"
   ]
  },
  {
   "cell_type": "code",
   "execution_count": 47,
   "metadata": {
    "collapsed": false
   },
   "outputs": [
    {
     "data": {
      "text/html": [
       "<div>\n",
       "<style>\n",
       "    .dataframe thead tr:only-child th {\n",
       "        text-align: right;\n",
       "    }\n",
       "\n",
       "    .dataframe thead th {\n",
       "        text-align: left;\n",
       "    }\n",
       "\n",
       "    .dataframe tbody tr th {\n",
       "        vertical-align: top;\n",
       "    }\n",
       "</style>\n",
       "<table border=\"1\" class=\"dataframe\">\n",
       "  <thead>\n",
       "    <tr style=\"text-align: right;\">\n",
       "      <th></th>\n",
       "      <th>order_id</th>\n",
       "      <th>weights</th>\n",
       "    </tr>\n",
       "  </thead>\n",
       "  <tbody>\n",
       "    <tr>\n",
       "      <th>0</th>\n",
       "      <td>1</td>\n",
       "      <td>4.0</td>\n",
       "    </tr>\n",
       "    <tr>\n",
       "      <th>1</th>\n",
       "      <td>36</td>\n",
       "      <td>6.0</td>\n",
       "    </tr>\n",
       "  </tbody>\n",
       "</table>\n",
       "</div>"
      ],
      "text/plain": [
       "   order_id  weights\n",
       "0         1      4.0\n",
       "1        36      6.0"
      ]
     },
     "execution_count": 47,
     "metadata": {},
     "output_type": "execute_result"
    }
   ],
   "source": [
    "## 즉 weights란 order_id에서 재구매 비율이 얼마나 되는지 False는 합에 추가되지 \n",
    "## 않기 때문에 True인 갯수를 가중치로 설정\n",
    "weights.head(2)"
   ]
  },
  {
   "cell_type": "code",
   "execution_count": 60,
   "metadata": {
    "collapsed": true
   },
   "outputs": [],
   "source": [
    "## 같은 작업을 prior 기록에도 적용\n",
    "prob = pd.merge(order_prior, orders, on='order_id')"
   ]
  },
  {
   "cell_type": "code",
   "execution_count": 61,
   "metadata": {
    "collapsed": false
   },
   "outputs": [
    {
     "data": {
      "text/html": [
       "<div>\n",
       "<style>\n",
       "    .dataframe thead tr:only-child th {\n",
       "        text-align: right;\n",
       "    }\n",
       "\n",
       "    .dataframe thead th {\n",
       "        text-align: left;\n",
       "    }\n",
       "\n",
       "    .dataframe tbody tr th {\n",
       "        vertical-align: top;\n",
       "    }\n",
       "</style>\n",
       "<table border=\"1\" class=\"dataframe\">\n",
       "  <thead>\n",
       "    <tr style=\"text-align: right;\">\n",
       "      <th></th>\n",
       "      <th>order_id</th>\n",
       "      <th>product_id</th>\n",
       "      <th>add_to_cart_order</th>\n",
       "      <th>reordered</th>\n",
       "      <th>user_id</th>\n",
       "      <th>eval_set</th>\n",
       "      <th>order_number</th>\n",
       "      <th>order_dow</th>\n",
       "      <th>order_hour_of_day</th>\n",
       "      <th>days_since_prior_order</th>\n",
       "    </tr>\n",
       "  </thead>\n",
       "  <tbody>\n",
       "    <tr>\n",
       "      <th>0</th>\n",
       "      <td>2</td>\n",
       "      <td>33120</td>\n",
       "      <td>1</td>\n",
       "      <td>True</td>\n",
       "      <td>202279</td>\n",
       "      <td>prior</td>\n",
       "      <td>3</td>\n",
       "      <td>5</td>\n",
       "      <td>9</td>\n",
       "      <td>8.0</td>\n",
       "    </tr>\n",
       "  </tbody>\n",
       "</table>\n",
       "</div>"
      ],
      "text/plain": [
       "   order_id  product_id  add_to_cart_order  reordered  user_id eval_set  \\\n",
       "0         2       33120                  1       True   202279    prior   \n",
       "\n",
       "   order_number  order_dow  order_hour_of_day  days_since_prior_order  \n",
       "0             3          5                  9                     8.0  "
      ]
     },
     "execution_count": 61,
     "metadata": {},
     "output_type": "execute_result"
    }
   ],
   "source": [
    "prob.head(1)"
   ]
  },
  {
   "cell_type": "code",
   "execution_count": 62,
   "metadata": {
    "collapsed": false
   },
   "outputs": [
    {
     "name": "stdout",
     "output_type": "stream",
     "text": [
      "CPU times: user 18.6 s, sys: 2.97 s, total: 21.6 s\n",
      "Wall time: 21.6 s\n"
     ]
    }
   ],
   "source": [
    "%%time\n",
    "## prob을'product_id', 'user_id'로 group_by 후 유저 당 reordered를 얼마나 하는지 계산\n",
    "prob = prob.groupby(['product_id', 'user_id']).agg({'reordered':'sum', 'user_id': 'size'})"
   ]
  },
  {
   "cell_type": "code",
   "execution_count": 63,
   "metadata": {
    "collapsed": false
   },
   "outputs": [
    {
     "data": {
      "text/html": [
       "<div>\n",
       "<style>\n",
       "    .dataframe thead tr:only-child th {\n",
       "        text-align: right;\n",
       "    }\n",
       "\n",
       "    .dataframe thead th {\n",
       "        text-align: left;\n",
       "    }\n",
       "\n",
       "    .dataframe tbody tr th {\n",
       "        vertical-align: top;\n",
       "    }\n",
       "</style>\n",
       "<table border=\"1\" class=\"dataframe\">\n",
       "  <thead>\n",
       "    <tr style=\"text-align: right;\">\n",
       "      <th></th>\n",
       "      <th></th>\n",
       "      <th>reordered</th>\n",
       "      <th>user_id</th>\n",
       "    </tr>\n",
       "    <tr>\n",
       "      <th>product_id</th>\n",
       "      <th>user_id</th>\n",
       "      <th></th>\n",
       "      <th></th>\n",
       "    </tr>\n",
       "  </thead>\n",
       "  <tbody>\n",
       "    <tr>\n",
       "      <th rowspan=\"5\" valign=\"top\">1</th>\n",
       "      <th>138</th>\n",
       "      <td>1.0</td>\n",
       "      <td>2</td>\n",
       "    </tr>\n",
       "    <tr>\n",
       "      <th>709</th>\n",
       "      <td>0.0</td>\n",
       "      <td>1</td>\n",
       "    </tr>\n",
       "    <tr>\n",
       "      <th>764</th>\n",
       "      <td>1.0</td>\n",
       "      <td>2</td>\n",
       "    </tr>\n",
       "    <tr>\n",
       "      <th>777</th>\n",
       "      <td>0.0</td>\n",
       "      <td>1</td>\n",
       "    </tr>\n",
       "    <tr>\n",
       "      <th>825</th>\n",
       "      <td>0.0</td>\n",
       "      <td>1</td>\n",
       "    </tr>\n",
       "  </tbody>\n",
       "</table>\n",
       "</div>"
      ],
      "text/plain": [
       "                    reordered  user_id\n",
       "product_id user_id                    \n",
       "1          138            1.0        2\n",
       "           709            0.0        1\n",
       "           764            1.0        2\n",
       "           777            0.0        1\n",
       "           825            0.0        1"
      ]
     },
     "execution_count": 63,
     "metadata": {},
     "output_type": "execute_result"
    }
   ],
   "source": [
    "prob.head()"
   ]
  },
  {
   "cell_type": "code",
   "execution_count": 64,
   "metadata": {
    "collapsed": true
   },
   "outputs": [],
   "source": [
    "prob.rename(columns={'sum': 'reordered','user_id': 'total'}, inplace=True)"
   ]
  },
  {
   "cell_type": "code",
   "execution_count": 65,
   "metadata": {
    "collapsed": false
   },
   "outputs": [
    {
     "data": {
      "text/html": [
       "<div>\n",
       "<style>\n",
       "    .dataframe thead tr:only-child th {\n",
       "        text-align: right;\n",
       "    }\n",
       "\n",
       "    .dataframe thead th {\n",
       "        text-align: left;\n",
       "    }\n",
       "\n",
       "    .dataframe tbody tr th {\n",
       "        vertical-align: top;\n",
       "    }\n",
       "</style>\n",
       "<table border=\"1\" class=\"dataframe\">\n",
       "  <thead>\n",
       "    <tr style=\"text-align: right;\">\n",
       "      <th></th>\n",
       "      <th></th>\n",
       "      <th>reordered</th>\n",
       "      <th>total</th>\n",
       "    </tr>\n",
       "    <tr>\n",
       "      <th>product_id</th>\n",
       "      <th>user_id</th>\n",
       "      <th></th>\n",
       "      <th></th>\n",
       "    </tr>\n",
       "  </thead>\n",
       "  <tbody>\n",
       "    <tr>\n",
       "      <th rowspan=\"5\" valign=\"top\">1</th>\n",
       "      <th>138</th>\n",
       "      <td>1.0</td>\n",
       "      <td>2</td>\n",
       "    </tr>\n",
       "    <tr>\n",
       "      <th>709</th>\n",
       "      <td>0.0</td>\n",
       "      <td>1</td>\n",
       "    </tr>\n",
       "    <tr>\n",
       "      <th>764</th>\n",
       "      <td>1.0</td>\n",
       "      <td>2</td>\n",
       "    </tr>\n",
       "    <tr>\n",
       "      <th>777</th>\n",
       "      <td>0.0</td>\n",
       "      <td>1</td>\n",
       "    </tr>\n",
       "    <tr>\n",
       "      <th>825</th>\n",
       "      <td>0.0</td>\n",
       "      <td>1</td>\n",
       "    </tr>\n",
       "  </tbody>\n",
       "</table>\n",
       "</div>"
      ],
      "text/plain": [
       "                    reordered  total\n",
       "product_id user_id                  \n",
       "1          138            1.0      2\n",
       "           709            0.0      1\n",
       "           764            1.0      2\n",
       "           777            0.0      1\n",
       "           825            0.0      1"
      ]
     },
     "execution_count": 65,
     "metadata": {},
     "output_type": "execute_result"
    }
   ],
   "source": [
    "prob.head()"
   ]
  },
  {
   "cell_type": "code",
   "execution_count": 66,
   "metadata": {
    "collapsed": false
   },
   "outputs": [
    {
     "name": "stdout",
     "output_type": "stream",
     "text": [
      "<class 'pandas.core.frame.DataFrame'>\n",
      "MultiIndex: 13307953 entries, (1, 138) to (49688, 205926)\n",
      "Data columns (total 2 columns):\n",
      "reordered    float64\n",
      "total        int64\n",
      "dtypes: float64(1), int64(1)\n",
      "memory usage: 306.5 MB\n"
     ]
    }
   ],
   "source": [
    "prob.info()"
   ]
  },
  {
   "cell_type": "code",
   "execution_count": 67,
   "metadata": {
    "collapsed": true
   },
   "outputs": [],
   "source": [
    "## 메모리 관리 + 속도 때문에 타입을 바꿔준다.\n",
    "## 또한 재구매가 된 경우 True : 1.0 한번도 안된 경우 False: 0.0 으로 더미코딩 한다.\n",
    "prob.reordered = (prob.reordered > 0).astype(np.float32)"
   ]
  },
  {
   "cell_type": "code",
   "execution_count": 71,
   "metadata": {
    "collapsed": false
   },
   "outputs": [
    {
     "data": {
      "text/plain": [
       "product_id  user_id\n",
       "1           138         True\n",
       "            709        False\n",
       "            764         True\n",
       "            777        False\n",
       "            825        False\n",
       "Name: reordered, dtype: bool"
      ]
     },
     "execution_count": 71,
     "metadata": {},
     "output_type": "execute_result"
    }
   ],
   "source": [
    "(prob.reordered > 0).head()"
   ]
  },
  {
   "cell_type": "code",
   "execution_count": 72,
   "metadata": {
    "collapsed": false
   },
   "outputs": [
    {
     "name": "stdout",
     "output_type": "stream",
     "text": [
      "<class 'pandas.core.frame.DataFrame'>\n",
      "MultiIndex: 13307953 entries, (1, 138) to (49688, 205926)\n",
      "Data columns (total 2 columns):\n",
      "reordered    float32\n",
      "total        int64\n",
      "dtypes: float32(1), int64(1)\n",
      "memory usage: 257.0 MB\n"
     ]
    }
   ],
   "source": [
    "## 50MB 정도 감소함\n",
    "prob.info()"
   ]
  },
  {
   "cell_type": "code",
   "execution_count": 73,
   "metadata": {
    "collapsed": false
   },
   "outputs": [
    {
     "data": {
      "text/html": [
       "<div>\n",
       "<style>\n",
       "    .dataframe thead tr:only-child th {\n",
       "        text-align: right;\n",
       "    }\n",
       "\n",
       "    .dataframe thead th {\n",
       "        text-align: left;\n",
       "    }\n",
       "\n",
       "    .dataframe tbody tr th {\n",
       "        vertical-align: top;\n",
       "    }\n",
       "</style>\n",
       "<table border=\"1\" class=\"dataframe\">\n",
       "  <thead>\n",
       "    <tr style=\"text-align: right;\">\n",
       "      <th></th>\n",
       "      <th></th>\n",
       "      <th>reordered</th>\n",
       "      <th>total</th>\n",
       "    </tr>\n",
       "    <tr>\n",
       "      <th>product_id</th>\n",
       "      <th>user_id</th>\n",
       "      <th></th>\n",
       "      <th></th>\n",
       "    </tr>\n",
       "  </thead>\n",
       "  <tbody>\n",
       "    <tr>\n",
       "      <th rowspan=\"5\" valign=\"top\">1</th>\n",
       "      <th>138</th>\n",
       "      <td>1.0</td>\n",
       "      <td>2</td>\n",
       "    </tr>\n",
       "    <tr>\n",
       "      <th>709</th>\n",
       "      <td>0.0</td>\n",
       "      <td>1</td>\n",
       "    </tr>\n",
       "    <tr>\n",
       "      <th>764</th>\n",
       "      <td>1.0</td>\n",
       "      <td>2</td>\n",
       "    </tr>\n",
       "    <tr>\n",
       "      <th>777</th>\n",
       "      <td>0.0</td>\n",
       "      <td>1</td>\n",
       "    </tr>\n",
       "    <tr>\n",
       "      <th>825</th>\n",
       "      <td>0.0</td>\n",
       "      <td>1</td>\n",
       "    </tr>\n",
       "  </tbody>\n",
       "</table>\n",
       "</div>"
      ],
      "text/plain": [
       "                    reordered  total\n",
       "product_id user_id                  \n",
       "1          138            1.0      2\n",
       "           709            0.0      1\n",
       "           764            1.0      2\n",
       "           777            0.0      1\n",
       "           825            0.0      1"
      ]
     },
     "execution_count": 73,
     "metadata": {},
     "output_type": "execute_result"
    }
   ],
   "source": [
    "prob.head()"
   ]
  },
  {
   "cell_type": "code",
   "execution_count": 74,
   "metadata": {
    "collapsed": true
   },
   "outputs": [],
   "source": [
    "prob.total = (prob.total > 0).astype(np.float32)"
   ]
  },
  {
   "cell_type": "code",
   "execution_count": 75,
   "metadata": {
    "collapsed": false
   },
   "outputs": [
    {
     "data": {
      "text/html": [
       "<div>\n",
       "<style>\n",
       "    .dataframe thead tr:only-child th {\n",
       "        text-align: right;\n",
       "    }\n",
       "\n",
       "    .dataframe thead th {\n",
       "        text-align: left;\n",
       "    }\n",
       "\n",
       "    .dataframe tbody tr th {\n",
       "        vertical-align: top;\n",
       "    }\n",
       "</style>\n",
       "<table border=\"1\" class=\"dataframe\">\n",
       "  <thead>\n",
       "    <tr style=\"text-align: right;\">\n",
       "      <th></th>\n",
       "      <th></th>\n",
       "      <th>reordered</th>\n",
       "      <th>total</th>\n",
       "    </tr>\n",
       "    <tr>\n",
       "      <th>product_id</th>\n",
       "      <th>user_id</th>\n",
       "      <th></th>\n",
       "      <th></th>\n",
       "    </tr>\n",
       "  </thead>\n",
       "  <tbody>\n",
       "    <tr>\n",
       "      <th rowspan=\"5\" valign=\"top\">1</th>\n",
       "      <th>138</th>\n",
       "      <td>1.0</td>\n",
       "      <td>1.0</td>\n",
       "    </tr>\n",
       "    <tr>\n",
       "      <th>709</th>\n",
       "      <td>0.0</td>\n",
       "      <td>1.0</td>\n",
       "    </tr>\n",
       "    <tr>\n",
       "      <th>764</th>\n",
       "      <td>1.0</td>\n",
       "      <td>1.0</td>\n",
       "    </tr>\n",
       "    <tr>\n",
       "      <th>777</th>\n",
       "      <td>0.0</td>\n",
       "      <td>1.0</td>\n",
       "    </tr>\n",
       "    <tr>\n",
       "      <th>825</th>\n",
       "      <td>0.0</td>\n",
       "      <td>1.0</td>\n",
       "    </tr>\n",
       "  </tbody>\n",
       "</table>\n",
       "</div>"
      ],
      "text/plain": [
       "                    reordered  total\n",
       "product_id user_id                  \n",
       "1          138            1.0    1.0\n",
       "           709            0.0    1.0\n",
       "           764            1.0    1.0\n",
       "           777            0.0    1.0\n",
       "           825            0.0    1.0"
      ]
     },
     "execution_count": 75,
     "metadata": {},
     "output_type": "execute_result"
    }
   ],
   "source": [
    "prob.head()"
   ]
  },
  {
   "cell_type": "code",
   "execution_count": 76,
   "metadata": {
    "collapsed": true
   },
   "outputs": [],
   "source": [
    "prob['reorder_prob'] = prob.reordered / prob.total"
   ]
  },
  {
   "cell_type": "code",
   "execution_count": 77,
   "metadata": {
    "collapsed": false
   },
   "outputs": [
    {
     "data": {
      "text/html": [
       "<div>\n",
       "<style>\n",
       "    .dataframe thead tr:only-child th {\n",
       "        text-align: right;\n",
       "    }\n",
       "\n",
       "    .dataframe thead th {\n",
       "        text-align: left;\n",
       "    }\n",
       "\n",
       "    .dataframe tbody tr th {\n",
       "        vertical-align: top;\n",
       "    }\n",
       "</style>\n",
       "<table border=\"1\" class=\"dataframe\">\n",
       "  <thead>\n",
       "    <tr style=\"text-align: right;\">\n",
       "      <th></th>\n",
       "      <th></th>\n",
       "      <th>reordered</th>\n",
       "      <th>total</th>\n",
       "      <th>reorder_prob</th>\n",
       "    </tr>\n",
       "    <tr>\n",
       "      <th>product_id</th>\n",
       "      <th>user_id</th>\n",
       "      <th></th>\n",
       "      <th></th>\n",
       "      <th></th>\n",
       "    </tr>\n",
       "  </thead>\n",
       "  <tbody>\n",
       "    <tr>\n",
       "      <th rowspan=\"5\" valign=\"top\">1</th>\n",
       "      <th>138</th>\n",
       "      <td>1.0</td>\n",
       "      <td>1.0</td>\n",
       "      <td>1.0</td>\n",
       "    </tr>\n",
       "    <tr>\n",
       "      <th>709</th>\n",
       "      <td>0.0</td>\n",
       "      <td>1.0</td>\n",
       "      <td>0.0</td>\n",
       "    </tr>\n",
       "    <tr>\n",
       "      <th>764</th>\n",
       "      <td>1.0</td>\n",
       "      <td>1.0</td>\n",
       "      <td>1.0</td>\n",
       "    </tr>\n",
       "    <tr>\n",
       "      <th>777</th>\n",
       "      <td>0.0</td>\n",
       "      <td>1.0</td>\n",
       "      <td>0.0</td>\n",
       "    </tr>\n",
       "    <tr>\n",
       "      <th>825</th>\n",
       "      <td>0.0</td>\n",
       "      <td>1.0</td>\n",
       "      <td>0.0</td>\n",
       "    </tr>\n",
       "  </tbody>\n",
       "</table>\n",
       "</div>"
      ],
      "text/plain": [
       "                    reordered  total  reorder_prob\n",
       "product_id user_id                                \n",
       "1          138            1.0    1.0           1.0\n",
       "           709            0.0    1.0           0.0\n",
       "           764            1.0    1.0           1.0\n",
       "           777            0.0    1.0           0.0\n",
       "           825            0.0    1.0           0.0"
      ]
     },
     "execution_count": 77,
     "metadata": {},
     "output_type": "execute_result"
    }
   ],
   "source": [
    "prob.head()"
   ]
  },
  {
   "cell_type": "code",
   "execution_count": 78,
   "metadata": {
    "collapsed": true
   },
   "outputs": [],
   "source": [
    "## 상품당 유저들이 얼마나 재구매했는지 확률로 계산\n",
    "prob = prob.groupby('product_id').agg({'reorder_prob': 'mean'}).rename(columns={'mean': 'reorder_prob'}).reset_index()"
   ]
  },
  {
   "cell_type": "code",
   "execution_count": 79,
   "metadata": {
    "collapsed": false
   },
   "outputs": [
    {
     "data": {
      "text/html": [
       "<div>\n",
       "<style>\n",
       "    .dataframe thead tr:only-child th {\n",
       "        text-align: right;\n",
       "    }\n",
       "\n",
       "    .dataframe thead th {\n",
       "        text-align: left;\n",
       "    }\n",
       "\n",
       "    .dataframe tbody tr th {\n",
       "        vertical-align: top;\n",
       "    }\n",
       "</style>\n",
       "<table border=\"1\" class=\"dataframe\">\n",
       "  <thead>\n",
       "    <tr style=\"text-align: right;\">\n",
       "      <th></th>\n",
       "      <th>product_id</th>\n",
       "      <th>reorder_prob</th>\n",
       "    </tr>\n",
       "  </thead>\n",
       "  <tbody>\n",
       "    <tr>\n",
       "      <th>0</th>\n",
       "      <td>1</td>\n",
       "      <td>0.385475</td>\n",
       "    </tr>\n",
       "    <tr>\n",
       "      <th>1</th>\n",
       "      <td>2</td>\n",
       "      <td>0.102564</td>\n",
       "    </tr>\n",
       "    <tr>\n",
       "      <th>2</th>\n",
       "      <td>3</td>\n",
       "      <td>0.486486</td>\n",
       "    </tr>\n",
       "    <tr>\n",
       "      <th>3</th>\n",
       "      <td>4</td>\n",
       "      <td>0.351648</td>\n",
       "    </tr>\n",
       "    <tr>\n",
       "      <th>4</th>\n",
       "      <td>5</td>\n",
       "      <td>0.666667</td>\n",
       "    </tr>\n",
       "  </tbody>\n",
       "</table>\n",
       "</div>"
      ],
      "text/plain": [
       "   product_id  reorder_prob\n",
       "0           1      0.385475\n",
       "1           2      0.102564\n",
       "2           3      0.486486\n",
       "3           4      0.351648\n",
       "4           5      0.666667"
      ]
     },
     "execution_count": 79,
     "metadata": {},
     "output_type": "execute_result"
    }
   ],
   "source": [
    "prob.head()"
   ]
  },
  {
   "cell_type": "code",
   "execution_count": 80,
   "metadata": {
    "collapsed": false
   },
   "outputs": [
    {
     "data": {
      "text/html": [
       "<div>\n",
       "<style>\n",
       "    .dataframe thead tr:only-child th {\n",
       "        text-align: right;\n",
       "    }\n",
       "\n",
       "    .dataframe thead th {\n",
       "        text-align: left;\n",
       "    }\n",
       "\n",
       "    .dataframe tbody tr th {\n",
       "        vertical-align: top;\n",
       "    }\n",
       "</style>\n",
       "<table border=\"1\" class=\"dataframe\">\n",
       "  <thead>\n",
       "    <tr style=\"text-align: right;\">\n",
       "      <th></th>\n",
       "      <th>order_id</th>\n",
       "      <th>product_id</th>\n",
       "      <th>add_to_cart_order</th>\n",
       "      <th>reordered</th>\n",
       "    </tr>\n",
       "  </thead>\n",
       "  <tbody>\n",
       "    <tr>\n",
       "      <th>0</th>\n",
       "      <td>2</td>\n",
       "      <td>33120</td>\n",
       "      <td>1</td>\n",
       "      <td>True</td>\n",
       "    </tr>\n",
       "  </tbody>\n",
       "</table>\n",
       "</div>"
      ],
      "text/plain": [
       "   order_id  product_id  add_to_cart_order  reordered\n",
       "0         2       33120                  1       True"
      ]
     },
     "execution_count": 80,
     "metadata": {},
     "output_type": "execute_result"
    }
   ],
   "source": [
    "order_prior.head(1)"
   ]
  },
  {
   "cell_type": "code",
   "execution_count": 81,
   "metadata": {
    "collapsed": false
   },
   "outputs": [
    {
     "name": "stdout",
     "output_type": "stream",
     "text": [
      "CPU times: user 5.43 s, sys: 1.66 s, total: 7.08 s\n",
      "Wall time: 7.08 s\n"
     ]
    }
   ],
   "source": [
    "%%time\n",
    "## sum : reordered된 횟수의 총 합\n",
    "## size : 1개의 상품당 몇 변의 오더에 속하는가? 즉 얼마나 많이 팔렸나?\n",
    "## add_to_cart_order의 평균 : 평균 몇 번째로 장바구니에 담기는가? -> EDA에서 재구매일 수록 먼저담김을 확인했기 때문에 \n",
    "prod_stat = order_prior.groupby('product_id').agg({'reordered': ['sum', 'size'],'add_to_cart_order':'mean'})"
   ]
  },
  {
   "cell_type": "code",
   "execution_count": 83,
   "metadata": {
    "collapsed": false
   },
   "outputs": [
    {
     "data": {
      "text/html": [
       "<div>\n",
       "<style>\n",
       "    .dataframe thead tr:only-child th {\n",
       "        text-align: right;\n",
       "    }\n",
       "\n",
       "    .dataframe thead th {\n",
       "        text-align: left;\n",
       "    }\n",
       "\n",
       "    .dataframe tbody tr th {\n",
       "        vertical-align: top;\n",
       "    }\n",
       "</style>\n",
       "<table border=\"1\" class=\"dataframe\">\n",
       "  <thead>\n",
       "    <tr>\n",
       "      <th></th>\n",
       "      <th colspan=\"2\" halign=\"left\">reordered</th>\n",
       "      <th>add_to_cart_order</th>\n",
       "    </tr>\n",
       "    <tr>\n",
       "      <th></th>\n",
       "      <th>sum</th>\n",
       "      <th>size</th>\n",
       "      <th>mean</th>\n",
       "    </tr>\n",
       "    <tr>\n",
       "      <th>product_id</th>\n",
       "      <th></th>\n",
       "      <th></th>\n",
       "      <th></th>\n",
       "    </tr>\n",
       "  </thead>\n",
       "  <tbody>\n",
       "    <tr>\n",
       "      <th>1</th>\n",
       "      <td>1136.0</td>\n",
       "      <td>1852</td>\n",
       "      <td>5.801836</td>\n",
       "    </tr>\n",
       "    <tr>\n",
       "      <th>2</th>\n",
       "      <td>12.0</td>\n",
       "      <td>90</td>\n",
       "      <td>9.888889</td>\n",
       "    </tr>\n",
       "    <tr>\n",
       "      <th>3</th>\n",
       "      <td>203.0</td>\n",
       "      <td>277</td>\n",
       "      <td>6.415162</td>\n",
       "    </tr>\n",
       "    <tr>\n",
       "      <th>4</th>\n",
       "      <td>147.0</td>\n",
       "      <td>329</td>\n",
       "      <td>9.507599</td>\n",
       "    </tr>\n",
       "    <tr>\n",
       "      <th>5</th>\n",
       "      <td>9.0</td>\n",
       "      <td>15</td>\n",
       "      <td>6.466667</td>\n",
       "    </tr>\n",
       "  </tbody>\n",
       "</table>\n",
       "</div>"
      ],
      "text/plain": [
       "           reordered       add_to_cart_order\n",
       "                 sum  size              mean\n",
       "product_id                                  \n",
       "1             1136.0  1852          5.801836\n",
       "2               12.0    90          9.888889\n",
       "3              203.0   277          6.415162\n",
       "4              147.0   329          9.507599\n",
       "5                9.0    15          6.466667"
      ]
     },
     "execution_count": 83,
     "metadata": {},
     "output_type": "execute_result"
    }
   ],
   "source": [
    "prod_stat.head()"
   ]
  },
  {
   "cell_type": "code",
   "execution_count": 92,
   "metadata": {
    "collapsed": true
   },
   "outputs": [],
   "source": [
    "prod_stat.columns = prod_stat.columns.levels[1]"
   ]
  },
  {
   "cell_type": "code",
   "execution_count": 94,
   "metadata": {
    "collapsed": false
   },
   "outputs": [
    {
     "data": {
      "text/html": [
       "<div>\n",
       "<style>\n",
       "    .dataframe thead tr:only-child th {\n",
       "        text-align: right;\n",
       "    }\n",
       "\n",
       "    .dataframe thead th {\n",
       "        text-align: left;\n",
       "    }\n",
       "\n",
       "    .dataframe tbody tr th {\n",
       "        vertical-align: top;\n",
       "    }\n",
       "</style>\n",
       "<table border=\"1\" class=\"dataframe\">\n",
       "  <thead>\n",
       "    <tr style=\"text-align: right;\">\n",
       "      <th></th>\n",
       "      <th>mean</th>\n",
       "      <th>size</th>\n",
       "      <th>sum</th>\n",
       "    </tr>\n",
       "    <tr>\n",
       "      <th>product_id</th>\n",
       "      <th></th>\n",
       "      <th></th>\n",
       "      <th></th>\n",
       "    </tr>\n",
       "  </thead>\n",
       "  <tbody>\n",
       "    <tr>\n",
       "      <th>1</th>\n",
       "      <td>1136.0</td>\n",
       "      <td>1852</td>\n",
       "      <td>5.801836</td>\n",
       "    </tr>\n",
       "    <tr>\n",
       "      <th>2</th>\n",
       "      <td>12.0</td>\n",
       "      <td>90</td>\n",
       "      <td>9.888889</td>\n",
       "    </tr>\n",
       "    <tr>\n",
       "      <th>3</th>\n",
       "      <td>203.0</td>\n",
       "      <td>277</td>\n",
       "      <td>6.415162</td>\n",
       "    </tr>\n",
       "    <tr>\n",
       "      <th>4</th>\n",
       "      <td>147.0</td>\n",
       "      <td>329</td>\n",
       "      <td>9.507599</td>\n",
       "    </tr>\n",
       "    <tr>\n",
       "      <th>5</th>\n",
       "      <td>9.0</td>\n",
       "      <td>15</td>\n",
       "      <td>6.466667</td>\n",
       "    </tr>\n",
       "  </tbody>\n",
       "</table>\n",
       "</div>"
      ],
      "text/plain": [
       "              mean  size       sum\n",
       "product_id                        \n",
       "1           1136.0  1852  5.801836\n",
       "2             12.0    90  9.888889\n",
       "3            203.0   277  6.415162\n",
       "4            147.0   329  9.507599\n",
       "5              9.0    15  6.466667"
      ]
     },
     "execution_count": 94,
     "metadata": {},
     "output_type": "execute_result"
    }
   ],
   "source": [
    "prod_stat.head()"
   ]
  },
  {
   "cell_type": "code",
   "execution_count": 95,
   "metadata": {
    "collapsed": true
   },
   "outputs": [],
   "source": [
    "prod_stat.rename(columns={'sum':'prod_reorders',\n",
    "                              'size':'prod_orders',\n",
    "                              'mean': 'prod_add_to_card_mean'}, inplace=True)"
   ]
  },
  {
   "cell_type": "code",
   "execution_count": 96,
   "metadata": {
    "collapsed": false
   },
   "outputs": [
    {
     "data": {
      "text/html": [
       "<div>\n",
       "<style>\n",
       "    .dataframe thead tr:only-child th {\n",
       "        text-align: right;\n",
       "    }\n",
       "\n",
       "    .dataframe thead th {\n",
       "        text-align: left;\n",
       "    }\n",
       "\n",
       "    .dataframe tbody tr th {\n",
       "        vertical-align: top;\n",
       "    }\n",
       "</style>\n",
       "<table border=\"1\" class=\"dataframe\">\n",
       "  <thead>\n",
       "    <tr style=\"text-align: right;\">\n",
       "      <th></th>\n",
       "      <th>prod_add_to_card_mean</th>\n",
       "      <th>prod_orders</th>\n",
       "      <th>prod_reorders</th>\n",
       "    </tr>\n",
       "    <tr>\n",
       "      <th>product_id</th>\n",
       "      <th></th>\n",
       "      <th></th>\n",
       "      <th></th>\n",
       "    </tr>\n",
       "  </thead>\n",
       "  <tbody>\n",
       "    <tr>\n",
       "      <th>1</th>\n",
       "      <td>1136.0</td>\n",
       "      <td>1852</td>\n",
       "      <td>5.801836</td>\n",
       "    </tr>\n",
       "    <tr>\n",
       "      <th>2</th>\n",
       "      <td>12.0</td>\n",
       "      <td>90</td>\n",
       "      <td>9.888889</td>\n",
       "    </tr>\n",
       "    <tr>\n",
       "      <th>3</th>\n",
       "      <td>203.0</td>\n",
       "      <td>277</td>\n",
       "      <td>6.415162</td>\n",
       "    </tr>\n",
       "    <tr>\n",
       "      <th>4</th>\n",
       "      <td>147.0</td>\n",
       "      <td>329</td>\n",
       "      <td>9.507599</td>\n",
       "    </tr>\n",
       "    <tr>\n",
       "      <th>5</th>\n",
       "      <td>9.0</td>\n",
       "      <td>15</td>\n",
       "      <td>6.466667</td>\n",
       "    </tr>\n",
       "  </tbody>\n",
       "</table>\n",
       "</div>"
      ],
      "text/plain": [
       "            prod_add_to_card_mean  prod_orders  prod_reorders\n",
       "product_id                                                   \n",
       "1                          1136.0         1852       5.801836\n",
       "2                            12.0           90       9.888889\n",
       "3                           203.0          277       6.415162\n",
       "4                           147.0          329       9.507599\n",
       "5                             9.0           15       6.466667"
      ]
     },
     "execution_count": 96,
     "metadata": {},
     "output_type": "execute_result"
    }
   ],
   "source": [
    "prod_stat.head()"
   ]
  },
  {
   "cell_type": "code",
   "execution_count": 97,
   "metadata": {
    "collapsed": true
   },
   "outputs": [],
   "source": [
    "prod_stat.reset_index(inplace=True)"
   ]
  },
  {
   "cell_type": "code",
   "execution_count": 99,
   "metadata": {
    "collapsed": false
   },
   "outputs": [
    {
     "data": {
      "text/html": [
       "<div>\n",
       "<style>\n",
       "    .dataframe thead tr:only-child th {\n",
       "        text-align: right;\n",
       "    }\n",
       "\n",
       "    .dataframe thead th {\n",
       "        text-align: left;\n",
       "    }\n",
       "\n",
       "    .dataframe tbody tr th {\n",
       "        vertical-align: top;\n",
       "    }\n",
       "</style>\n",
       "<table border=\"1\" class=\"dataframe\">\n",
       "  <thead>\n",
       "    <tr style=\"text-align: right;\">\n",
       "      <th></th>\n",
       "      <th>product_id</th>\n",
       "      <th>prod_add_to_card_mean</th>\n",
       "      <th>prod_orders</th>\n",
       "      <th>prod_reorders</th>\n",
       "    </tr>\n",
       "  </thead>\n",
       "  <tbody>\n",
       "    <tr>\n",
       "      <th>0</th>\n",
       "      <td>1</td>\n",
       "      <td>1136.0</td>\n",
       "      <td>1852</td>\n",
       "      <td>5.801836</td>\n",
       "    </tr>\n",
       "  </tbody>\n",
       "</table>\n",
       "</div>"
      ],
      "text/plain": [
       "   product_id  prod_add_to_card_mean  prod_orders  prod_reorders\n",
       "0           1                 1136.0         1852       5.801836"
      ]
     },
     "execution_count": 99,
     "metadata": {},
     "output_type": "execute_result"
    }
   ],
   "source": [
    "prod_stat.head(1)"
   ]
  },
  {
   "cell_type": "code",
   "execution_count": 84,
   "metadata": {
    "collapsed": true
   },
   "outputs": [],
   "source": [
    "## size 설명 : 1개의 상품당 몇 변의 오더에 속하는가? 즉 얼마나 많이 팔렸나?\n",
    "gb = order_prior.groupby('product_id')"
   ]
  },
  {
   "cell_type": "code",
   "execution_count": 91,
   "metadata": {
    "collapsed": false
   },
   "outputs": [
    {
     "data": {
      "text/html": [
       "<div>\n",
       "<style>\n",
       "    .dataframe thead tr:only-child th {\n",
       "        text-align: right;\n",
       "    }\n",
       "\n",
       "    .dataframe thead th {\n",
       "        text-align: left;\n",
       "    }\n",
       "\n",
       "    .dataframe tbody tr th {\n",
       "        vertical-align: top;\n",
       "    }\n",
       "</style>\n",
       "<table border=\"1\" class=\"dataframe\">\n",
       "  <thead>\n",
       "    <tr style=\"text-align: right;\">\n",
       "      <th></th>\n",
       "      <th>order_id</th>\n",
       "      <th>product_id</th>\n",
       "      <th>add_to_cart_order</th>\n",
       "      <th>reordered</th>\n",
       "    </tr>\n",
       "  </thead>\n",
       "  <tbody>\n",
       "    <tr>\n",
       "      <th>10708</th>\n",
       "      <td>1107</td>\n",
       "      <td>1</td>\n",
       "      <td>7</td>\n",
       "      <td>False</td>\n",
       "    </tr>\n",
       "    <tr>\n",
       "      <th>50379</th>\n",
       "      <td>5319</td>\n",
       "      <td>1</td>\n",
       "      <td>3</td>\n",
       "      <td>True</td>\n",
       "    </tr>\n",
       "    <tr>\n",
       "      <th>70912</th>\n",
       "      <td>7540</td>\n",
       "      <td>1</td>\n",
       "      <td>4</td>\n",
       "      <td>True</td>\n",
       "    </tr>\n",
       "    <tr>\n",
       "      <th>86636</th>\n",
       "      <td>9228</td>\n",
       "      <td>1</td>\n",
       "      <td>2</td>\n",
       "      <td>False</td>\n",
       "    </tr>\n",
       "    <tr>\n",
       "      <th>87149</th>\n",
       "      <td>9273</td>\n",
       "      <td>1</td>\n",
       "      <td>30</td>\n",
       "      <td>False</td>\n",
       "    </tr>\n",
       "  </tbody>\n",
       "</table>\n",
       "</div>"
      ],
      "text/plain": [
       "       order_id  product_id  add_to_cart_order  reordered\n",
       "10708      1107           1                  7      False\n",
       "50379      5319           1                  3       True\n",
       "70912      7540           1                  4       True\n",
       "86636      9228           1                  2      False\n",
       "87149      9273           1                 30      False"
      ]
     },
     "execution_count": 91,
     "metadata": {},
     "output_type": "execute_result"
    }
   ],
   "source": [
    "gb.get_group(1).head()"
   ]
  },
  {
   "cell_type": "code",
   "execution_count": 90,
   "metadata": {
    "collapsed": false
   },
   "outputs": [
    {
     "data": {
      "text/plain": [
       "(1852, 4)"
      ]
     },
     "execution_count": 90,
     "metadata": {},
     "output_type": "execute_result"
    }
   ],
   "source": [
    "gb.get_group(1).shape"
   ]
  },
  {
   "cell_type": "code",
   "execution_count": 100,
   "metadata": {
    "collapsed": true
   },
   "outputs": [],
   "source": [
    "prod_stat['reorder_ration'] = prod_stat['prod_reorders'] / prod_stat['prod_orders']"
   ]
  },
  {
   "cell_type": "code",
   "execution_count": 101,
   "metadata": {
    "collapsed": false
   },
   "outputs": [
    {
     "data": {
      "text/html": [
       "<div>\n",
       "<style>\n",
       "    .dataframe thead tr:only-child th {\n",
       "        text-align: right;\n",
       "    }\n",
       "\n",
       "    .dataframe thead th {\n",
       "        text-align: left;\n",
       "    }\n",
       "\n",
       "    .dataframe tbody tr th {\n",
       "        vertical-align: top;\n",
       "    }\n",
       "</style>\n",
       "<table border=\"1\" class=\"dataframe\">\n",
       "  <thead>\n",
       "    <tr style=\"text-align: right;\">\n",
       "      <th></th>\n",
       "      <th>product_id</th>\n",
       "      <th>prod_add_to_card_mean</th>\n",
       "      <th>prod_orders</th>\n",
       "      <th>prod_reorders</th>\n",
       "      <th>reorder_ration</th>\n",
       "    </tr>\n",
       "  </thead>\n",
       "  <tbody>\n",
       "    <tr>\n",
       "      <th>0</th>\n",
       "      <td>1</td>\n",
       "      <td>1136.0</td>\n",
       "      <td>1852</td>\n",
       "      <td>5.801836</td>\n",
       "      <td>0.003133</td>\n",
       "    </tr>\n",
       "  </tbody>\n",
       "</table>\n",
       "</div>"
      ],
      "text/plain": [
       "   product_id  prod_add_to_card_mean  prod_orders  prod_reorders  \\\n",
       "0           1                 1136.0         1852       5.801836   \n",
       "\n",
       "   reorder_ration  \n",
       "0        0.003133  "
      ]
     },
     "execution_count": 101,
     "metadata": {},
     "output_type": "execute_result"
    }
   ],
   "source": [
    "prod_stat.head(1)"
   ]
  },
  {
   "cell_type": "code",
   "execution_count": 102,
   "metadata": {
    "collapsed": true
   },
   "outputs": [],
   "source": [
    "prod_stat = pd.merge(prod_stat, prob, on='product_id')"
   ]
  },
  {
   "cell_type": "code",
   "execution_count": 103,
   "metadata": {
    "collapsed": false
   },
   "outputs": [
    {
     "data": {
      "text/html": [
       "<div>\n",
       "<style>\n",
       "    .dataframe thead tr:only-child th {\n",
       "        text-align: right;\n",
       "    }\n",
       "\n",
       "    .dataframe thead th {\n",
       "        text-align: left;\n",
       "    }\n",
       "\n",
       "    .dataframe tbody tr th {\n",
       "        vertical-align: top;\n",
       "    }\n",
       "</style>\n",
       "<table border=\"1\" class=\"dataframe\">\n",
       "  <thead>\n",
       "    <tr style=\"text-align: right;\">\n",
       "      <th></th>\n",
       "      <th>product_id</th>\n",
       "      <th>prod_add_to_card_mean</th>\n",
       "      <th>prod_orders</th>\n",
       "      <th>prod_reorders</th>\n",
       "      <th>reorder_ration</th>\n",
       "      <th>reorder_prob</th>\n",
       "    </tr>\n",
       "  </thead>\n",
       "  <tbody>\n",
       "    <tr>\n",
       "      <th>0</th>\n",
       "      <td>1</td>\n",
       "      <td>1136.0</td>\n",
       "      <td>1852</td>\n",
       "      <td>5.801836</td>\n",
       "      <td>0.003133</td>\n",
       "      <td>0.385475</td>\n",
       "    </tr>\n",
       "  </tbody>\n",
       "</table>\n",
       "</div>"
      ],
      "text/plain": [
       "   product_id  prod_add_to_card_mean  prod_orders  prod_reorders  \\\n",
       "0           1                 1136.0         1852       5.801836   \n",
       "\n",
       "   reorder_ration  reorder_prob  \n",
       "0        0.003133      0.385475  "
      ]
     },
     "execution_count": 103,
     "metadata": {},
     "output_type": "execute_result"
    }
   ],
   "source": [
    "prod_stat.head(1)"
   ]
  },
  {
   "cell_type": "code",
   "execution_count": null,
   "metadata": {
    "collapsed": true
   },
   "outputs": [],
   "source": [
    "## prod_stat.drop(['prod_reorders'], axis=1, inplace=True)"
   ]
  },
  {
   "cell_type": "code",
   "execution_count": 104,
   "metadata": {
    "collapsed": false
   },
   "outputs": [
    {
     "name": "stdout",
     "output_type": "stream",
     "text": [
      "CPU times: user 512 ms, sys: 96 ms, total: 608 ms\n",
      "Wall time: 606 ms\n"
     ]
    }
   ],
   "source": [
    "%%time\n",
    "## sum : 얼마나 오래 서비스를 이용했는지\n",
    "## mean : 평균 얼마의 주기로 구매하는가\n",
    "## median : 구매주기의 중앙값\n",
    "## order_number'max : 지금까지 얼마나 주문했는가\n",
    "user_stat = orders.loc[orders.eval_set == 'prior', :].groupby('user_id').agg({'order_number': 'max',\n",
    "                                                                              'days_since_prior_order': ['sum',\n",
    "                                                                                                         'mean',\n",
    "                                                                                                         'median']})"
   ]
  },
  {
   "cell_type": "code",
   "execution_count": 107,
   "metadata": {
    "collapsed": false
   },
   "outputs": [
    {
     "data": {
      "text/html": [
       "<div>\n",
       "<style>\n",
       "    .dataframe thead tr:only-child th {\n",
       "        text-align: right;\n",
       "    }\n",
       "\n",
       "    .dataframe thead th {\n",
       "        text-align: left;\n",
       "    }\n",
       "\n",
       "    .dataframe tbody tr th {\n",
       "        vertical-align: top;\n",
       "    }\n",
       "</style>\n",
       "<table border=\"1\" class=\"dataframe\">\n",
       "  <thead>\n",
       "    <tr>\n",
       "      <th></th>\n",
       "      <th colspan=\"3\" halign=\"left\">days_since_prior_order</th>\n",
       "      <th>order_number</th>\n",
       "    </tr>\n",
       "    <tr>\n",
       "      <th></th>\n",
       "      <th>sum</th>\n",
       "      <th>mean</th>\n",
       "      <th>median</th>\n",
       "      <th>max</th>\n",
       "    </tr>\n",
       "    <tr>\n",
       "      <th>user_id</th>\n",
       "      <th></th>\n",
       "      <th></th>\n",
       "      <th></th>\n",
       "      <th></th>\n",
       "    </tr>\n",
       "  </thead>\n",
       "  <tbody>\n",
       "    <tr>\n",
       "      <th>1</th>\n",
       "      <td>176.0</td>\n",
       "      <td>19.555556</td>\n",
       "      <td>20.0</td>\n",
       "      <td>10</td>\n",
       "    </tr>\n",
       "    <tr>\n",
       "      <th>2</th>\n",
       "      <td>198.0</td>\n",
       "      <td>15.230769</td>\n",
       "      <td>13.0</td>\n",
       "      <td>14</td>\n",
       "    </tr>\n",
       "    <tr>\n",
       "      <th>3</th>\n",
       "      <td>133.0</td>\n",
       "      <td>12.090909</td>\n",
       "      <td>11.0</td>\n",
       "      <td>12</td>\n",
       "    </tr>\n",
       "    <tr>\n",
       "      <th>4</th>\n",
       "      <td>55.0</td>\n",
       "      <td>13.750000</td>\n",
       "      <td>17.0</td>\n",
       "      <td>5</td>\n",
       "    </tr>\n",
       "    <tr>\n",
       "      <th>5</th>\n",
       "      <td>40.0</td>\n",
       "      <td>13.333333</td>\n",
       "      <td>11.0</td>\n",
       "      <td>4</td>\n",
       "    </tr>\n",
       "  </tbody>\n",
       "</table>\n",
       "</div>"
      ],
      "text/plain": [
       "        days_since_prior_order                   order_number\n",
       "                           sum       mean median          max\n",
       "user_id                                                      \n",
       "1                        176.0  19.555556   20.0           10\n",
       "2                        198.0  15.230769   13.0           14\n",
       "3                        133.0  12.090909   11.0           12\n",
       "4                         55.0  13.750000   17.0            5\n",
       "5                         40.0  13.333333   11.0            4"
      ]
     },
     "execution_count": 107,
     "metadata": {},
     "output_type": "execute_result"
    }
   ],
   "source": [
    "user_stat.head()"
   ]
  },
  {
   "cell_type": "code",
   "execution_count": 108,
   "metadata": {
    "collapsed": true
   },
   "outputs": [],
   "source": [
    "user_stat.columns = user_stat.columns.droplevel(0)\n",
    "user_stat.rename(columns={'max': 'user_orders',\n",
    "                          'sum': 'user_order_starts_at',\n",
    "                          'mean': 'user_mean_days_since_prior',\n",
    "                          'median': 'user_median_days_since_prior'}, inplace=True)\n",
    "user_stat.reset_index(inplace=True)"
   ]
  },
  {
   "cell_type": "code",
   "execution_count": 111,
   "metadata": {
    "collapsed": false
   },
   "outputs": [
    {
     "data": {
      "text/html": [
       "<div>\n",
       "<style>\n",
       "    .dataframe thead tr:only-child th {\n",
       "        text-align: right;\n",
       "    }\n",
       "\n",
       "    .dataframe thead th {\n",
       "        text-align: left;\n",
       "    }\n",
       "\n",
       "    .dataframe tbody tr th {\n",
       "        vertical-align: top;\n",
       "    }\n",
       "</style>\n",
       "<table border=\"1\" class=\"dataframe\">\n",
       "  <thead>\n",
       "    <tr style=\"text-align: right;\">\n",
       "      <th></th>\n",
       "      <th>user_id</th>\n",
       "      <th>user_order_starts_at</th>\n",
       "      <th>user_mean_days_since_prior</th>\n",
       "      <th>user_median_days_since_prior</th>\n",
       "      <th>user_orders</th>\n",
       "    </tr>\n",
       "  </thead>\n",
       "  <tbody>\n",
       "    <tr>\n",
       "      <th>0</th>\n",
       "      <td>1</td>\n",
       "      <td>176.0</td>\n",
       "      <td>19.555556</td>\n",
       "      <td>20.0</td>\n",
       "      <td>10</td>\n",
       "    </tr>\n",
       "    <tr>\n",
       "      <th>1</th>\n",
       "      <td>2</td>\n",
       "      <td>198.0</td>\n",
       "      <td>15.230769</td>\n",
       "      <td>13.0</td>\n",
       "      <td>14</td>\n",
       "    </tr>\n",
       "    <tr>\n",
       "      <th>2</th>\n",
       "      <td>3</td>\n",
       "      <td>133.0</td>\n",
       "      <td>12.090909</td>\n",
       "      <td>11.0</td>\n",
       "      <td>12</td>\n",
       "    </tr>\n",
       "    <tr>\n",
       "      <th>3</th>\n",
       "      <td>4</td>\n",
       "      <td>55.0</td>\n",
       "      <td>13.750000</td>\n",
       "      <td>17.0</td>\n",
       "      <td>5</td>\n",
       "    </tr>\n",
       "    <tr>\n",
       "      <th>4</th>\n",
       "      <td>5</td>\n",
       "      <td>40.0</td>\n",
       "      <td>13.333333</td>\n",
       "      <td>11.0</td>\n",
       "      <td>4</td>\n",
       "    </tr>\n",
       "  </tbody>\n",
       "</table>\n",
       "</div>"
      ],
      "text/plain": [
       "   user_id  user_order_starts_at  user_mean_days_since_prior  \\\n",
       "0        1                 176.0                   19.555556   \n",
       "1        2                 198.0                   15.230769   \n",
       "2        3                 133.0                   12.090909   \n",
       "3        4                  55.0                   13.750000   \n",
       "4        5                  40.0                   13.333333   \n",
       "\n",
       "   user_median_days_since_prior  user_orders  \n",
       "0                          20.0           10  \n",
       "1                          13.0           14  \n",
       "2                          11.0           12  \n",
       "3                          17.0            5  \n",
       "4                          11.0            4  "
      ]
     },
     "execution_count": 111,
     "metadata": {},
     "output_type": "execute_result"
    }
   ],
   "source": [
    "user_stat.head()"
   ]
  },
  {
   "cell_type": "code",
   "execution_count": 112,
   "metadata": {
    "collapsed": true
   },
   "outputs": [],
   "source": [
    "## orders 정보와 order_prior 합칩 : 계속 설명했기 때문에 생략\n",
    "orders_products = pd.merge(orders, order_prior, on=\"order_id\")"
   ]
  },
  {
   "cell_type": "code",
   "execution_count": 114,
   "metadata": {
    "collapsed": false
   },
   "outputs": [
    {
     "data": {
      "text/html": [
       "<div>\n",
       "<style>\n",
       "    .dataframe thead tr:only-child th {\n",
       "        text-align: right;\n",
       "    }\n",
       "\n",
       "    .dataframe thead th {\n",
       "        text-align: left;\n",
       "    }\n",
       "\n",
       "    .dataframe tbody tr th {\n",
       "        vertical-align: top;\n",
       "    }\n",
       "</style>\n",
       "<table border=\"1\" class=\"dataframe\">\n",
       "  <thead>\n",
       "    <tr style=\"text-align: right;\">\n",
       "      <th></th>\n",
       "      <th>order_id</th>\n",
       "      <th>user_id</th>\n",
       "      <th>eval_set</th>\n",
       "      <th>order_number</th>\n",
       "      <th>order_dow</th>\n",
       "      <th>order_hour_of_day</th>\n",
       "      <th>days_since_prior_order</th>\n",
       "      <th>product_id</th>\n",
       "      <th>add_to_cart_order</th>\n",
       "      <th>reordered</th>\n",
       "    </tr>\n",
       "  </thead>\n",
       "  <tbody>\n",
       "    <tr>\n",
       "      <th>0</th>\n",
       "      <td>2539329</td>\n",
       "      <td>1</td>\n",
       "      <td>prior</td>\n",
       "      <td>1</td>\n",
       "      <td>2</td>\n",
       "      <td>8</td>\n",
       "      <td>NaN</td>\n",
       "      <td>196</td>\n",
       "      <td>1</td>\n",
       "      <td>False</td>\n",
       "    </tr>\n",
       "  </tbody>\n",
       "</table>\n",
       "</div>"
      ],
      "text/plain": [
       "   order_id  user_id eval_set  order_number  order_dow  order_hour_of_day  \\\n",
       "0   2539329        1    prior             1          2                  8   \n",
       "\n",
       "   days_since_prior_order  product_id  add_to_cart_order  reordered  \n",
       "0                     NaN         196                  1      False  "
      ]
     },
     "execution_count": 114,
     "metadata": {},
     "output_type": "execute_result"
    }
   ],
   "source": [
    "orders_products.head(1)"
   ]
  },
  {
   "cell_type": "code",
   "execution_count": 115,
   "metadata": {
    "collapsed": true
   },
   "outputs": [],
   "source": [
    "## reordered : 유저당 얼마나 재구매하는가?\n",
    "## product_id : nunique() 로 유저가 얼마나 다양한 상품을 구매하는가?\n",
    "## user_id : 지금까지 몇개의 상품을 구매했는가?\n",
    "user_order_stat = orders_products.groupby('user_id').agg({'user_id': 'size',\n",
    "                                                          'reordered': 'sum',\n",
    "                                                          'product_id': lambda x: x.nunique()})"
   ]
  },
  {
   "cell_type": "code",
   "execution_count": 116,
   "metadata": {
    "collapsed": false
   },
   "outputs": [
    {
     "data": {
      "text/html": [
       "<div>\n",
       "<style>\n",
       "    .dataframe thead tr:only-child th {\n",
       "        text-align: right;\n",
       "    }\n",
       "\n",
       "    .dataframe thead th {\n",
       "        text-align: left;\n",
       "    }\n",
       "\n",
       "    .dataframe tbody tr th {\n",
       "        vertical-align: top;\n",
       "    }\n",
       "</style>\n",
       "<table border=\"1\" class=\"dataframe\">\n",
       "  <thead>\n",
       "    <tr style=\"text-align: right;\">\n",
       "      <th></th>\n",
       "      <th>reordered</th>\n",
       "      <th>product_id</th>\n",
       "      <th>user_id</th>\n",
       "    </tr>\n",
       "    <tr>\n",
       "      <th>user_id</th>\n",
       "      <th></th>\n",
       "      <th></th>\n",
       "      <th></th>\n",
       "    </tr>\n",
       "  </thead>\n",
       "  <tbody>\n",
       "    <tr>\n",
       "      <th>1</th>\n",
       "      <td>41.0</td>\n",
       "      <td>18</td>\n",
       "      <td>59</td>\n",
       "    </tr>\n",
       "    <tr>\n",
       "      <th>2</th>\n",
       "      <td>93.0</td>\n",
       "      <td>102</td>\n",
       "      <td>195</td>\n",
       "    </tr>\n",
       "    <tr>\n",
       "      <th>3</th>\n",
       "      <td>55.0</td>\n",
       "      <td>33</td>\n",
       "      <td>88</td>\n",
       "    </tr>\n",
       "    <tr>\n",
       "      <th>4</th>\n",
       "      <td>1.0</td>\n",
       "      <td>17</td>\n",
       "      <td>18</td>\n",
       "    </tr>\n",
       "    <tr>\n",
       "      <th>5</th>\n",
       "      <td>14.0</td>\n",
       "      <td>23</td>\n",
       "      <td>37</td>\n",
       "    </tr>\n",
       "  </tbody>\n",
       "</table>\n",
       "</div>"
      ],
      "text/plain": [
       "         reordered  product_id  user_id\n",
       "user_id                                \n",
       "1             41.0          18       59\n",
       "2             93.0         102      195\n",
       "3             55.0          33       88\n",
       "4              1.0          17       18\n",
       "5             14.0          23       37"
      ]
     },
     "execution_count": 116,
     "metadata": {},
     "output_type": "execute_result"
    }
   ],
   "source": [
    "user_order_stat.head()"
   ]
  },
  {
   "cell_type": "code",
   "execution_count": 117,
   "metadata": {
    "collapsed": true
   },
   "outputs": [],
   "source": [
    "user_order_stat.rename(columns={'user_id': 'user_total_products',\n",
    "                                'product_id': 'user_distinct_products',\n",
    "                                'reordered': 'user_reorder_ratio'}, inplace=True)\n",
    "user_order_stat.reset_index(inplace=True)"
   ]
  },
  {
   "cell_type": "code",
   "execution_count": 120,
   "metadata": {
    "collapsed": false
   },
   "outputs": [
    {
     "data": {
      "text/html": [
       "<div>\n",
       "<style>\n",
       "    .dataframe thead tr:only-child th {\n",
       "        text-align: right;\n",
       "    }\n",
       "\n",
       "    .dataframe thead th {\n",
       "        text-align: left;\n",
       "    }\n",
       "\n",
       "    .dataframe tbody tr th {\n",
       "        vertical-align: top;\n",
       "    }\n",
       "</style>\n",
       "<table border=\"1\" class=\"dataframe\">\n",
       "  <thead>\n",
       "    <tr style=\"text-align: right;\">\n",
       "      <th></th>\n",
       "      <th>user_id</th>\n",
       "      <th>user_reorder_ratio</th>\n",
       "      <th>user_distinct_products</th>\n",
       "      <th>user_total_products</th>\n",
       "    </tr>\n",
       "  </thead>\n",
       "  <tbody>\n",
       "    <tr>\n",
       "      <th>0</th>\n",
       "      <td>1</td>\n",
       "      <td>41.0</td>\n",
       "      <td>18</td>\n",
       "      <td>59</td>\n",
       "    </tr>\n",
       "    <tr>\n",
       "      <th>1</th>\n",
       "      <td>2</td>\n",
       "      <td>93.0</td>\n",
       "      <td>102</td>\n",
       "      <td>195</td>\n",
       "    </tr>\n",
       "    <tr>\n",
       "      <th>2</th>\n",
       "      <td>3</td>\n",
       "      <td>55.0</td>\n",
       "      <td>33</td>\n",
       "      <td>88</td>\n",
       "    </tr>\n",
       "    <tr>\n",
       "      <th>3</th>\n",
       "      <td>4</td>\n",
       "      <td>1.0</td>\n",
       "      <td>17</td>\n",
       "      <td>18</td>\n",
       "    </tr>\n",
       "    <tr>\n",
       "      <th>4</th>\n",
       "      <td>5</td>\n",
       "      <td>14.0</td>\n",
       "      <td>23</td>\n",
       "      <td>37</td>\n",
       "    </tr>\n",
       "  </tbody>\n",
       "</table>\n",
       "</div>"
      ],
      "text/plain": [
       "   user_id  user_reorder_ratio  user_distinct_products  user_total_products\n",
       "0        1                41.0                      18                   59\n",
       "1        2                93.0                     102                  195\n",
       "2        3                55.0                      33                   88\n",
       "3        4                 1.0                      17                   18\n",
       "4        5                14.0                      23                   37"
      ]
     },
     "execution_count": 120,
     "metadata": {},
     "output_type": "execute_result"
    }
   ],
   "source": [
    "user_order_stat.head()"
   ]
  },
  {
   "cell_type": "code",
   "execution_count": 121,
   "metadata": {
    "collapsed": true
   },
   "outputs": [],
   "source": [
    "## user_reorder_ratio 유저의 전체 구매수 에서 reorder_ratio는 얼마인가?\n",
    "user_order_stat.user_reorder_ratio = user_order_stat.user_reorder_ratio / user_order_stat.user_total_products"
   ]
  },
  {
   "cell_type": "code",
   "execution_count": 122,
   "metadata": {
    "collapsed": false
   },
   "outputs": [
    {
     "data": {
      "text/html": [
       "<div>\n",
       "<style>\n",
       "    .dataframe thead tr:only-child th {\n",
       "        text-align: right;\n",
       "    }\n",
       "\n",
       "    .dataframe thead th {\n",
       "        text-align: left;\n",
       "    }\n",
       "\n",
       "    .dataframe tbody tr th {\n",
       "        vertical-align: top;\n",
       "    }\n",
       "</style>\n",
       "<table border=\"1\" class=\"dataframe\">\n",
       "  <thead>\n",
       "    <tr style=\"text-align: right;\">\n",
       "      <th></th>\n",
       "      <th>user_id</th>\n",
       "      <th>user_reorder_ratio</th>\n",
       "      <th>user_distinct_products</th>\n",
       "      <th>user_total_products</th>\n",
       "    </tr>\n",
       "  </thead>\n",
       "  <tbody>\n",
       "    <tr>\n",
       "      <th>0</th>\n",
       "      <td>1</td>\n",
       "      <td>0.694915</td>\n",
       "      <td>18</td>\n",
       "      <td>59</td>\n",
       "    </tr>\n",
       "  </tbody>\n",
       "</table>\n",
       "</div>"
      ],
      "text/plain": [
       "   user_id  user_reorder_ratio  user_distinct_products  user_total_products\n",
       "0        1            0.694915                      18                   59"
      ]
     },
     "execution_count": 122,
     "metadata": {},
     "output_type": "execute_result"
    }
   ],
   "source": [
    "user_order_stat.head(1)"
   ]
  },
  {
   "cell_type": "code",
   "execution_count": 123,
   "metadata": {
    "collapsed": false
   },
   "outputs": [
    {
     "data": {
      "text/html": [
       "<div>\n",
       "<style>\n",
       "    .dataframe thead tr:only-child th {\n",
       "        text-align: right;\n",
       "    }\n",
       "\n",
       "    .dataframe thead th {\n",
       "        text-align: left;\n",
       "    }\n",
       "\n",
       "    .dataframe tbody tr th {\n",
       "        vertical-align: top;\n",
       "    }\n",
       "</style>\n",
       "<table border=\"1\" class=\"dataframe\">\n",
       "  <thead>\n",
       "    <tr style=\"text-align: right;\">\n",
       "      <th></th>\n",
       "      <th>user_id</th>\n",
       "      <th>user_order_starts_at</th>\n",
       "      <th>user_mean_days_since_prior</th>\n",
       "      <th>user_median_days_since_prior</th>\n",
       "      <th>user_orders</th>\n",
       "    </tr>\n",
       "  </thead>\n",
       "  <tbody>\n",
       "    <tr>\n",
       "      <th>0</th>\n",
       "      <td>1</td>\n",
       "      <td>176.0</td>\n",
       "      <td>19.555556</td>\n",
       "      <td>20.0</td>\n",
       "      <td>10</td>\n",
       "    </tr>\n",
       "  </tbody>\n",
       "</table>\n",
       "</div>"
      ],
      "text/plain": [
       "   user_id  user_order_starts_at  user_mean_days_since_prior  \\\n",
       "0        1                 176.0                   19.555556   \n",
       "\n",
       "   user_median_days_since_prior  user_orders  \n",
       "0                          20.0           10  "
      ]
     },
     "execution_count": 123,
     "metadata": {},
     "output_type": "execute_result"
    }
   ],
   "source": [
    "user_stat.head(1)"
   ]
  },
  {
   "cell_type": "code",
   "execution_count": 124,
   "metadata": {
    "collapsed": true
   },
   "outputs": [],
   "source": [
    "user_stat = pd.merge(user_stat, user_order_stat, on='user_id')"
   ]
  },
  {
   "cell_type": "code",
   "execution_count": 125,
   "metadata": {
    "collapsed": false
   },
   "outputs": [
    {
     "data": {
      "text/html": [
       "<div>\n",
       "<style>\n",
       "    .dataframe thead tr:only-child th {\n",
       "        text-align: right;\n",
       "    }\n",
       "\n",
       "    .dataframe thead th {\n",
       "        text-align: left;\n",
       "    }\n",
       "\n",
       "    .dataframe tbody tr th {\n",
       "        vertical-align: top;\n",
       "    }\n",
       "</style>\n",
       "<table border=\"1\" class=\"dataframe\">\n",
       "  <thead>\n",
       "    <tr style=\"text-align: right;\">\n",
       "      <th></th>\n",
       "      <th>user_id</th>\n",
       "      <th>user_order_starts_at</th>\n",
       "      <th>user_mean_days_since_prior</th>\n",
       "      <th>user_median_days_since_prior</th>\n",
       "      <th>user_orders</th>\n",
       "      <th>user_reorder_ratio</th>\n",
       "      <th>user_distinct_products</th>\n",
       "      <th>user_total_products</th>\n",
       "    </tr>\n",
       "  </thead>\n",
       "  <tbody>\n",
       "    <tr>\n",
       "      <th>0</th>\n",
       "      <td>1</td>\n",
       "      <td>176.0</td>\n",
       "      <td>19.555556</td>\n",
       "      <td>20.0</td>\n",
       "      <td>10</td>\n",
       "      <td>0.694915</td>\n",
       "      <td>18</td>\n",
       "      <td>59</td>\n",
       "    </tr>\n",
       "  </tbody>\n",
       "</table>\n",
       "</div>"
      ],
      "text/plain": [
       "   user_id  user_order_starts_at  user_mean_days_since_prior  \\\n",
       "0        1                 176.0                   19.555556   \n",
       "\n",
       "   user_median_days_since_prior  user_orders  user_reorder_ratio  \\\n",
       "0                          20.0           10            0.694915   \n",
       "\n",
       "   user_distinct_products  user_total_products  \n",
       "0                      18                   59  "
      ]
     },
     "execution_count": 125,
     "metadata": {},
     "output_type": "execute_result"
    }
   ],
   "source": [
    "user_stat.head(1)"
   ]
  },
  {
   "cell_type": "code",
   "execution_count": 126,
   "metadata": {
    "collapsed": true
   },
   "outputs": [],
   "source": [
    "## user_average_basket : 유저의 전체 상품 구매량에서 전체 오더수를 나눠 한번 구매할 때마다 얼마나 사는지 평균 계산\n",
    "user_stat['user_average_basket'] = user_stat.user_total_products / user_stat.user_orders"
   ]
  },
  {
   "cell_type": "code",
   "execution_count": 127,
   "metadata": {
    "collapsed": false
   },
   "outputs": [
    {
     "data": {
      "text/html": [
       "<div>\n",
       "<style>\n",
       "    .dataframe thead tr:only-child th {\n",
       "        text-align: right;\n",
       "    }\n",
       "\n",
       "    .dataframe thead th {\n",
       "        text-align: left;\n",
       "    }\n",
       "\n",
       "    .dataframe tbody tr th {\n",
       "        vertical-align: top;\n",
       "    }\n",
       "</style>\n",
       "<table border=\"1\" class=\"dataframe\">\n",
       "  <thead>\n",
       "    <tr style=\"text-align: right;\">\n",
       "      <th></th>\n",
       "      <th>user_id</th>\n",
       "      <th>user_order_starts_at</th>\n",
       "      <th>user_mean_days_since_prior</th>\n",
       "      <th>user_median_days_since_prior</th>\n",
       "      <th>user_orders</th>\n",
       "      <th>user_reorder_ratio</th>\n",
       "      <th>user_distinct_products</th>\n",
       "      <th>user_total_products</th>\n",
       "      <th>user_average_basket</th>\n",
       "    </tr>\n",
       "  </thead>\n",
       "  <tbody>\n",
       "    <tr>\n",
       "      <th>0</th>\n",
       "      <td>1</td>\n",
       "      <td>176.0</td>\n",
       "      <td>19.555556</td>\n",
       "      <td>20.0</td>\n",
       "      <td>10</td>\n",
       "      <td>0.694915</td>\n",
       "      <td>18</td>\n",
       "      <td>59</td>\n",
       "      <td>5.9</td>\n",
       "    </tr>\n",
       "  </tbody>\n",
       "</table>\n",
       "</div>"
      ],
      "text/plain": [
       "   user_id  user_order_starts_at  user_mean_days_since_prior  \\\n",
       "0        1                 176.0                   19.555556   \n",
       "\n",
       "   user_median_days_since_prior  user_orders  user_reorder_ratio  \\\n",
       "0                          20.0           10            0.694915   \n",
       "\n",
       "   user_distinct_products  user_total_products  user_average_basket  \n",
       "0                      18                   59                  5.9  "
      ]
     },
     "execution_count": 127,
     "metadata": {},
     "output_type": "execute_result"
    }
   ],
   "source": [
    "user_stat.head(1)"
   ]
  },
  {
   "cell_type": "code",
   "execution_count": 128,
   "metadata": {
    "collapsed": false
   },
   "outputs": [
    {
     "name": "stdout",
     "output_type": "stream",
     "text": [
      "CPU times: user 8.05 s, sys: 904 ms, total: 8.95 s\n",
      "Wall time: 8.95 s\n"
     ]
    }
   ],
   "source": [
    "%%time\n",
    "## 상품당 얼마나 많은 유저가 구매했는가?\n",
    "prod_usr = orders_products.groupby(['product_id']).agg({'user_id': lambda x: x.nunique()})"
   ]
  },
  {
   "cell_type": "code",
   "execution_count": 129,
   "metadata": {
    "collapsed": false
   },
   "outputs": [
    {
     "data": {
      "text/html": [
       "<div>\n",
       "<style>\n",
       "    .dataframe thead tr:only-child th {\n",
       "        text-align: right;\n",
       "    }\n",
       "\n",
       "    .dataframe thead th {\n",
       "        text-align: left;\n",
       "    }\n",
       "\n",
       "    .dataframe tbody tr th {\n",
       "        vertical-align: top;\n",
       "    }\n",
       "</style>\n",
       "<table border=\"1\" class=\"dataframe\">\n",
       "  <thead>\n",
       "    <tr style=\"text-align: right;\">\n",
       "      <th></th>\n",
       "      <th>user_id</th>\n",
       "    </tr>\n",
       "    <tr>\n",
       "      <th>product_id</th>\n",
       "      <th></th>\n",
       "    </tr>\n",
       "  </thead>\n",
       "  <tbody>\n",
       "    <tr>\n",
       "      <th>1</th>\n",
       "      <td>716</td>\n",
       "    </tr>\n",
       "    <tr>\n",
       "      <th>2</th>\n",
       "      <td>78</td>\n",
       "    </tr>\n",
       "    <tr>\n",
       "      <th>3</th>\n",
       "      <td>74</td>\n",
       "    </tr>\n",
       "    <tr>\n",
       "      <th>4</th>\n",
       "      <td>182</td>\n",
       "    </tr>\n",
       "    <tr>\n",
       "      <th>5</th>\n",
       "      <td>6</td>\n",
       "    </tr>\n",
       "  </tbody>\n",
       "</table>\n",
       "</div>"
      ],
      "text/plain": [
       "            user_id\n",
       "product_id         \n",
       "1               716\n",
       "2                78\n",
       "3                74\n",
       "4               182\n",
       "5                 6"
      ]
     },
     "execution_count": 129,
     "metadata": {},
     "output_type": "execute_result"
    }
   ],
   "source": [
    "prod_usr.head()"
   ]
  },
  {
   "cell_type": "code",
   "execution_count": 130,
   "metadata": {
    "collapsed": true
   },
   "outputs": [],
   "source": [
    "prod_usr.rename(columns={'user_id':'prod_users_unq'}, inplace=True)\n",
    "prod_usr.reset_index(inplace=True)"
   ]
  },
  {
   "cell_type": "code",
   "execution_count": 131,
   "metadata": {
    "collapsed": false
   },
   "outputs": [
    {
     "data": {
      "text/html": [
       "<div>\n",
       "<style>\n",
       "    .dataframe thead tr:only-child th {\n",
       "        text-align: right;\n",
       "    }\n",
       "\n",
       "    .dataframe thead th {\n",
       "        text-align: left;\n",
       "    }\n",
       "\n",
       "    .dataframe tbody tr th {\n",
       "        vertical-align: top;\n",
       "    }\n",
       "</style>\n",
       "<table border=\"1\" class=\"dataframe\">\n",
       "  <thead>\n",
       "    <tr style=\"text-align: right;\">\n",
       "      <th></th>\n",
       "      <th>product_id</th>\n",
       "      <th>prod_users_unq</th>\n",
       "    </tr>\n",
       "  </thead>\n",
       "  <tbody>\n",
       "    <tr>\n",
       "      <th>0</th>\n",
       "      <td>1</td>\n",
       "      <td>716</td>\n",
       "    </tr>\n",
       "    <tr>\n",
       "      <th>1</th>\n",
       "      <td>2</td>\n",
       "      <td>78</td>\n",
       "    </tr>\n",
       "    <tr>\n",
       "      <th>2</th>\n",
       "      <td>3</td>\n",
       "      <td>74</td>\n",
       "    </tr>\n",
       "    <tr>\n",
       "      <th>3</th>\n",
       "      <td>4</td>\n",
       "      <td>182</td>\n",
       "    </tr>\n",
       "    <tr>\n",
       "      <th>4</th>\n",
       "      <td>5</td>\n",
       "      <td>6</td>\n",
       "    </tr>\n",
       "  </tbody>\n",
       "</table>\n",
       "</div>"
      ],
      "text/plain": [
       "   product_id  prod_users_unq\n",
       "0           1             716\n",
       "1           2              78\n",
       "2           3              74\n",
       "3           4             182\n",
       "4           5               6"
      ]
     },
     "execution_count": 131,
     "metadata": {},
     "output_type": "execute_result"
    }
   ],
   "source": [
    "prod_usr.head()"
   ]
  },
  {
   "cell_type": "code",
   "execution_count": 132,
   "metadata": {
    "collapsed": false
   },
   "outputs": [
    {
     "name": "stdout",
     "output_type": "stream",
     "text": [
      "CPU times: user 6.8 s, sys: 940 ms, total: 7.74 s\n",
      "Wall time: 7.74 s\n"
     ]
    }
   ],
   "source": [
    "%%time\n",
    "## 상품당 재구매 한 유저의 수\n",
    "prod_usr_reordered = orders_products.loc[orders_products.reordered, :].groupby(['product_id']).agg({'user_id': lambda x: x.nunique()})"
   ]
  },
  {
   "cell_type": "code",
   "execution_count": 133,
   "metadata": {
    "collapsed": false
   },
   "outputs": [
    {
     "data": {
      "text/html": [
       "<div>\n",
       "<style>\n",
       "    .dataframe thead tr:only-child th {\n",
       "        text-align: right;\n",
       "    }\n",
       "\n",
       "    .dataframe thead th {\n",
       "        text-align: left;\n",
       "    }\n",
       "\n",
       "    .dataframe tbody tr th {\n",
       "        vertical-align: top;\n",
       "    }\n",
       "</style>\n",
       "<table border=\"1\" class=\"dataframe\">\n",
       "  <thead>\n",
       "    <tr style=\"text-align: right;\">\n",
       "      <th></th>\n",
       "      <th>user_id</th>\n",
       "    </tr>\n",
       "    <tr>\n",
       "      <th>product_id</th>\n",
       "      <th></th>\n",
       "    </tr>\n",
       "  </thead>\n",
       "  <tbody>\n",
       "    <tr>\n",
       "      <th>1</th>\n",
       "      <td>276</td>\n",
       "    </tr>\n",
       "    <tr>\n",
       "      <th>2</th>\n",
       "      <td>8</td>\n",
       "    </tr>\n",
       "    <tr>\n",
       "      <th>3</th>\n",
       "      <td>36</td>\n",
       "    </tr>\n",
       "    <tr>\n",
       "      <th>4</th>\n",
       "      <td>64</td>\n",
       "    </tr>\n",
       "    <tr>\n",
       "      <th>5</th>\n",
       "      <td>4</td>\n",
       "    </tr>\n",
       "  </tbody>\n",
       "</table>\n",
       "</div>"
      ],
      "text/plain": [
       "            user_id\n",
       "product_id         \n",
       "1               276\n",
       "2                 8\n",
       "3                36\n",
       "4                64\n",
       "5                 4"
      ]
     },
     "execution_count": 133,
     "metadata": {},
     "output_type": "execute_result"
    }
   ],
   "source": [
    "prod_usr_reordered.head()"
   ]
  },
  {
   "cell_type": "code",
   "execution_count": 134,
   "metadata": {
    "collapsed": true
   },
   "outputs": [],
   "source": [
    "prod_usr_reordered.rename(columns={'user_id': 'prod_users_unq_reordered'}, inplace=True)\n",
    "prod_usr_reordered.reset_index(inplace=True)"
   ]
  },
  {
   "cell_type": "code",
   "execution_count": 135,
   "metadata": {
    "collapsed": false
   },
   "outputs": [
    {
     "data": {
      "text/html": [
       "<div>\n",
       "<style>\n",
       "    .dataframe thead tr:only-child th {\n",
       "        text-align: right;\n",
       "    }\n",
       "\n",
       "    .dataframe thead th {\n",
       "        text-align: left;\n",
       "    }\n",
       "\n",
       "    .dataframe tbody tr th {\n",
       "        vertical-align: top;\n",
       "    }\n",
       "</style>\n",
       "<table border=\"1\" class=\"dataframe\">\n",
       "  <thead>\n",
       "    <tr style=\"text-align: right;\">\n",
       "      <th></th>\n",
       "      <th>product_id</th>\n",
       "      <th>prod_users_unq_reordered</th>\n",
       "    </tr>\n",
       "  </thead>\n",
       "  <tbody>\n",
       "    <tr>\n",
       "      <th>0</th>\n",
       "      <td>1</td>\n",
       "      <td>276</td>\n",
       "    </tr>\n",
       "    <tr>\n",
       "      <th>1</th>\n",
       "      <td>2</td>\n",
       "      <td>8</td>\n",
       "    </tr>\n",
       "    <tr>\n",
       "      <th>2</th>\n",
       "      <td>3</td>\n",
       "      <td>36</td>\n",
       "    </tr>\n",
       "    <tr>\n",
       "      <th>3</th>\n",
       "      <td>4</td>\n",
       "      <td>64</td>\n",
       "    </tr>\n",
       "    <tr>\n",
       "      <th>4</th>\n",
       "      <td>5</td>\n",
       "      <td>4</td>\n",
       "    </tr>\n",
       "  </tbody>\n",
       "</table>\n",
       "</div>"
      ],
      "text/plain": [
       "   product_id  prod_users_unq_reordered\n",
       "0           1                       276\n",
       "1           2                         8\n",
       "2           3                        36\n",
       "3           4                        64\n",
       "4           5                         4"
      ]
     },
     "execution_count": 135,
     "metadata": {},
     "output_type": "execute_result"
    }
   ],
   "source": [
    "prod_usr_reordered.head()"
   ]
  },
  {
   "cell_type": "code",
   "execution_count": 136,
   "metadata": {
    "collapsed": false
   },
   "outputs": [
    {
     "name": "stdout",
     "output_type": "stream",
     "text": [
      "CPU times: user 2.35 s, sys: 524 ms, total: 2.87 s\n",
      "Wall time: 2.87 s\n"
     ]
    }
   ],
   "source": [
    "%%time\n",
    "#order_size : 각 주문의 상품수\n",
    "order_stat = orders_products.groupby('order_id').agg({'order_id': 'size'}).rename(columns = {'order_id': 'order_size'})\\\n",
    ".reset_index()"
   ]
  },
  {
   "cell_type": "code",
   "execution_count": 137,
   "metadata": {
    "collapsed": false
   },
   "outputs": [
    {
     "data": {
      "text/html": [
       "<div>\n",
       "<style>\n",
       "    .dataframe thead tr:only-child th {\n",
       "        text-align: right;\n",
       "    }\n",
       "\n",
       "    .dataframe thead th {\n",
       "        text-align: left;\n",
       "    }\n",
       "\n",
       "    .dataframe tbody tr th {\n",
       "        vertical-align: top;\n",
       "    }\n",
       "</style>\n",
       "<table border=\"1\" class=\"dataframe\">\n",
       "  <thead>\n",
       "    <tr style=\"text-align: right;\">\n",
       "      <th></th>\n",
       "      <th>order_id</th>\n",
       "      <th>order_size</th>\n",
       "    </tr>\n",
       "  </thead>\n",
       "  <tbody>\n",
       "    <tr>\n",
       "      <th>0</th>\n",
       "      <td>2</td>\n",
       "      <td>9</td>\n",
       "    </tr>\n",
       "    <tr>\n",
       "      <th>1</th>\n",
       "      <td>3</td>\n",
       "      <td>8</td>\n",
       "    </tr>\n",
       "    <tr>\n",
       "      <th>2</th>\n",
       "      <td>4</td>\n",
       "      <td>13</td>\n",
       "    </tr>\n",
       "    <tr>\n",
       "      <th>3</th>\n",
       "      <td>5</td>\n",
       "      <td>26</td>\n",
       "    </tr>\n",
       "    <tr>\n",
       "      <th>4</th>\n",
       "      <td>6</td>\n",
       "      <td>3</td>\n",
       "    </tr>\n",
       "  </tbody>\n",
       "</table>\n",
       "</div>"
      ],
      "text/plain": [
       "   order_id  order_size\n",
       "0         2           9\n",
       "1         3           8\n",
       "2         4          13\n",
       "3         5          26\n",
       "4         6           3"
      ]
     },
     "execution_count": 137,
     "metadata": {},
     "output_type": "execute_result"
    }
   ],
   "source": [
    "order_stat.head()"
   ]
  },
  {
   "cell_type": "code",
   "execution_count": 139,
   "metadata": {
    "collapsed": false
   },
   "outputs": [
    {
     "data": {
      "text/html": [
       "<div>\n",
       "<style>\n",
       "    .dataframe thead tr:only-child th {\n",
       "        text-align: right;\n",
       "    }\n",
       "\n",
       "    .dataframe thead th {\n",
       "        text-align: left;\n",
       "    }\n",
       "\n",
       "    .dataframe tbody tr th {\n",
       "        vertical-align: top;\n",
       "    }\n",
       "</style>\n",
       "<table border=\"1\" class=\"dataframe\">\n",
       "  <thead>\n",
       "    <tr style=\"text-align: right;\">\n",
       "      <th></th>\n",
       "      <th>order_id</th>\n",
       "      <th>user_id</th>\n",
       "      <th>eval_set</th>\n",
       "      <th>order_number</th>\n",
       "      <th>order_dow</th>\n",
       "      <th>order_hour_of_day</th>\n",
       "      <th>days_since_prior_order</th>\n",
       "      <th>product_id</th>\n",
       "      <th>add_to_cart_order</th>\n",
       "      <th>reordered</th>\n",
       "    </tr>\n",
       "  </thead>\n",
       "  <tbody>\n",
       "    <tr>\n",
       "      <th>0</th>\n",
       "      <td>2539329</td>\n",
       "      <td>1</td>\n",
       "      <td>prior</td>\n",
       "      <td>1</td>\n",
       "      <td>2</td>\n",
       "      <td>8</td>\n",
       "      <td>NaN</td>\n",
       "      <td>196</td>\n",
       "      <td>1</td>\n",
       "      <td>False</td>\n",
       "    </tr>\n",
       "  </tbody>\n",
       "</table>\n",
       "</div>"
      ],
      "text/plain": [
       "   order_id  user_id eval_set  order_number  order_dow  order_hour_of_day  \\\n",
       "0   2539329        1    prior             1          2                  8   \n",
       "\n",
       "   days_since_prior_order  product_id  add_to_cart_order  reordered  \n",
       "0                     NaN         196                  1      False  "
      ]
     },
     "execution_count": 139,
     "metadata": {},
     "output_type": "execute_result"
    }
   ],
   "source": [
    "orders_products.head(1)"
   ]
  },
  {
   "cell_type": "code",
   "execution_count": 140,
   "metadata": {
    "collapsed": false
   },
   "outputs": [
    {
     "name": "stdout",
     "output_type": "stream",
     "text": [
      "CPU times: user 6.19 s, sys: 2.34 s, total: 8.53 s\n",
      "Wall time: 8.53 s\n"
     ]
    }
   ],
   "source": [
    "%%time\n",
    "orders_products = pd.merge(orders_products, order_stat, on='order_id')"
   ]
  },
  {
   "cell_type": "code",
   "execution_count": 143,
   "metadata": {
    "collapsed": false
   },
   "outputs": [
    {
     "data": {
      "text/html": [
       "<div>\n",
       "<style>\n",
       "    .dataframe thead tr:only-child th {\n",
       "        text-align: right;\n",
       "    }\n",
       "\n",
       "    .dataframe thead th {\n",
       "        text-align: left;\n",
       "    }\n",
       "\n",
       "    .dataframe tbody tr th {\n",
       "        vertical-align: top;\n",
       "    }\n",
       "</style>\n",
       "<table border=\"1\" class=\"dataframe\">\n",
       "  <thead>\n",
       "    <tr style=\"text-align: right;\">\n",
       "      <th></th>\n",
       "      <th>order_id</th>\n",
       "      <th>user_id</th>\n",
       "      <th>eval_set</th>\n",
       "      <th>order_number</th>\n",
       "      <th>order_dow</th>\n",
       "      <th>order_hour_of_day</th>\n",
       "      <th>days_since_prior_order</th>\n",
       "      <th>product_id</th>\n",
       "      <th>add_to_cart_order</th>\n",
       "      <th>reordered</th>\n",
       "      <th>order_size</th>\n",
       "      <th>add_to_cart_order_inverted</th>\n",
       "      <th>add_to_cart_order_relative</th>\n",
       "    </tr>\n",
       "  </thead>\n",
       "  <tbody>\n",
       "    <tr>\n",
       "      <th>0</th>\n",
       "      <td>2539329</td>\n",
       "      <td>1</td>\n",
       "      <td>prior</td>\n",
       "      <td>1</td>\n",
       "      <td>2</td>\n",
       "      <td>8</td>\n",
       "      <td>NaN</td>\n",
       "      <td>196</td>\n",
       "      <td>1</td>\n",
       "      <td>False</td>\n",
       "      <td>5</td>\n",
       "      <td>4</td>\n",
       "      <td>0.2</td>\n",
       "    </tr>\n",
       "  </tbody>\n",
       "</table>\n",
       "</div>"
      ],
      "text/plain": [
       "   order_id  user_id eval_set  order_number  order_dow  order_hour_of_day  \\\n",
       "0   2539329        1    prior             1          2                  8   \n",
       "\n",
       "   days_since_prior_order  product_id  add_to_cart_order  reordered  \\\n",
       "0                     NaN         196                  1      False   \n",
       "\n",
       "   order_size  add_to_cart_order_inverted  add_to_cart_order_relative  \n",
       "0           5                           4                         0.2  "
      ]
     },
     "execution_count": 143,
     "metadata": {},
     "output_type": "execute_result"
    }
   ],
   "source": [
    "orders_products.head(1)"
   ]
  },
  {
   "cell_type": "code",
   "execution_count": 142,
   "metadata": {
    "collapsed": true
   },
   "outputs": [],
   "source": [
    "## add_to_cart_order_inverted : 각 오더의 전체 상품의 사이즈에서 장바구니 순서를 차감\n",
    "## add_to_cart_order_relative : add_to_cart_order를 각 오더의 전체 상품수로 나눔\n",
    "orders_products['add_to_cart_order_inverted'] = orders_products.order_size - orders_products.add_to_cart_order\n",
    "orders_products['add_to_cart_order_relative'] = orders_products.add_to_cart_order / orders_products.order_size"
   ]
  },
  {
   "cell_type": "code",
   "execution_count": 144,
   "metadata": {
    "collapsed": false
   },
   "outputs": [
    {
     "name": "stdout",
     "output_type": "stream",
     "text": [
      "CPU times: user 18.2 s, sys: 5.76 s, total: 23.9 s\n",
      "Wall time: 23.9 s\n"
     ]
    }
   ],
   "source": [
    "%%time\n",
    "## 유저가 구매한 상품에서 재구매가 일어난 요일의 sum과 size\n",
    "data_dow = orders_products.groupby(['user_id', 'product_id', 'order_dow']).agg({'reordered': ['sum', 'size']})"
   ]
  },
  {
   "cell_type": "code",
   "execution_count": 145,
   "metadata": {
    "collapsed": false
   },
   "outputs": [
    {
     "data": {
      "text/html": [
       "<div>\n",
       "<style>\n",
       "    .dataframe thead tr:only-child th {\n",
       "        text-align: right;\n",
       "    }\n",
       "\n",
       "    .dataframe thead th {\n",
       "        text-align: left;\n",
       "    }\n",
       "\n",
       "    .dataframe tbody tr th {\n",
       "        vertical-align: top;\n",
       "    }\n",
       "</style>\n",
       "<table border=\"1\" class=\"dataframe\">\n",
       "  <thead>\n",
       "    <tr>\n",
       "      <th></th>\n",
       "      <th></th>\n",
       "      <th></th>\n",
       "      <th colspan=\"2\" halign=\"left\">reordered</th>\n",
       "    </tr>\n",
       "    <tr>\n",
       "      <th></th>\n",
       "      <th></th>\n",
       "      <th></th>\n",
       "      <th>sum</th>\n",
       "      <th>size</th>\n",
       "    </tr>\n",
       "    <tr>\n",
       "      <th>user_id</th>\n",
       "      <th>product_id</th>\n",
       "      <th>order_dow</th>\n",
       "      <th></th>\n",
       "      <th></th>\n",
       "    </tr>\n",
       "  </thead>\n",
       "  <tbody>\n",
       "    <tr>\n",
       "      <th rowspan=\"5\" valign=\"top\">1</th>\n",
       "      <th rowspan=\"4\" valign=\"top\">196</th>\n",
       "      <th>1</th>\n",
       "      <td>3.0</td>\n",
       "      <td>3</td>\n",
       "    </tr>\n",
       "    <tr>\n",
       "      <th>2</th>\n",
       "      <td>1.0</td>\n",
       "      <td>2</td>\n",
       "    </tr>\n",
       "    <tr>\n",
       "      <th>3</th>\n",
       "      <td>2.0</td>\n",
       "      <td>2</td>\n",
       "    </tr>\n",
       "    <tr>\n",
       "      <th>4</th>\n",
       "      <td>3.0</td>\n",
       "      <td>3</td>\n",
       "    </tr>\n",
       "    <tr>\n",
       "      <th>10258</th>\n",
       "      <th>1</th>\n",
       "      <td>3.0</td>\n",
       "      <td>3</td>\n",
       "    </tr>\n",
       "  </tbody>\n",
       "</table>\n",
       "</div>"
      ],
      "text/plain": [
       "                             reordered     \n",
       "                                   sum size\n",
       "user_id product_id order_dow               \n",
       "1       196        1               3.0    3\n",
       "                   2               1.0    2\n",
       "                   3               2.0    2\n",
       "                   4               3.0    3\n",
       "        10258      1               3.0    3"
      ]
     },
     "execution_count": 145,
     "metadata": {},
     "output_type": "execute_result"
    }
   ],
   "source": [
    "data_dow.head()"
   ]
  },
  {
   "cell_type": "code",
   "execution_count": 146,
   "metadata": {
    "collapsed": true
   },
   "outputs": [],
   "source": [
    "data_dow.columns = data_dow.columns.droplevel(0)\n",
    "data_dow.columns = ['reordered_dow', 'reordered_dow_size']"
   ]
  },
  {
   "cell_type": "code",
   "execution_count": 147,
   "metadata": {
    "collapsed": false
   },
   "outputs": [
    {
     "data": {
      "text/html": [
       "<div>\n",
       "<style>\n",
       "    .dataframe thead tr:only-child th {\n",
       "        text-align: right;\n",
       "    }\n",
       "\n",
       "    .dataframe thead th {\n",
       "        text-align: left;\n",
       "    }\n",
       "\n",
       "    .dataframe tbody tr th {\n",
       "        vertical-align: top;\n",
       "    }\n",
       "</style>\n",
       "<table border=\"1\" class=\"dataframe\">\n",
       "  <thead>\n",
       "    <tr style=\"text-align: right;\">\n",
       "      <th></th>\n",
       "      <th></th>\n",
       "      <th></th>\n",
       "      <th>reordered_dow</th>\n",
       "      <th>reordered_dow_size</th>\n",
       "    </tr>\n",
       "    <tr>\n",
       "      <th>user_id</th>\n",
       "      <th>product_id</th>\n",
       "      <th>order_dow</th>\n",
       "      <th></th>\n",
       "      <th></th>\n",
       "    </tr>\n",
       "  </thead>\n",
       "  <tbody>\n",
       "    <tr>\n",
       "      <th rowspan=\"5\" valign=\"top\">1</th>\n",
       "      <th rowspan=\"4\" valign=\"top\">196</th>\n",
       "      <th>1</th>\n",
       "      <td>3.0</td>\n",
       "      <td>3</td>\n",
       "    </tr>\n",
       "    <tr>\n",
       "      <th>2</th>\n",
       "      <td>1.0</td>\n",
       "      <td>2</td>\n",
       "    </tr>\n",
       "    <tr>\n",
       "      <th>3</th>\n",
       "      <td>2.0</td>\n",
       "      <td>2</td>\n",
       "    </tr>\n",
       "    <tr>\n",
       "      <th>4</th>\n",
       "      <td>3.0</td>\n",
       "      <td>3</td>\n",
       "    </tr>\n",
       "    <tr>\n",
       "      <th>10258</th>\n",
       "      <th>1</th>\n",
       "      <td>3.0</td>\n",
       "      <td>3</td>\n",
       "    </tr>\n",
       "  </tbody>\n",
       "</table>\n",
       "</div>"
      ],
      "text/plain": [
       "                              reordered_dow  reordered_dow_size\n",
       "user_id product_id order_dow                                   \n",
       "1       196        1                    3.0                   3\n",
       "                   2                    1.0                   2\n",
       "                   3                    2.0                   2\n",
       "                   4                    3.0                   3\n",
       "        10258      1                    3.0                   3"
      ]
     },
     "execution_count": 147,
     "metadata": {},
     "output_type": "execute_result"
    }
   ],
   "source": [
    "data_dow.head()"
   ]
  },
  {
   "cell_type": "code",
   "execution_count": 148,
   "metadata": {
    "collapsed": true
   },
   "outputs": [],
   "source": [
    "## reordered_dow_ration : 유저의 상품 - 요일별 재구매 비율\n",
    "data_dow['reordered_dow_ration'] = data_dow.reordered_dow / data_dow.reordered_dow_size"
   ]
  },
  {
   "cell_type": "code",
   "execution_count": 149,
   "metadata": {
    "collapsed": false
   },
   "outputs": [
    {
     "data": {
      "text/html": [
       "<div>\n",
       "<style>\n",
       "    .dataframe thead tr:only-child th {\n",
       "        text-align: right;\n",
       "    }\n",
       "\n",
       "    .dataframe thead th {\n",
       "        text-align: left;\n",
       "    }\n",
       "\n",
       "    .dataframe tbody tr th {\n",
       "        vertical-align: top;\n",
       "    }\n",
       "</style>\n",
       "<table border=\"1\" class=\"dataframe\">\n",
       "  <thead>\n",
       "    <tr style=\"text-align: right;\">\n",
       "      <th></th>\n",
       "      <th></th>\n",
       "      <th></th>\n",
       "      <th>reordered_dow</th>\n",
       "      <th>reordered_dow_size</th>\n",
       "      <th>reordered_dow_ration</th>\n",
       "    </tr>\n",
       "    <tr>\n",
       "      <th>user_id</th>\n",
       "      <th>product_id</th>\n",
       "      <th>order_dow</th>\n",
       "      <th></th>\n",
       "      <th></th>\n",
       "      <th></th>\n",
       "    </tr>\n",
       "  </thead>\n",
       "  <tbody>\n",
       "    <tr>\n",
       "      <th rowspan=\"5\" valign=\"top\">1</th>\n",
       "      <th rowspan=\"4\" valign=\"top\">196</th>\n",
       "      <th>1</th>\n",
       "      <td>3.0</td>\n",
       "      <td>3</td>\n",
       "      <td>1.0</td>\n",
       "    </tr>\n",
       "    <tr>\n",
       "      <th>2</th>\n",
       "      <td>1.0</td>\n",
       "      <td>2</td>\n",
       "      <td>0.5</td>\n",
       "    </tr>\n",
       "    <tr>\n",
       "      <th>3</th>\n",
       "      <td>2.0</td>\n",
       "      <td>2</td>\n",
       "      <td>1.0</td>\n",
       "    </tr>\n",
       "    <tr>\n",
       "      <th>4</th>\n",
       "      <td>3.0</td>\n",
       "      <td>3</td>\n",
       "      <td>1.0</td>\n",
       "    </tr>\n",
       "    <tr>\n",
       "      <th>10258</th>\n",
       "      <th>1</th>\n",
       "      <td>3.0</td>\n",
       "      <td>3</td>\n",
       "      <td>1.0</td>\n",
       "    </tr>\n",
       "  </tbody>\n",
       "</table>\n",
       "</div>"
      ],
      "text/plain": [
       "                              reordered_dow  reordered_dow_size  \\\n",
       "user_id product_id order_dow                                      \n",
       "1       196        1                    3.0                   3   \n",
       "                   2                    1.0                   2   \n",
       "                   3                    2.0                   2   \n",
       "                   4                    3.0                   3   \n",
       "        10258      1                    3.0                   3   \n",
       "\n",
       "                              reordered_dow_ration  \n",
       "user_id product_id order_dow                        \n",
       "1       196        1                           1.0  \n",
       "                   2                           0.5  \n",
       "                   3                           1.0  \n",
       "                   4                           1.0  \n",
       "        10258      1                           1.0  "
      ]
     },
     "execution_count": 149,
     "metadata": {},
     "output_type": "execute_result"
    }
   ],
   "source": [
    "data_dow.head()"
   ]
  },
  {
   "cell_type": "code",
   "execution_count": 150,
   "metadata": {
    "collapsed": true
   },
   "outputs": [],
   "source": [
    "data_dow.reset_index(inplace=True)"
   ]
  },
  {
   "cell_type": "code",
   "execution_count": 151,
   "metadata": {
    "collapsed": false
   },
   "outputs": [
    {
     "data": {
      "text/html": [
       "<div>\n",
       "<style>\n",
       "    .dataframe thead tr:only-child th {\n",
       "        text-align: right;\n",
       "    }\n",
       "\n",
       "    .dataframe thead th {\n",
       "        text-align: left;\n",
       "    }\n",
       "\n",
       "    .dataframe tbody tr th {\n",
       "        vertical-align: top;\n",
       "    }\n",
       "</style>\n",
       "<table border=\"1\" class=\"dataframe\">\n",
       "  <thead>\n",
       "    <tr style=\"text-align: right;\">\n",
       "      <th></th>\n",
       "      <th>user_id</th>\n",
       "      <th>product_id</th>\n",
       "      <th>order_dow</th>\n",
       "      <th>reordered_dow</th>\n",
       "      <th>reordered_dow_size</th>\n",
       "      <th>reordered_dow_ration</th>\n",
       "    </tr>\n",
       "  </thead>\n",
       "  <tbody>\n",
       "    <tr>\n",
       "      <th>0</th>\n",
       "      <td>1</td>\n",
       "      <td>196</td>\n",
       "      <td>1</td>\n",
       "      <td>3.0</td>\n",
       "      <td>3</td>\n",
       "      <td>1.0</td>\n",
       "    </tr>\n",
       "    <tr>\n",
       "      <th>1</th>\n",
       "      <td>1</td>\n",
       "      <td>196</td>\n",
       "      <td>2</td>\n",
       "      <td>1.0</td>\n",
       "      <td>2</td>\n",
       "      <td>0.5</td>\n",
       "    </tr>\n",
       "    <tr>\n",
       "      <th>2</th>\n",
       "      <td>1</td>\n",
       "      <td>196</td>\n",
       "      <td>3</td>\n",
       "      <td>2.0</td>\n",
       "      <td>2</td>\n",
       "      <td>1.0</td>\n",
       "    </tr>\n",
       "    <tr>\n",
       "      <th>3</th>\n",
       "      <td>1</td>\n",
       "      <td>196</td>\n",
       "      <td>4</td>\n",
       "      <td>3.0</td>\n",
       "      <td>3</td>\n",
       "      <td>1.0</td>\n",
       "    </tr>\n",
       "    <tr>\n",
       "      <th>4</th>\n",
       "      <td>1</td>\n",
       "      <td>10258</td>\n",
       "      <td>1</td>\n",
       "      <td>3.0</td>\n",
       "      <td>3</td>\n",
       "      <td>1.0</td>\n",
       "    </tr>\n",
       "  </tbody>\n",
       "</table>\n",
       "</div>"
      ],
      "text/plain": [
       "   user_id  product_id  order_dow  reordered_dow  reordered_dow_size  \\\n",
       "0        1         196          1            3.0                   3   \n",
       "1        1         196          2            1.0                   2   \n",
       "2        1         196          3            2.0                   2   \n",
       "3        1         196          4            3.0                   3   \n",
       "4        1       10258          1            3.0                   3   \n",
       "\n",
       "   reordered_dow_ration  \n",
       "0                   1.0  \n",
       "1                   0.5  \n",
       "2                   1.0  \n",
       "3                   1.0  \n",
       "4                   1.0  "
      ]
     },
     "execution_count": 151,
     "metadata": {},
     "output_type": "execute_result"
    }
   ],
   "source": [
    "data_dow.head()"
   ]
  },
  {
   "cell_type": "code",
   "execution_count": 155,
   "metadata": {
    "collapsed": false
   },
   "outputs": [
    {
     "data": {
      "text/html": [
       "<div>\n",
       "<style>\n",
       "    .dataframe thead tr:only-child th {\n",
       "        text-align: right;\n",
       "    }\n",
       "\n",
       "    .dataframe thead th {\n",
       "        text-align: left;\n",
       "    }\n",
       "\n",
       "    .dataframe tbody tr th {\n",
       "        vertical-align: top;\n",
       "    }\n",
       "</style>\n",
       "<table border=\"1\" class=\"dataframe\">\n",
       "  <thead>\n",
       "    <tr style=\"text-align: right;\">\n",
       "      <th></th>\n",
       "      <th>order_id</th>\n",
       "      <th>user_id</th>\n",
       "      <th>eval_set</th>\n",
       "      <th>order_number</th>\n",
       "      <th>order_dow</th>\n",
       "      <th>order_hour_of_day</th>\n",
       "      <th>days_since_prior_order</th>\n",
       "      <th>product_id</th>\n",
       "      <th>add_to_cart_order</th>\n",
       "      <th>reordered</th>\n",
       "      <th>order_size</th>\n",
       "      <th>add_to_cart_order_inverted</th>\n",
       "      <th>add_to_cart_order_relative</th>\n",
       "    </tr>\n",
       "  </thead>\n",
       "  <tbody>\n",
       "    <tr>\n",
       "      <th>0</th>\n",
       "      <td>2539329</td>\n",
       "      <td>1</td>\n",
       "      <td>prior</td>\n",
       "      <td>1</td>\n",
       "      <td>2</td>\n",
       "      <td>8</td>\n",
       "      <td>NaN</td>\n",
       "      <td>196</td>\n",
       "      <td>1</td>\n",
       "      <td>False</td>\n",
       "      <td>5</td>\n",
       "      <td>4</td>\n",
       "      <td>0.2</td>\n",
       "    </tr>\n",
       "  </tbody>\n",
       "</table>\n",
       "</div>"
      ],
      "text/plain": [
       "   order_id  user_id eval_set  order_number  order_dow  order_hour_of_day  \\\n",
       "0   2539329        1    prior             1          2                  8   \n",
       "\n",
       "   days_since_prior_order  product_id  add_to_cart_order  reordered  \\\n",
       "0                     NaN         196                  1      False   \n",
       "\n",
       "   order_size  add_to_cart_order_inverted  add_to_cart_order_relative  \n",
       "0           5                           4                         0.2  "
      ]
     },
     "execution_count": 155,
     "metadata": {},
     "output_type": "execute_result"
    }
   ],
   "source": [
    "orders_products.head(1)"
   ]
  },
  {
   "cell_type": "code",
   "execution_count": 156,
   "metadata": {
    "collapsed": false
   },
   "outputs": [
    {
     "name": "stdout",
     "output_type": "stream",
     "text": [
      "CPU times: user 20.8 s, sys: 9.7 s, total: 30.4 s\n",
      "Wall time: 30.4 s\n"
     ]
    }
   ],
   "source": [
    "%%time\n",
    "## \n",
    "data = orders_products.groupby(['user_id', 'product_id']).agg({'user_id': 'size',\n",
    "                                                               'order_number': ['min', 'max'],\n",
    "                                                               'add_to_cart_order': ['mean', 'median'],\n",
    "                                                               'days_since_prior_order': ['mean', 'median'],\n",
    "                                                               'order_dow': ['mean', 'median'],\n",
    "                                                               'order_hour_of_day': ['mean', 'median'],\n",
    "                                                               'add_to_cart_order_inverted': ['mean', 'median'],\n",
    "                                                               'add_to_cart_order_relative': ['mean', 'median'],\n",
    "                                                               'reordered':['sum']})"
   ]
  },
  {
   "cell_type": "code",
   "execution_count": 157,
   "metadata": {
    "collapsed": false
   },
   "outputs": [
    {
     "data": {
      "text/html": [
       "<div>\n",
       "<style>\n",
       "    .dataframe thead tr:only-child th {\n",
       "        text-align: right;\n",
       "    }\n",
       "\n",
       "    .dataframe thead th {\n",
       "        text-align: left;\n",
       "    }\n",
       "\n",
       "    .dataframe tbody tr th {\n",
       "        vertical-align: top;\n",
       "    }\n",
       "</style>\n",
       "<table border=\"1\" class=\"dataframe\">\n",
       "  <thead>\n",
       "    <tr>\n",
       "      <th></th>\n",
       "      <th></th>\n",
       "      <th colspan=\"2\" halign=\"left\">add_to_cart_order</th>\n",
       "      <th colspan=\"2\" halign=\"left\">days_since_prior_order</th>\n",
       "      <th colspan=\"2\" halign=\"left\">order_number</th>\n",
       "      <th colspan=\"2\" halign=\"left\">order_dow</th>\n",
       "      <th colspan=\"2\" halign=\"left\">add_to_cart_order_inverted</th>\n",
       "      <th colspan=\"2\" halign=\"left\">order_hour_of_day</th>\n",
       "      <th>reordered</th>\n",
       "      <th>user_id</th>\n",
       "      <th colspan=\"2\" halign=\"left\">add_to_cart_order_relative</th>\n",
       "    </tr>\n",
       "    <tr>\n",
       "      <th></th>\n",
       "      <th></th>\n",
       "      <th>mean</th>\n",
       "      <th>median</th>\n",
       "      <th>mean</th>\n",
       "      <th>median</th>\n",
       "      <th>min</th>\n",
       "      <th>max</th>\n",
       "      <th>mean</th>\n",
       "      <th>median</th>\n",
       "      <th>mean</th>\n",
       "      <th>median</th>\n",
       "      <th>mean</th>\n",
       "      <th>median</th>\n",
       "      <th>sum</th>\n",
       "      <th>size</th>\n",
       "      <th>mean</th>\n",
       "      <th>median</th>\n",
       "    </tr>\n",
       "    <tr>\n",
       "      <th>user_id</th>\n",
       "      <th>product_id</th>\n",
       "      <th></th>\n",
       "      <th></th>\n",
       "      <th></th>\n",
       "      <th></th>\n",
       "      <th></th>\n",
       "      <th></th>\n",
       "      <th></th>\n",
       "      <th></th>\n",
       "      <th></th>\n",
       "      <th></th>\n",
       "      <th></th>\n",
       "      <th></th>\n",
       "      <th></th>\n",
       "      <th></th>\n",
       "      <th></th>\n",
       "      <th></th>\n",
       "    </tr>\n",
       "  </thead>\n",
       "  <tbody>\n",
       "    <tr>\n",
       "      <th rowspan=\"5\" valign=\"top\">1</th>\n",
       "      <th>196</th>\n",
       "      <td>1.400000</td>\n",
       "      <td>1.0</td>\n",
       "      <td>19.555556</td>\n",
       "      <td>20.0</td>\n",
       "      <td>1</td>\n",
       "      <td>10</td>\n",
       "      <td>2.500000</td>\n",
       "      <td>2.5</td>\n",
       "      <td>4.500000</td>\n",
       "      <td>4.0</td>\n",
       "      <td>10.300000</td>\n",
       "      <td>8.5</td>\n",
       "      <td>9.0</td>\n",
       "      <td>10</td>\n",
       "      <td>0.245278</td>\n",
       "      <td>0.200</td>\n",
       "    </tr>\n",
       "    <tr>\n",
       "      <th>10258</th>\n",
       "      <td>3.333333</td>\n",
       "      <td>3.0</td>\n",
       "      <td>19.555556</td>\n",
       "      <td>20.0</td>\n",
       "      <td>2</td>\n",
       "      <td>10</td>\n",
       "      <td>2.555556</td>\n",
       "      <td>3.0</td>\n",
       "      <td>2.666667</td>\n",
       "      <td>3.0</td>\n",
       "      <td>10.555556</td>\n",
       "      <td>9.0</td>\n",
       "      <td>8.0</td>\n",
       "      <td>9</td>\n",
       "      <td>0.562037</td>\n",
       "      <td>0.600</td>\n",
       "    </tr>\n",
       "    <tr>\n",
       "      <th>10326</th>\n",
       "      <td>5.000000</td>\n",
       "      <td>5.0</td>\n",
       "      <td>28.000000</td>\n",
       "      <td>28.0</td>\n",
       "      <td>5</td>\n",
       "      <td>5</td>\n",
       "      <td>4.000000</td>\n",
       "      <td>4.0</td>\n",
       "      <td>3.000000</td>\n",
       "      <td>3.0</td>\n",
       "      <td>15.000000</td>\n",
       "      <td>15.0</td>\n",
       "      <td>0.0</td>\n",
       "      <td>1</td>\n",
       "      <td>0.625000</td>\n",
       "      <td>0.625</td>\n",
       "    </tr>\n",
       "    <tr>\n",
       "      <th>12427</th>\n",
       "      <td>3.300000</td>\n",
       "      <td>2.5</td>\n",
       "      <td>19.555556</td>\n",
       "      <td>20.0</td>\n",
       "      <td>1</td>\n",
       "      <td>10</td>\n",
       "      <td>2.500000</td>\n",
       "      <td>2.5</td>\n",
       "      <td>2.600000</td>\n",
       "      <td>2.5</td>\n",
       "      <td>10.300000</td>\n",
       "      <td>8.5</td>\n",
       "      <td>9.0</td>\n",
       "      <td>10</td>\n",
       "      <td>0.541667</td>\n",
       "      <td>0.500</td>\n",
       "    </tr>\n",
       "    <tr>\n",
       "      <th>13032</th>\n",
       "      <td>6.333333</td>\n",
       "      <td>6.0</td>\n",
       "      <td>21.666667</td>\n",
       "      <td>20.0</td>\n",
       "      <td>2</td>\n",
       "      <td>10</td>\n",
       "      <td>2.666667</td>\n",
       "      <td>3.0</td>\n",
       "      <td>0.333333</td>\n",
       "      <td>0.0</td>\n",
       "      <td>8.000000</td>\n",
       "      <td>8.0</td>\n",
       "      <td>2.0</td>\n",
       "      <td>3</td>\n",
       "      <td>0.962963</td>\n",
       "      <td>1.000</td>\n",
       "    </tr>\n",
       "  </tbody>\n",
       "</table>\n",
       "</div>"
      ],
      "text/plain": [
       "                   add_to_cart_order        days_since_prior_order         \\\n",
       "                                mean median                   mean median   \n",
       "user_id product_id                                                          \n",
       "1       196                 1.400000    1.0              19.555556   20.0   \n",
       "        10258               3.333333    3.0              19.555556   20.0   \n",
       "        10326               5.000000    5.0              28.000000   28.0   \n",
       "        12427               3.300000    2.5              19.555556   20.0   \n",
       "        13032               6.333333    6.0              21.666667   20.0   \n",
       "\n",
       "                   order_number     order_dow         \\\n",
       "                            min max      mean median   \n",
       "user_id product_id                                     \n",
       "1       196                   1  10  2.500000    2.5   \n",
       "        10258                 2  10  2.555556    3.0   \n",
       "        10326                 5   5  4.000000    4.0   \n",
       "        12427                 1  10  2.500000    2.5   \n",
       "        13032                 2  10  2.666667    3.0   \n",
       "\n",
       "                   add_to_cart_order_inverted        order_hour_of_day         \\\n",
       "                                         mean median              mean median   \n",
       "user_id product_id                                                              \n",
       "1       196                          4.500000    4.0         10.300000    8.5   \n",
       "        10258                        2.666667    3.0         10.555556    9.0   \n",
       "        10326                        3.000000    3.0         15.000000   15.0   \n",
       "        12427                        2.600000    2.5         10.300000    8.5   \n",
       "        13032                        0.333333    0.0          8.000000    8.0   \n",
       "\n",
       "                   reordered user_id add_to_cart_order_relative         \n",
       "                         sum    size                       mean median  \n",
       "user_id product_id                                                      \n",
       "1       196              9.0      10                   0.245278  0.200  \n",
       "        10258            8.0       9                   0.562037  0.600  \n",
       "        10326            0.0       1                   0.625000  0.625  \n",
       "        12427            9.0      10                   0.541667  0.500  \n",
       "        13032            2.0       3                   0.962963  1.000  "
      ]
     },
     "execution_count": 157,
     "metadata": {},
     "output_type": "execute_result"
    }
   ],
   "source": [
    "data.head()"
   ]
  },
  {
   "cell_type": "code",
   "execution_count": 158,
   "metadata": {
    "collapsed": true
   },
   "outputs": [],
   "source": [
    "## up_orders(size) : 유저의 총 구매 수\n",
    "## up_first_order(order_number-min) : 유저-상품의 order_num의 시작 -> 해당 상품이 유저의 order_num에 어디에 처음 들어가는가\n",
    "## up_last_order(order_number-max) : 유저-상품의 order_num의 끝 -> 해당 상품이 유저의 order_num에 어디에 마지막으로 들어가는가\n",
    "## up_mean_cart_position : 유저-상품의 평균 장바구니 순서 -> 해당 상품이 유저의 카트에 평균 몇번째로 들어가는가?\n",
    "## up_median_cart_position : 유저-상품의 평균 장바구니 순서 -> 해당 상품이 유저의 카트에 중앙값 몇번째로 들어가는가?\n",
    "## days_since_prior_order_mean : 유저-상품의 평균 구매 기간 -> 유저가 해당상품을 재구매하는데 소요되는 평균 기간\n",
    "## days_since_prior_order_median : 유저-상품의 중앙값 구매 기간 -> 유저가 해당상품을 재구매하는데 소요되는 중앙값 기간\n",
    "## order_dow_mean : 유저-상품의 평균 요일\n",
    "## order_dow_median : 유저-상품의 중앙값 요일\n",
    "## order_hour_of_day_mean : 유저-상품의 평균 구매 시간\n",
    "## order_hour_of_day_median : 유저-상품의 중앙값 구매 시간\n",
    "## add_to_cart_order_inverted_mean : 유저-상품의 평균 add_to_cart_order_inverted_ -> 유저가 해당 상품을 사고 얼마나 더 쇼핑했는지\n",
    "## add_to_cart_order_inverted_median : 유저-상품의 중앙값 add_to_cart_order_inverted\n",
    "## add_to_cart_order_relative_mean : 유저-상품의 평균 add_to_cart_order_relative 해당 상품이 얼마나 유저에게 중요했는지\n",
    "## add_to_cart_order_relative_median : 유저-상품의 중앙값 add_to_cart_order_relative\n",
    "## reordered_sum : 유저-상품 당 재구매 총 횟수\n",
    "\n",
    "data.columns = data.columns.droplevel(0)\n",
    "data.columns = ['up_orders', 'up_first_order', 'up_last_order', 'up_mean_cart_position', 'up_median_cart_position',\n",
    "                'days_since_prior_order_mean', 'days_since_prior_order_median', 'order_dow_mean', 'order_dow_median',\n",
    "                'order_hour_of_day_mean', 'order_hour_of_day_median','add_to_cart_order_inverted_mean', \n",
    "                'add_to_cart_order_inverted_median','add_to_cart_order_relative_mean', \n",
    "                'add_to_cart_order_relative_median','reordered_sum']"
   ]
  },
  {
   "cell_type": "code",
   "execution_count": 159,
   "metadata": {
    "collapsed": false
   },
   "outputs": [
    {
     "data": {
      "text/html": [
       "<div>\n",
       "<style>\n",
       "    .dataframe thead tr:only-child th {\n",
       "        text-align: right;\n",
       "    }\n",
       "\n",
       "    .dataframe thead th {\n",
       "        text-align: left;\n",
       "    }\n",
       "\n",
       "    .dataframe tbody tr th {\n",
       "        vertical-align: top;\n",
       "    }\n",
       "</style>\n",
       "<table border=\"1\" class=\"dataframe\">\n",
       "  <thead>\n",
       "    <tr style=\"text-align: right;\">\n",
       "      <th></th>\n",
       "      <th></th>\n",
       "      <th>up_orders</th>\n",
       "      <th>up_first_order</th>\n",
       "      <th>up_last_order</th>\n",
       "      <th>up_mean_cart_position</th>\n",
       "      <th>up_median_cart_position</th>\n",
       "      <th>days_since_prior_order_mean</th>\n",
       "      <th>days_since_prior_order_median</th>\n",
       "      <th>order_dow_mean</th>\n",
       "      <th>order_dow_median</th>\n",
       "      <th>order_hour_of_day_mean</th>\n",
       "      <th>order_hour_of_day_median</th>\n",
       "      <th>add_to_cart_order_inverted_mean</th>\n",
       "      <th>add_to_cart_order_inverted_median</th>\n",
       "      <th>add_to_cart_order_relative_mean</th>\n",
       "      <th>add_to_cart_order_relative_median</th>\n",
       "      <th>reordered_sum</th>\n",
       "    </tr>\n",
       "    <tr>\n",
       "      <th>user_id</th>\n",
       "      <th>product_id</th>\n",
       "      <th></th>\n",
       "      <th></th>\n",
       "      <th></th>\n",
       "      <th></th>\n",
       "      <th></th>\n",
       "      <th></th>\n",
       "      <th></th>\n",
       "      <th></th>\n",
       "      <th></th>\n",
       "      <th></th>\n",
       "      <th></th>\n",
       "      <th></th>\n",
       "      <th></th>\n",
       "      <th></th>\n",
       "      <th></th>\n",
       "      <th></th>\n",
       "    </tr>\n",
       "  </thead>\n",
       "  <tbody>\n",
       "    <tr>\n",
       "      <th rowspan=\"5\" valign=\"top\">1</th>\n",
       "      <th>196</th>\n",
       "      <td>1.400000</td>\n",
       "      <td>1.0</td>\n",
       "      <td>19.555556</td>\n",
       "      <td>20.0</td>\n",
       "      <td>1</td>\n",
       "      <td>10</td>\n",
       "      <td>2.500000</td>\n",
       "      <td>2.5</td>\n",
       "      <td>4.500000</td>\n",
       "      <td>4.0</td>\n",
       "      <td>10.300000</td>\n",
       "      <td>8.5</td>\n",
       "      <td>9.0</td>\n",
       "      <td>10</td>\n",
       "      <td>0.245278</td>\n",
       "      <td>0.200</td>\n",
       "    </tr>\n",
       "    <tr>\n",
       "      <th>10258</th>\n",
       "      <td>3.333333</td>\n",
       "      <td>3.0</td>\n",
       "      <td>19.555556</td>\n",
       "      <td>20.0</td>\n",
       "      <td>2</td>\n",
       "      <td>10</td>\n",
       "      <td>2.555556</td>\n",
       "      <td>3.0</td>\n",
       "      <td>2.666667</td>\n",
       "      <td>3.0</td>\n",
       "      <td>10.555556</td>\n",
       "      <td>9.0</td>\n",
       "      <td>8.0</td>\n",
       "      <td>9</td>\n",
       "      <td>0.562037</td>\n",
       "      <td>0.600</td>\n",
       "    </tr>\n",
       "    <tr>\n",
       "      <th>10326</th>\n",
       "      <td>5.000000</td>\n",
       "      <td>5.0</td>\n",
       "      <td>28.000000</td>\n",
       "      <td>28.0</td>\n",
       "      <td>5</td>\n",
       "      <td>5</td>\n",
       "      <td>4.000000</td>\n",
       "      <td>4.0</td>\n",
       "      <td>3.000000</td>\n",
       "      <td>3.0</td>\n",
       "      <td>15.000000</td>\n",
       "      <td>15.0</td>\n",
       "      <td>0.0</td>\n",
       "      <td>1</td>\n",
       "      <td>0.625000</td>\n",
       "      <td>0.625</td>\n",
       "    </tr>\n",
       "    <tr>\n",
       "      <th>12427</th>\n",
       "      <td>3.300000</td>\n",
       "      <td>2.5</td>\n",
       "      <td>19.555556</td>\n",
       "      <td>20.0</td>\n",
       "      <td>1</td>\n",
       "      <td>10</td>\n",
       "      <td>2.500000</td>\n",
       "      <td>2.5</td>\n",
       "      <td>2.600000</td>\n",
       "      <td>2.5</td>\n",
       "      <td>10.300000</td>\n",
       "      <td>8.5</td>\n",
       "      <td>9.0</td>\n",
       "      <td>10</td>\n",
       "      <td>0.541667</td>\n",
       "      <td>0.500</td>\n",
       "    </tr>\n",
       "    <tr>\n",
       "      <th>13032</th>\n",
       "      <td>6.333333</td>\n",
       "      <td>6.0</td>\n",
       "      <td>21.666667</td>\n",
       "      <td>20.0</td>\n",
       "      <td>2</td>\n",
       "      <td>10</td>\n",
       "      <td>2.666667</td>\n",
       "      <td>3.0</td>\n",
       "      <td>0.333333</td>\n",
       "      <td>0.0</td>\n",
       "      <td>8.000000</td>\n",
       "      <td>8.0</td>\n",
       "      <td>2.0</td>\n",
       "      <td>3</td>\n",
       "      <td>0.962963</td>\n",
       "      <td>1.000</td>\n",
       "    </tr>\n",
       "  </tbody>\n",
       "</table>\n",
       "</div>"
      ],
      "text/plain": [
       "                    up_orders  up_first_order  up_last_order  \\\n",
       "user_id product_id                                             \n",
       "1       196          1.400000             1.0      19.555556   \n",
       "        10258        3.333333             3.0      19.555556   \n",
       "        10326        5.000000             5.0      28.000000   \n",
       "        12427        3.300000             2.5      19.555556   \n",
       "        13032        6.333333             6.0      21.666667   \n",
       "\n",
       "                    up_mean_cart_position  up_median_cart_position  \\\n",
       "user_id product_id                                                   \n",
       "1       196                          20.0                        1   \n",
       "        10258                        20.0                        2   \n",
       "        10326                        28.0                        5   \n",
       "        12427                        20.0                        1   \n",
       "        13032                        20.0                        2   \n",
       "\n",
       "                    days_since_prior_order_mean  \\\n",
       "user_id product_id                                \n",
       "1       196                                  10   \n",
       "        10258                                10   \n",
       "        10326                                 5   \n",
       "        12427                                10   \n",
       "        13032                                10   \n",
       "\n",
       "                    days_since_prior_order_median  order_dow_mean  \\\n",
       "user_id product_id                                                  \n",
       "1       196                              2.500000             2.5   \n",
       "        10258                            2.555556             3.0   \n",
       "        10326                            4.000000             4.0   \n",
       "        12427                            2.500000             2.5   \n",
       "        13032                            2.666667             3.0   \n",
       "\n",
       "                    order_dow_median  order_hour_of_day_mean  \\\n",
       "user_id product_id                                             \n",
       "1       196                 4.500000                     4.0   \n",
       "        10258               2.666667                     3.0   \n",
       "        10326               3.000000                     3.0   \n",
       "        12427               2.600000                     2.5   \n",
       "        13032               0.333333                     0.0   \n",
       "\n",
       "                    order_hour_of_day_median  add_to_cart_order_inverted_mean  \\\n",
       "user_id product_id                                                              \n",
       "1       196                        10.300000                              8.5   \n",
       "        10258                      10.555556                              9.0   \n",
       "        10326                      15.000000                             15.0   \n",
       "        12427                      10.300000                              8.5   \n",
       "        13032                       8.000000                              8.0   \n",
       "\n",
       "                    add_to_cart_order_inverted_median  \\\n",
       "user_id product_id                                      \n",
       "1       196                                       9.0   \n",
       "        10258                                     8.0   \n",
       "        10326                                     0.0   \n",
       "        12427                                     9.0   \n",
       "        13032                                     2.0   \n",
       "\n",
       "                    add_to_cart_order_relative_mean  \\\n",
       "user_id product_id                                    \n",
       "1       196                                      10   \n",
       "        10258                                     9   \n",
       "        10326                                     1   \n",
       "        12427                                    10   \n",
       "        13032                                     3   \n",
       "\n",
       "                    add_to_cart_order_relative_median  reordered_sum  \n",
       "user_id product_id                                                    \n",
       "1       196                                  0.245278          0.200  \n",
       "        10258                                0.562037          0.600  \n",
       "        10326                                0.625000          0.625  \n",
       "        12427                                0.541667          0.500  \n",
       "        13032                                0.962963          1.000  "
      ]
     },
     "execution_count": 159,
     "metadata": {},
     "output_type": "execute_result"
    }
   ],
   "source": [
    "data.head()"
   ]
  },
  {
   "cell_type": "code",
   "execution_count": 160,
   "metadata": {
    "collapsed": true
   },
   "outputs": [],
   "source": [
    "## user_product_reordered_ratio : reordered_sum에서 유저의 총구매수를 나눈 유저의 재구매 비율 -> 유저가 해당상품을 재구매한 비율\n",
    "data['user_product_reordered_ratio'] = (data.reordered_sum + 1.0) / data.up_orders"
   ]
  },
  {
   "cell_type": "code",
   "execution_count": 161,
   "metadata": {
    "collapsed": true
   },
   "outputs": [],
   "source": [
    "# data['first_order'] = data['up_orders'] > 0\n",
    "# data['second_order'] = data['up_orders'] > 1\n",
    "\n",
    "# data.groupby('product_id')['']\n",
    "data.reset_index(inplace=True)\n"
   ]
  },
  {
   "cell_type": "code",
   "execution_count": 162,
   "metadata": {
    "collapsed": true
   },
   "outputs": [],
   "source": [
    "## 파생변수 전부 합한다.\n",
    "data = pd.merge(data, prod_stat, on='product_id')\n",
    "data = pd.merge(data, user_stat, on='user_id')"
   ]
  },
  {
   "cell_type": "code",
   "execution_count": 163,
   "metadata": {
    "collapsed": true
   },
   "outputs": [],
   "source": [
    "data['up_order_rate'] = data.up_orders / data.user_orders\n",
    "data['up_orders_since_last_order'] = data.user_orders - data.up_last_order\n",
    "data['up_order_rate_since_first_order'] = data.user_orders / (data.user_orders - data.up_first_order + 1)"
   ]
  },
  {
   "cell_type": "code",
   "execution_count": 165,
   "metadata": {
    "collapsed": false
   },
   "outputs": [
    {
     "data": {
      "text/html": [
       "<div>\n",
       "<style>\n",
       "    .dataframe thead tr:only-child th {\n",
       "        text-align: right;\n",
       "    }\n",
       "\n",
       "    .dataframe thead th {\n",
       "        text-align: left;\n",
       "    }\n",
       "\n",
       "    .dataframe tbody tr th {\n",
       "        vertical-align: top;\n",
       "    }\n",
       "</style>\n",
       "<table border=\"1\" class=\"dataframe\">\n",
       "  <thead>\n",
       "    <tr style=\"text-align: right;\">\n",
       "      <th></th>\n",
       "      <th>up_order_rate</th>\n",
       "      <th>up_orders_since_last_order</th>\n",
       "      <th>up_order_rate_since_first_order</th>\n",
       "    </tr>\n",
       "  </thead>\n",
       "  <tbody>\n",
       "    <tr>\n",
       "      <th>0</th>\n",
       "      <td>0.140000</td>\n",
       "      <td>-9.555556</td>\n",
       "      <td>1.000000</td>\n",
       "    </tr>\n",
       "    <tr>\n",
       "      <th>1</th>\n",
       "      <td>0.333333</td>\n",
       "      <td>-9.555556</td>\n",
       "      <td>1.250000</td>\n",
       "    </tr>\n",
       "    <tr>\n",
       "      <th>2</th>\n",
       "      <td>0.500000</td>\n",
       "      <td>-18.000000</td>\n",
       "      <td>1.666667</td>\n",
       "    </tr>\n",
       "    <tr>\n",
       "      <th>3</th>\n",
       "      <td>0.330000</td>\n",
       "      <td>-9.555556</td>\n",
       "      <td>1.176471</td>\n",
       "    </tr>\n",
       "    <tr>\n",
       "      <th>4</th>\n",
       "      <td>0.633333</td>\n",
       "      <td>-11.666667</td>\n",
       "      <td>2.000000</td>\n",
       "    </tr>\n",
       "  </tbody>\n",
       "</table>\n",
       "</div>"
      ],
      "text/plain": [
       "   up_order_rate  up_orders_since_last_order  up_order_rate_since_first_order\n",
       "0       0.140000                   -9.555556                         1.000000\n",
       "1       0.333333                   -9.555556                         1.250000\n",
       "2       0.500000                  -18.000000                         1.666667\n",
       "3       0.330000                   -9.555556                         1.176471\n",
       "4       0.633333                  -11.666667                         2.000000"
      ]
     },
     "execution_count": 165,
     "metadata": {},
     "output_type": "execute_result"
    }
   ],
   "source": [
    "data[['up_order_rate','up_orders_since_last_order','up_order_rate_since_first_order']].head()"
   ]
  },
  {
   "cell_type": "code",
   "execution_count": 166,
   "metadata": {
    "collapsed": false
   },
   "outputs": [
    {
     "name": "stdout",
     "output_type": "stream",
     "text": [
      "CPU times: user 58.6 s, sys: 19 s, total: 1min 17s\n",
      "Wall time: 1min 17s\n"
     ]
    }
   ],
   "source": [
    "%%time\n",
    "user_dep_stat = pd.read_pickle('data/user_department_products.pkl')\n",
    "user_aisle_stat = pd.read_pickle('data/user_aisle_products.pkl')\n",
    "\n",
    "order_train = pd.merge(order_train, products, on='product_id')\n",
    "order_train = pd.merge(order_train, orders, on='order_id')\n",
    "order_train = pd.merge(order_train, user_dep_stat, on=['user_id', 'department_id'])\n",
    "order_train = pd.merge(order_train, user_aisle_stat, on=['user_id', 'aisle_id'])\n",
    "\n",
    "order_train = pd.merge(order_train, prod_usr, on='product_id')\n",
    "order_train = pd.merge(order_train, prod_usr_reordered, on='product_id', how='left')\n",
    "order_train.prod_users_unq_reordered.fillna(0, inplace=True)\n",
    "\n",
    "order_train = pd.merge(order_train, data, on=['product_id', 'user_id'])\n",
    "order_train = pd.merge(order_train, data_dow, on=['product_id', 'user_id', 'order_dow'], how='left')\n",
    "\n",
    "order_train['aisle_reordered_ratio'] = order_train.aisle_reordered / order_train.user_orders\n",
    "order_train['dep_reordered_ratio'] = order_train.dep_reordered / order_train.user_orders\n",
    "\n",
    "order_train = pd.merge(order_train, product_periods, on=['user_id',  'product_id'])\n",
    "order_train = pd.merge(order_train, product_embeddings, on=['product_id'])"
   ]
  },
  {
   "cell_type": "code",
   "execution_count": 168,
   "metadata": {
    "collapsed": true
   },
   "outputs": [],
   "source": [
    "# order_train = pd.merge(order_train, weights, on='order_id')\n",
    "\n",
    "# order_train = pd.merge(order_train, order_prev, on=['order_id', 'product_id'], how='left')\n",
    "# order_train.reordered_prev = order_train.reordered_prev.astype(np.float32) + 1.\n",
    "# order_train['reordered_prev'].fillna(0, inplace=True)\n",
    "# order_train[['add_to_cart_order_prev', 'order_dow_prev', 'order_hour_of_day_prev']].fillna(255, inplace=True)\n",
    "\n",
    "# order_train.days_since_prior_order_mean -= order_train.days_since_prior_order\n",
    "# order_train.days_since_prior_order_median -= order_train.days_since_prior_order\n",
    "#\n",
    "# order_train.order_dow_mean -= order_train.order_dow\n",
    "# order_train.order_dow_median -= order_train.order_dow\n",
    "#\n",
    "# order_train.order_hour_of_day_mean -= order_train.order_hour_of_day\n",
    "# order_train.order_hour_of_day_median -= order_train.order_hour_of_day"
   ]
  },
  {
   "cell_type": "code",
   "execution_count": 169,
   "metadata": {
    "collapsed": true
   },
   "outputs": [],
   "source": [
    "unique_orders = np.unique(order_train.order_id)\n",
    "orders_train, orders_test = train_test_split(unique_orders, test_size=0.25, random_state=2017)\n",
    "\n",
    "order_test = order_train.loc[np.in1d(order_train.order_id, orders_test)]\n",
    "order_train = order_train.loc[np.in1d(order_train.order_id, orders_train)]\n",
    "\n",
    "features = [\n",
    "        # 'reordered_dow_ration', 'reordered_dow', 'reordered_dow_size',\n",
    "        # 'reordered_prev', 'add_to_cart_order_prev', 'order_dow_prev', 'order_hour_of_day_prev',\n",
    "        'user_product_reordered_ratio', 'reordered_sum',\n",
    "        'add_to_cart_order_inverted_mean', 'add_to_cart_order_relative_mean',\n",
    "        'reorder_prob',\n",
    "        'last', 'prev1', 'prev2', 'median', 'mean',\n",
    "        'dep_reordered_ratio', 'aisle_reordered_ratio',\n",
    "        'aisle_products',\n",
    "        'aisle_reordered',\n",
    "        'dep_products',\n",
    "        'dep_reordered',\n",
    "        'prod_users_unq', 'prod_users_unq_reordered',\n",
    "        'order_number', 'prod_add_to_card_mean',\n",
    "                'days_since_prior_order',\n",
    "        'order_dow', 'order_hour_of_day',\n",
    "                'reorder_ration',\n",
    "                        'user_orders', 'user_order_starts_at', 'user_mean_days_since_prior',\n",
    "        # 'user_median_days_since_prior',\n",
    "                        'user_average_basket', 'user_distinct_products', 'user_reorder_ratio', 'user_total_products',\n",
    "                        'prod_orders', 'prod_reorders',\n",
    "                        'up_order_rate', 'up_orders_since_last_order', 'up_order_rate_since_first_order',\n",
    "                        'up_orders', 'up_first_order', 'up_last_order', 'up_mean_cart_position',\n",
    "        # 'up_median_cart_position',\n",
    "                             'days_since_prior_order_mean',\n",
    "        # 'days_since_prior_order_median',\n",
    "        'order_dow_mean',\n",
    "        # 'order_dow_median',\n",
    "        #                      'order_hour_of_day_mean',\n",
    "        # 'order_hour_of_day_median'\n",
    "]"
   ]
  },
  {
   "cell_type": "code",
   "execution_count": 170,
   "metadata": {
    "collapsed": true
   },
   "outputs": [],
   "source": [
    "features.extend(embedings)\n",
    "categories = ['product_id', 'aisle_id', 'department_id']\n",
    "features.extend(embedings)\n",
    "cat_features = [x + len(features) for x in range(len(categories))]\n",
    "#cat_features = ','.join(map(lambda x: str(x + len(features)), range(len(categories))))\n",
    "features.extend(categories)"
   ]
  },
  {
   "cell_type": "code",
   "execution_count": 172,
   "metadata": {
    "collapsed": false
   },
   "outputs": [
    {
     "name": "stdout",
     "output_type": "stream",
     "text": [
      "CPU times: user 1.16 s, sys: 4.15 s, total: 5.31 s\n",
      "Wall time: 5.26 s\n"
     ]
    }
   ],
   "source": [
    "%%time\n",
    "data = order_train[features]\n",
    "## order_train[['reordered']]이 True False의 bool이라서 float32로 바꿔 더미코딩(리코딩)한다.\n",
    "labels = order_train[['reordered']].values.astype(np.float32).flatten()"
   ]
  },
  {
   "cell_type": "code",
   "execution_count": 173,
   "metadata": {
    "collapsed": false
   },
   "outputs": [
    {
     "name": "stdout",
     "output_type": "stream",
     "text": [
      "CPU times: user 404 ms, sys: 264 ms, total: 668 ms\n",
      "Wall time: 662 ms\n"
     ]
    }
   ],
   "source": [
    "%%time\n",
    "data_val = order_test[features]\n",
    "labels_val = order_test[['reordered']].values.astype(np.float32).flatten()"
   ]
  },
  {
   "cell_type": "code",
   "execution_count": 176,
   "metadata": {
    "collapsed": false
   },
   "outputs": [
    {
     "name": "stdout",
     "output_type": "stream",
     "text": [
      "<class 'pandas.core.frame.DataFrame'>\n",
      "Int64Index: 6357933 entries, 0 to 8474657\n",
      "Columns: 109 entries, user_product_reordered_ratio to department_id\n",
      "dtypes: float32(65), float64(29), int64(3), uint16(3), uint32(1), uint64(1), uint8(7)\n",
      "memory usage: 3.3 GB\n"
     ]
    }
   ],
   "source": [
    "data.info()"
   ]
  },
  {
   "cell_type": "code",
   "execution_count": 177,
   "metadata": {
    "collapsed": false
   },
   "outputs": [
    {
     "name": "stdout",
     "output_type": "stream",
     "text": [
      "<class 'pandas.core.frame.DataFrame'>\n",
      "Int64Index: 2116728 entries, 1 to 8474660\n",
      "Columns: 109 entries, user_product_reordered_ratio to department_id\n",
      "dtypes: float32(65), float64(29), int64(3), uint16(3), uint32(1), uint64(1), uint8(7)\n",
      "memory usage: 1.1 GB\n"
     ]
    }
   ],
   "source": [
    "data_val.info()"
   ]
  },
  {
   "cell_type": "code",
   "execution_count": 178,
   "metadata": {
    "collapsed": true
   },
   "outputs": [],
   "source": [
    "lgb_train = lgb.Dataset(data, labels, categorical_feature=cat_features)\n",
    "lgb_eval = lgb.Dataset(data_val, labels_val, reference=lgb_train, categorical_feature=cat_features)"
   ]
  },
  {
   "cell_type": "code",
   "execution_count": 179,
   "metadata": {
    "collapsed": true
   },
   "outputs": [],
   "source": [
    "params = {\n",
    "        'task': 'train',\n",
    "        'boosting_type': 'gbdt',\n",
    "        'objective': 'binary',\n",
    "        'metric': {'binary_logloss', 'auc'},\n",
    "        'num_leaves': 256,\n",
    "        'min_sum_hessian_in_leaf':20,\n",
    "        'max_depth': -12,\n",
    "        'learning_rate': 0.05,\n",
    "        'feature_fraction': 0.6,\n",
    "        # 'bagging_fraction': 0.9,\n",
    "        # 'bagging_freq': 3,\n",
    "        'verbose': 1\n",
    "    }"
   ]
  },
  {
   "cell_type": "code",
   "execution_count": 181,
   "metadata": {
    "collapsed": false,
    "scrolled": true
   },
   "outputs": [
    {
     "name": "stdout",
     "output_type": "stream",
     "text": [
      "Start training...\n"
     ]
    },
    {
     "name": "stderr",
     "output_type": "stream",
     "text": [
      "/home/supermario0759/anaconda3/lib/python3.5/site-packages/lightgbm/basic.py:1002: UserWarning: Using categorical_feature in Dataset.\n",
      "  warnings.warn('Using categorical_feature in Dataset.')\n"
     ]
    },
    {
     "name": "stdout",
     "output_type": "stream",
     "text": [
      "[1]\tvalid_0's auc: 0.811561\tvalid_0's binary_logloss: 0.658484\n",
      "Training until validation scores don't improve for 30 rounds.\n",
      "[2]\tvalid_0's auc: 0.816788\tvalid_0's binary_logloss: 0.627227\n",
      "[3]\tvalid_0's auc: 0.8178\tvalid_0's binary_logloss: 0.598813\n",
      "[4]\tvalid_0's auc: 0.822285\tvalid_0's binary_logloss: 0.572757\n",
      "[5]\tvalid_0's auc: 0.823901\tvalid_0's binary_logloss: 0.548949\n",
      "[6]\tvalid_0's auc: 0.825109\tvalid_0's binary_logloss: 0.527158\n",
      "[7]\tvalid_0's auc: 0.82485\tvalid_0's binary_logloss: 0.507218\n",
      "[8]\tvalid_0's auc: 0.824849\tvalid_0's binary_logloss: 0.488952\n",
      "[9]\tvalid_0's auc: 0.826913\tvalid_0's binary_logloss: 0.472246\n",
      "[10]\tvalid_0's auc: 0.826894\tvalid_0's binary_logloss: 0.456644\n",
      "[11]\tvalid_0's auc: 0.827421\tvalid_0's binary_logloss: 0.442415\n",
      "[12]\tvalid_0's auc: 0.827252\tvalid_0's binary_logloss: 0.429045\n",
      "[13]\tvalid_0's auc: 0.827484\tvalid_0's binary_logloss: 0.416584\n",
      "[14]\tvalid_0's auc: 0.828075\tvalid_0's binary_logloss: 0.404924\n",
      "[15]\tvalid_0's auc: 0.828494\tvalid_0's binary_logloss: 0.394117\n",
      "[16]\tvalid_0's auc: 0.828672\tvalid_0's binary_logloss: 0.384317\n",
      "[17]\tvalid_0's auc: 0.828748\tvalid_0's binary_logloss: 0.375038\n",
      "[18]\tvalid_0's auc: 0.828849\tvalid_0's binary_logloss: 0.366414\n",
      "[19]\tvalid_0's auc: 0.828944\tvalid_0's binary_logloss: 0.358608\n",
      "[20]\tvalid_0's auc: 0.829326\tvalid_0's binary_logloss: 0.351034\n",
      "[21]\tvalid_0's auc: 0.829614\tvalid_0's binary_logloss: 0.343964\n",
      "[22]\tvalid_0's auc: 0.829893\tvalid_0's binary_logloss: 0.337535\n",
      "[23]\tvalid_0's auc: 0.829763\tvalid_0's binary_logloss: 0.331521\n",
      "[24]\tvalid_0's auc: 0.829723\tvalid_0's binary_logloss: 0.326099\n",
      "[25]\tvalid_0's auc: 0.829919\tvalid_0's binary_logloss: 0.320733\n",
      "[26]\tvalid_0's auc: 0.82988\tvalid_0's binary_logloss: 0.315839\n",
      "[27]\tvalid_0's auc: 0.829797\tvalid_0's binary_logloss: 0.311422\n",
      "[28]\tvalid_0's auc: 0.8298\tvalid_0's binary_logloss: 0.307126\n",
      "[29]\tvalid_0's auc: 0.82985\tvalid_0's binary_logloss: 0.303055\n",
      "[30]\tvalid_0's auc: 0.829898\tvalid_0's binary_logloss: 0.299245\n",
      "[31]\tvalid_0's auc: 0.829869\tvalid_0's binary_logloss: 0.295754\n",
      "[32]\tvalid_0's auc: 0.830195\tvalid_0's binary_logloss: 0.292444\n",
      "[33]\tvalid_0's auc: 0.830171\tvalid_0's binary_logloss: 0.289385\n",
      "[34]\tvalid_0's auc: 0.830454\tvalid_0's binary_logloss: 0.286403\n",
      "[35]\tvalid_0's auc: 0.830616\tvalid_0's binary_logloss: 0.283666\n",
      "[36]\tvalid_0's auc: 0.830617\tvalid_0's binary_logloss: 0.281347\n",
      "[37]\tvalid_0's auc: 0.830887\tvalid_0's binary_logloss: 0.278892\n",
      "[38]\tvalid_0's auc: 0.83102\tvalid_0's binary_logloss: 0.276793\n",
      "[39]\tvalid_0's auc: 0.831268\tvalid_0's binary_logloss: 0.274625\n",
      "[40]\tvalid_0's auc: 0.831316\tvalid_0's binary_logloss: 0.27268\n",
      "[41]\tvalid_0's auc: 0.831423\tvalid_0's binary_logloss: 0.27083\n",
      "[42]\tvalid_0's auc: 0.83144\tvalid_0's binary_logloss: 0.269147\n",
      "[43]\tvalid_0's auc: 0.831507\tvalid_0's binary_logloss: 0.267542\n",
      "[44]\tvalid_0's auc: 0.831516\tvalid_0's binary_logloss: 0.266058\n",
      "[45]\tvalid_0's auc: 0.831458\tvalid_0's binary_logloss: 0.264702\n",
      "[46]\tvalid_0's auc: 0.83165\tvalid_0's binary_logloss: 0.263338\n",
      "[47]\tvalid_0's auc: 0.831803\tvalid_0's binary_logloss: 0.262071\n",
      "[48]\tvalid_0's auc: 0.831746\tvalid_0's binary_logloss: 0.260985\n",
      "[49]\tvalid_0's auc: 0.831859\tvalid_0's binary_logloss: 0.259941\n",
      "[50]\tvalid_0's auc: 0.832019\tvalid_0's binary_logloss: 0.258895\n",
      "[51]\tvalid_0's auc: 0.832026\tvalid_0's binary_logloss: 0.257978\n",
      "[52]\tvalid_0's auc: 0.832238\tvalid_0's binary_logloss: 0.257065\n",
      "[53]\tvalid_0's auc: 0.832215\tvalid_0's binary_logloss: 0.256344\n",
      "[54]\tvalid_0's auc: 0.832315\tvalid_0's binary_logloss: 0.255647\n",
      "[55]\tvalid_0's auc: 0.83226\tvalid_0's binary_logloss: 0.25506\n",
      "[56]\tvalid_0's auc: 0.832245\tvalid_0's binary_logloss: 0.254464\n",
      "[57]\tvalid_0's auc: 0.832417\tvalid_0's binary_logloss: 0.253834\n",
      "[58]\tvalid_0's auc: 0.832481\tvalid_0's binary_logloss: 0.253324\n",
      "[59]\tvalid_0's auc: 0.832521\tvalid_0's binary_logloss: 0.252774\n",
      "[60]\tvalid_0's auc: 0.832484\tvalid_0's binary_logloss: 0.252313\n",
      "[61]\tvalid_0's auc: 0.832681\tvalid_0's binary_logloss: 0.251765\n",
      "[62]\tvalid_0's auc: 0.83284\tvalid_0's binary_logloss: 0.251254\n",
      "[63]\tvalid_0's auc: 0.832805\tvalid_0's binary_logloss: 0.25086\n",
      "[64]\tvalid_0's auc: 0.832814\tvalid_0's binary_logloss: 0.250478\n",
      "[65]\tvalid_0's auc: 0.8329\tvalid_0's binary_logloss: 0.25009\n",
      "[66]\tvalid_0's auc: 0.833047\tvalid_0's binary_logloss: 0.249696\n",
      "[67]\tvalid_0's auc: 0.833146\tvalid_0's binary_logloss: 0.2494\n",
      "[68]\tvalid_0's auc: 0.833089\tvalid_0's binary_logloss: 0.249183\n",
      "[69]\tvalid_0's auc: 0.833091\tvalid_0's binary_logloss: 0.248904\n",
      "[70]\tvalid_0's auc: 0.833216\tvalid_0's binary_logloss: 0.2486\n",
      "[71]\tvalid_0's auc: 0.833307\tvalid_0's binary_logloss: 0.248339\n",
      "[72]\tvalid_0's auc: 0.833307\tvalid_0's binary_logloss: 0.248112\n",
      "[73]\tvalid_0's auc: 0.833269\tvalid_0's binary_logloss: 0.247945\n",
      "[74]\tvalid_0's auc: 0.833217\tvalid_0's binary_logloss: 0.247771\n",
      "[75]\tvalid_0's auc: 0.833237\tvalid_0's binary_logloss: 0.247582\n",
      "[76]\tvalid_0's auc: 0.833202\tvalid_0's binary_logloss: 0.247447\n",
      "[77]\tvalid_0's auc: 0.833136\tvalid_0's binary_logloss: 0.247333\n",
      "[78]\tvalid_0's auc: 0.833117\tvalid_0's binary_logloss: 0.247196\n",
      "[79]\tvalid_0's auc: 0.833211\tvalid_0's binary_logloss: 0.247054\n",
      "[80]\tvalid_0's auc: 0.833353\tvalid_0's binary_logloss: 0.246864\n",
      "[81]\tvalid_0's auc: 0.833433\tvalid_0's binary_logloss: 0.246744\n",
      "[82]\tvalid_0's auc: 0.833577\tvalid_0's binary_logloss: 0.246569\n",
      "[83]\tvalid_0's auc: 0.833639\tvalid_0's binary_logloss: 0.246452\n",
      "[84]\tvalid_0's auc: 0.833659\tvalid_0's binary_logloss: 0.24635\n",
      "[85]\tvalid_0's auc: 0.833779\tvalid_0's binary_logloss: 0.246206\n",
      "[86]\tvalid_0's auc: 0.833775\tvalid_0's binary_logloss: 0.246152\n",
      "[87]\tvalid_0's auc: 0.833843\tvalid_0's binary_logloss: 0.246066\n",
      "[88]\tvalid_0's auc: 0.833926\tvalid_0's binary_logloss: 0.245967\n",
      "[89]\tvalid_0's auc: 0.833919\tvalid_0's binary_logloss: 0.245896\n",
      "[90]\tvalid_0's auc: 0.833998\tvalid_0's binary_logloss: 0.245796\n",
      "[91]\tvalid_0's auc: 0.83412\tvalid_0's binary_logloss: 0.245675\n",
      "[92]\tvalid_0's auc: 0.834129\tvalid_0's binary_logloss: 0.245614\n",
      "[93]\tvalid_0's auc: 0.834179\tvalid_0's binary_logloss: 0.245555\n",
      "[94]\tvalid_0's auc: 0.834168\tvalid_0's binary_logloss: 0.245505\n",
      "[95]\tvalid_0's auc: 0.834157\tvalid_0's binary_logloss: 0.245461\n",
      "[96]\tvalid_0's auc: 0.83425\tvalid_0's binary_logloss: 0.245376\n",
      "[97]\tvalid_0's auc: 0.834237\tvalid_0's binary_logloss: 0.245363\n",
      "[98]\tvalid_0's auc: 0.834205\tvalid_0's binary_logloss: 0.245334\n",
      "[99]\tvalid_0's auc: 0.834156\tvalid_0's binary_logloss: 0.245314\n",
      "[100]\tvalid_0's auc: 0.83415\tvalid_0's binary_logloss: 0.245302\n",
      "[101]\tvalid_0's auc: 0.834127\tvalid_0's binary_logloss: 0.245296\n",
      "[102]\tvalid_0's auc: 0.834125\tvalid_0's binary_logloss: 0.245285\n",
      "[103]\tvalid_0's auc: 0.834197\tvalid_0's binary_logloss: 0.245223\n",
      "[104]\tvalid_0's auc: 0.83417\tvalid_0's binary_logloss: 0.245221\n",
      "[105]\tvalid_0's auc: 0.834129\tvalid_0's binary_logloss: 0.245221\n",
      "[106]\tvalid_0's auc: 0.83418\tvalid_0's binary_logloss: 0.245181\n",
      "[107]\tvalid_0's auc: 0.834223\tvalid_0's binary_logloss: 0.245152\n",
      "[108]\tvalid_0's auc: 0.834207\tvalid_0's binary_logloss: 0.245138\n",
      "[109]\tvalid_0's auc: 0.834273\tvalid_0's binary_logloss: 0.245082\n",
      "[110]\tvalid_0's auc: 0.834244\tvalid_0's binary_logloss: 0.245084\n",
      "[111]\tvalid_0's auc: 0.834295\tvalid_0's binary_logloss: 0.245048\n",
      "[112]\tvalid_0's auc: 0.834334\tvalid_0's binary_logloss: 0.245021\n",
      "[113]\tvalid_0's auc: 0.834279\tvalid_0's binary_logloss: 0.245025\n",
      "[114]\tvalid_0's auc: 0.834363\tvalid_0's binary_logloss: 0.244971\n",
      "[115]\tvalid_0's auc: 0.834322\tvalid_0's binary_logloss: 0.24497\n",
      "[116]\tvalid_0's auc: 0.834377\tvalid_0's binary_logloss: 0.244932\n",
      "[117]\tvalid_0's auc: 0.834447\tvalid_0's binary_logloss: 0.244885\n",
      "[118]\tvalid_0's auc: 0.83448\tvalid_0's binary_logloss: 0.244865\n",
      "[119]\tvalid_0's auc: 0.834433\tvalid_0's binary_logloss: 0.244875\n",
      "[120]\tvalid_0's auc: 0.83438\tvalid_0's binary_logloss: 0.244888\n",
      "[121]\tvalid_0's auc: 0.83443\tvalid_0's binary_logloss: 0.244856\n",
      "[122]\tvalid_0's auc: 0.834473\tvalid_0's binary_logloss: 0.244828\n",
      "[123]\tvalid_0's auc: 0.834443\tvalid_0's binary_logloss: 0.244841\n",
      "[124]\tvalid_0's auc: 0.834382\tvalid_0's binary_logloss: 0.244861\n",
      "[125]\tvalid_0's auc: 0.834408\tvalid_0's binary_logloss: 0.244848\n",
      "[126]\tvalid_0's auc: 0.834456\tvalid_0's binary_logloss: 0.244819\n",
      "[127]\tvalid_0's auc: 0.834486\tvalid_0's binary_logloss: 0.244804\n",
      "[128]\tvalid_0's auc: 0.83453\tvalid_0's binary_logloss: 0.244775\n",
      "[129]\tvalid_0's auc: 0.834573\tvalid_0's binary_logloss: 0.24475\n",
      "[130]\tvalid_0's auc: 0.834577\tvalid_0's binary_logloss: 0.244737\n",
      "[131]\tvalid_0's auc: 0.834599\tvalid_0's binary_logloss: 0.244725\n",
      "[132]\tvalid_0's auc: 0.834552\tvalid_0's binary_logloss: 0.244743\n",
      "[133]\tvalid_0's auc: 0.834571\tvalid_0's binary_logloss: 0.244734\n",
      "[134]\tvalid_0's auc: 0.834591\tvalid_0's binary_logloss: 0.244724\n",
      "[135]\tvalid_0's auc: 0.834612\tvalid_0's binary_logloss: 0.244713\n",
      "[136]\tvalid_0's auc: 0.834563\tvalid_0's binary_logloss: 0.244732\n",
      "[137]\tvalid_0's auc: 0.834611\tvalid_0's binary_logloss: 0.244706\n",
      "[138]\tvalid_0's auc: 0.834628\tvalid_0's binary_logloss: 0.244697\n",
      "[139]\tvalid_0's auc: 0.834647\tvalid_0's binary_logloss: 0.244687\n",
      "[140]\tvalid_0's auc: 0.834667\tvalid_0's binary_logloss: 0.244678\n",
      "[141]\tvalid_0's auc: 0.834712\tvalid_0's binary_logloss: 0.244651\n",
      "[142]\tvalid_0's auc: 0.834753\tvalid_0's binary_logloss: 0.244628\n",
      "[143]\tvalid_0's auc: 0.834767\tvalid_0's binary_logloss: 0.244622\n",
      "[144]\tvalid_0's auc: 0.834801\tvalid_0's binary_logloss: 0.244602\n",
      "[145]\tvalid_0's auc: 0.834825\tvalid_0's binary_logloss: 0.244589\n",
      "[146]\tvalid_0's auc: 0.834838\tvalid_0's binary_logloss: 0.244583\n",
      "[147]\tvalid_0's auc: 0.834866\tvalid_0's binary_logloss: 0.24457\n",
      "[148]\tvalid_0's auc: 0.834893\tvalid_0's binary_logloss: 0.244554\n",
      "[149]\tvalid_0's auc: 0.834921\tvalid_0's binary_logloss: 0.244538\n",
      "[150]\tvalid_0's auc: 0.83495\tvalid_0's binary_logloss: 0.244521\n",
      "[151]\tvalid_0's auc: 0.834963\tvalid_0's binary_logloss: 0.244513\n",
      "[152]\tvalid_0's auc: 0.835005\tvalid_0's binary_logloss: 0.244489\n",
      "[153]\tvalid_0's auc: 0.835018\tvalid_0's binary_logloss: 0.244484\n",
      "[154]\tvalid_0's auc: 0.835017\tvalid_0's binary_logloss: 0.244485\n",
      "[155]\tvalid_0's auc: 0.835042\tvalid_0's binary_logloss: 0.244471\n",
      "[156]\tvalid_0's auc: 0.835063\tvalid_0's binary_logloss: 0.24446\n",
      "[157]\tvalid_0's auc: 0.835088\tvalid_0's binary_logloss: 0.244446\n",
      "[158]\tvalid_0's auc: 0.835119\tvalid_0's binary_logloss: 0.24443\n",
      "[159]\tvalid_0's auc: 0.835136\tvalid_0's binary_logloss: 0.24442\n",
      "[160]\tvalid_0's auc: 0.835151\tvalid_0's binary_logloss: 0.244412\n",
      "[161]\tvalid_0's auc: 0.835169\tvalid_0's binary_logloss: 0.244403\n",
      "[162]\tvalid_0's auc: 0.835188\tvalid_0's binary_logloss: 0.244394\n",
      "[163]\tvalid_0's auc: 0.835205\tvalid_0's binary_logloss: 0.244383\n",
      "[164]\tvalid_0's auc: 0.83522\tvalid_0's binary_logloss: 0.244375\n",
      "[165]\tvalid_0's auc: 0.835232\tvalid_0's binary_logloss: 0.244369\n",
      "[166]\tvalid_0's auc: 0.835257\tvalid_0's binary_logloss: 0.244355\n",
      "[167]\tvalid_0's auc: 0.835286\tvalid_0's binary_logloss: 0.244338\n",
      "[168]\tvalid_0's auc: 0.835291\tvalid_0's binary_logloss: 0.244336\n",
      "[169]\tvalid_0's auc: 0.835299\tvalid_0's binary_logloss: 0.244332\n",
      "[170]\tvalid_0's auc: 0.835319\tvalid_0's binary_logloss: 0.244322\n",
      "[171]\tvalid_0's auc: 0.835332\tvalid_0's binary_logloss: 0.244316\n",
      "[172]\tvalid_0's auc: 0.835347\tvalid_0's binary_logloss: 0.244309\n",
      "[173]\tvalid_0's auc: 0.835362\tvalid_0's binary_logloss: 0.2443\n",
      "[174]\tvalid_0's auc: 0.835375\tvalid_0's binary_logloss: 0.244294\n",
      "[175]\tvalid_0's auc: 0.835393\tvalid_0's binary_logloss: 0.244284\n",
      "[176]\tvalid_0's auc: 0.835397\tvalid_0's binary_logloss: 0.244282\n",
      "[177]\tvalid_0's auc: 0.835406\tvalid_0's binary_logloss: 0.244278\n",
      "[178]\tvalid_0's auc: 0.83541\tvalid_0's binary_logloss: 0.244277\n",
      "[179]\tvalid_0's auc: 0.835424\tvalid_0's binary_logloss: 0.244268\n",
      "[180]\tvalid_0's auc: 0.835436\tvalid_0's binary_logloss: 0.244263\n",
      "[181]\tvalid_0's auc: 0.835439\tvalid_0's binary_logloss: 0.244261\n",
      "[182]\tvalid_0's auc: 0.835446\tvalid_0's binary_logloss: 0.244257\n",
      "[183]\tvalid_0's auc: 0.835449\tvalid_0's binary_logloss: 0.244256\n",
      "[184]\tvalid_0's auc: 0.835462\tvalid_0's binary_logloss: 0.244248\n",
      "[185]\tvalid_0's auc: 0.835464\tvalid_0's binary_logloss: 0.244246\n",
      "[186]\tvalid_0's auc: 0.835471\tvalid_0's binary_logloss: 0.244243\n",
      "[187]\tvalid_0's auc: 0.835476\tvalid_0's binary_logloss: 0.244242\n",
      "[188]\tvalid_0's auc: 0.835484\tvalid_0's binary_logloss: 0.244238\n",
      "[189]\tvalid_0's auc: 0.835491\tvalid_0's binary_logloss: 0.244233\n",
      "[190]\tvalid_0's auc: 0.835499\tvalid_0's binary_logloss: 0.244229\n",
      "[191]\tvalid_0's auc: 0.8355\tvalid_0's binary_logloss: 0.244229\n",
      "[192]\tvalid_0's auc: 0.835511\tvalid_0's binary_logloss: 0.244224\n",
      "[193]\tvalid_0's auc: 0.83552\tvalid_0's binary_logloss: 0.244219\n",
      "[194]\tvalid_0's auc: 0.835532\tvalid_0's binary_logloss: 0.244211\n",
      "[195]\tvalid_0's auc: 0.835534\tvalid_0's binary_logloss: 0.24421\n",
      "[196]\tvalid_0's auc: 0.835544\tvalid_0's binary_logloss: 0.244205\n",
      "[197]\tvalid_0's auc: 0.835556\tvalid_0's binary_logloss: 0.244198\n",
      "[198]\tvalid_0's auc: 0.83556\tvalid_0's binary_logloss: 0.244196\n",
      "[199]\tvalid_0's auc: 0.835566\tvalid_0's binary_logloss: 0.244193\n",
      "[200]\tvalid_0's auc: 0.835575\tvalid_0's binary_logloss: 0.244187\n",
      "[201]\tvalid_0's auc: 0.835588\tvalid_0's binary_logloss: 0.244181\n",
      "[202]\tvalid_0's auc: 0.8356\tvalid_0's binary_logloss: 0.244172\n",
      "[203]\tvalid_0's auc: 0.835603\tvalid_0's binary_logloss: 0.244171\n",
      "[204]\tvalid_0's auc: 0.835613\tvalid_0's binary_logloss: 0.244166\n",
      "[205]\tvalid_0's auc: 0.835621\tvalid_0's binary_logloss: 0.244161\n",
      "[206]\tvalid_0's auc: 0.835622\tvalid_0's binary_logloss: 0.24416\n",
      "[207]\tvalid_0's auc: 0.835623\tvalid_0's binary_logloss: 0.24416\n",
      "[208]\tvalid_0's auc: 0.83563\tvalid_0's binary_logloss: 0.244156\n",
      "[209]\tvalid_0's auc: 0.835635\tvalid_0's binary_logloss: 0.244154\n",
      "[210]\tvalid_0's auc: 0.835642\tvalid_0's binary_logloss: 0.244151\n",
      "[211]\tvalid_0's auc: 0.835647\tvalid_0's binary_logloss: 0.244148\n",
      "[212]\tvalid_0's auc: 0.835649\tvalid_0's binary_logloss: 0.244146\n",
      "[213]\tvalid_0's auc: 0.835657\tvalid_0's binary_logloss: 0.244143\n",
      "[214]\tvalid_0's auc: 0.835659\tvalid_0's binary_logloss: 0.244142\n",
      "[215]\tvalid_0's auc: 0.835668\tvalid_0's binary_logloss: 0.244136\n",
      "[216]\tvalid_0's auc: 0.835672\tvalid_0's binary_logloss: 0.244135\n",
      "[217]\tvalid_0's auc: 0.835678\tvalid_0's binary_logloss: 0.244132\n",
      "[218]\tvalid_0's auc: 0.835681\tvalid_0's binary_logloss: 0.24413\n",
      "[219]\tvalid_0's auc: 0.835687\tvalid_0's binary_logloss: 0.244127\n",
      "[220]\tvalid_0's auc: 0.83569\tvalid_0's binary_logloss: 0.244126\n",
      "[221]\tvalid_0's auc: 0.835696\tvalid_0's binary_logloss: 0.244123\n",
      "[222]\tvalid_0's auc: 0.835697\tvalid_0's binary_logloss: 0.244123\n",
      "[223]\tvalid_0's auc: 0.835699\tvalid_0's binary_logloss: 0.244122\n",
      "[224]\tvalid_0's auc: 0.835702\tvalid_0's binary_logloss: 0.24412\n",
      "[225]\tvalid_0's auc: 0.835703\tvalid_0's binary_logloss: 0.24412\n",
      "[226]\tvalid_0's auc: 0.835704\tvalid_0's binary_logloss: 0.24412\n",
      "[227]\tvalid_0's auc: 0.835706\tvalid_0's binary_logloss: 0.24412\n",
      "[228]\tvalid_0's auc: 0.835707\tvalid_0's binary_logloss: 0.244119\n",
      "[229]\tvalid_0's auc: 0.83571\tvalid_0's binary_logloss: 0.244118\n",
      "[230]\tvalid_0's auc: 0.835714\tvalid_0's binary_logloss: 0.244117\n",
      "[231]\tvalid_0's auc: 0.835716\tvalid_0's binary_logloss: 0.244115\n",
      "[232]\tvalid_0's auc: 0.835718\tvalid_0's binary_logloss: 0.244115\n",
      "[233]\tvalid_0's auc: 0.83572\tvalid_0's binary_logloss: 0.244114\n",
      "[234]\tvalid_0's auc: 0.835716\tvalid_0's binary_logloss: 0.244115\n",
      "[235]\tvalid_0's auc: 0.835722\tvalid_0's binary_logloss: 0.244113\n",
      "[236]\tvalid_0's auc: 0.83572\tvalid_0's binary_logloss: 0.244115\n",
      "[237]\tvalid_0's auc: 0.835725\tvalid_0's binary_logloss: 0.244111\n",
      "[238]\tvalid_0's auc: 0.835727\tvalid_0's binary_logloss: 0.244111\n",
      "[239]\tvalid_0's auc: 0.835726\tvalid_0's binary_logloss: 0.244111\n",
      "[240]\tvalid_0's auc: 0.835731\tvalid_0's binary_logloss: 0.244108\n",
      "[241]\tvalid_0's auc: 0.835733\tvalid_0's binary_logloss: 0.244107\n",
      "[242]\tvalid_0's auc: 0.835733\tvalid_0's binary_logloss: 0.244107\n",
      "[243]\tvalid_0's auc: 0.835737\tvalid_0's binary_logloss: 0.244103\n",
      "[244]\tvalid_0's auc: 0.83574\tvalid_0's binary_logloss: 0.244101\n",
      "[245]\tvalid_0's auc: 0.835739\tvalid_0's binary_logloss: 0.244101\n",
      "[246]\tvalid_0's auc: 0.83574\tvalid_0's binary_logloss: 0.244102\n",
      "[247]\tvalid_0's auc: 0.835741\tvalid_0's binary_logloss: 0.244101\n",
      "[248]\tvalid_0's auc: 0.835743\tvalid_0's binary_logloss: 0.244101\n",
      "[249]\tvalid_0's auc: 0.835745\tvalid_0's binary_logloss: 0.244101\n",
      "[250]\tvalid_0's auc: 0.835748\tvalid_0's binary_logloss: 0.244099\n",
      "[251]\tvalid_0's auc: 0.835751\tvalid_0's binary_logloss: 0.244098\n",
      "[252]\tvalid_0's auc: 0.835753\tvalid_0's binary_logloss: 0.244097\n",
      "[253]\tvalid_0's auc: 0.83576\tvalid_0's binary_logloss: 0.244093\n",
      "[254]\tvalid_0's auc: 0.835758\tvalid_0's binary_logloss: 0.244096\n",
      "[255]\tvalid_0's auc: 0.83576\tvalid_0's binary_logloss: 0.244096\n",
      "[256]\tvalid_0's auc: 0.835757\tvalid_0's binary_logloss: 0.244097\n",
      "[257]\tvalid_0's auc: 0.835758\tvalid_0's binary_logloss: 0.244097\n",
      "[258]\tvalid_0's auc: 0.835757\tvalid_0's binary_logloss: 0.244097\n",
      "[259]\tvalid_0's auc: 0.835756\tvalid_0's binary_logloss: 0.244099\n",
      "[260]\tvalid_0's auc: 0.835757\tvalid_0's binary_logloss: 0.244098\n",
      "[261]\tvalid_0's auc: 0.835759\tvalid_0's binary_logloss: 0.244096\n",
      "[262]\tvalid_0's auc: 0.83576\tvalid_0's binary_logloss: 0.244095\n",
      "[263]\tvalid_0's auc: 0.835765\tvalid_0's binary_logloss: 0.244092\n",
      "[264]\tvalid_0's auc: 0.835768\tvalid_0's binary_logloss: 0.244091\n",
      "[265]\tvalid_0's auc: 0.835766\tvalid_0's binary_logloss: 0.244092\n",
      "[266]\tvalid_0's auc: 0.83577\tvalid_0's binary_logloss: 0.244091\n",
      "[267]\tvalid_0's auc: 0.835772\tvalid_0's binary_logloss: 0.244089\n",
      "[268]\tvalid_0's auc: 0.835775\tvalid_0's binary_logloss: 0.244086\n",
      "[269]\tvalid_0's auc: 0.835773\tvalid_0's binary_logloss: 0.244087\n",
      "[270]\tvalid_0's auc: 0.835775\tvalid_0's binary_logloss: 0.244086\n",
      "[271]\tvalid_0's auc: 0.835774\tvalid_0's binary_logloss: 0.244086\n",
      "[272]\tvalid_0's auc: 0.835775\tvalid_0's binary_logloss: 0.244086\n",
      "[273]\tvalid_0's auc: 0.835772\tvalid_0's binary_logloss: 0.244087\n",
      "[274]\tvalid_0's auc: 0.835771\tvalid_0's binary_logloss: 0.244088\n",
      "[275]\tvalid_0's auc: 0.835768\tvalid_0's binary_logloss: 0.244089\n",
      "[276]\tvalid_0's auc: 0.835769\tvalid_0's binary_logloss: 0.244089\n",
      "[277]\tvalid_0's auc: 0.835767\tvalid_0's binary_logloss: 0.24409\n",
      "[278]\tvalid_0's auc: 0.835766\tvalid_0's binary_logloss: 0.244091\n",
      "[279]\tvalid_0's auc: 0.835766\tvalid_0's binary_logloss: 0.244091\n",
      "[280]\tvalid_0's auc: 0.835766\tvalid_0's binary_logloss: 0.24409\n",
      "[281]\tvalid_0's auc: 0.835763\tvalid_0's binary_logloss: 0.244091\n",
      "[282]\tvalid_0's auc: 0.83577\tvalid_0's binary_logloss: 0.244088\n",
      "[283]\tvalid_0's auc: 0.835769\tvalid_0's binary_logloss: 0.244089\n",
      "[284]\tvalid_0's auc: 0.835769\tvalid_0's binary_logloss: 0.244089\n",
      "[285]\tvalid_0's auc: 0.83577\tvalid_0's binary_logloss: 0.244088\n",
      "[286]\tvalid_0's auc: 0.835768\tvalid_0's binary_logloss: 0.244089\n",
      "[287]\tvalid_0's auc: 0.83577\tvalid_0's binary_logloss: 0.244088\n",
      "[288]\tvalid_0's auc: 0.835771\tvalid_0's binary_logloss: 0.244087\n",
      "[289]\tvalid_0's auc: 0.835769\tvalid_0's binary_logloss: 0.244088\n",
      "[290]\tvalid_0's auc: 0.83577\tvalid_0's binary_logloss: 0.244088\n",
      "[291]\tvalid_0's auc: 0.835772\tvalid_0's binary_logloss: 0.244087\n",
      "[292]\tvalid_0's auc: 0.835772\tvalid_0's binary_logloss: 0.244087\n",
      "[293]\tvalid_0's auc: 0.835774\tvalid_0's binary_logloss: 0.244086\n",
      "[294]\tvalid_0's auc: 0.835771\tvalid_0's binary_logloss: 0.244087\n",
      "[295]\tvalid_0's auc: 0.835771\tvalid_0's binary_logloss: 0.244087\n",
      "[296]\tvalid_0's auc: 0.83577\tvalid_0's binary_logloss: 0.244087\n",
      "[297]\tvalid_0's auc: 0.83577\tvalid_0's binary_logloss: 0.244088\n",
      "[298]\tvalid_0's auc: 0.83577\tvalid_0's binary_logloss: 0.244087\n",
      "Early stopping, best iteration is:\n",
      "[268]\tvalid_0's auc: 0.835775\tvalid_0's binary_logloss: 0.244086\n",
      "Feature names: ['user_product_reordered_ratio', 'reordered_sum', 'add_to_cart_order_inverted_mean', 'add_to_cart_order_relative_mean', 'reorder_prob', 'last', 'prev1', 'prev2', 'median', 'mean', 'dep_reordered_ratio', 'aisle_reordered_ratio', 'aisle_products', 'aisle_reordered', 'dep_products', 'dep_reordered', 'prod_users_unq', 'prod_users_unq_reordered', 'order_number', 'prod_add_to_card_mean', 'days_since_prior_order', 'order_dow', 'order_hour_of_day', 'reorder_ration', 'user_orders', 'user_order_starts_at', 'user_mean_days_since_prior', 'user_average_basket', 'user_distinct_products', 'user_reorder_ratio', 'user_total_products', 'prod_orders', 'prod_reorders', 'up_order_rate', 'up_orders_since_last_order', 'up_order_rate_since_first_order', 'up_orders', 'up_first_order', 'up_last_order', 'up_mean_cart_position', 'days_since_prior_order_mean', 'order_dow_mean', '0', '1', '2', '3', '4', '5', '6', '7', '8', '9', '10', '11', '12', '13', '14', '15', '16', '17', '18', '19', '20', '21', '22', '23', '24', '25', '26', '27', '28', '29', '30', '31', '0', '1', '2', '3', '4', '5', '6', '7', '8', '9', '10', '11', '12', '13', '14', '15', '16', '17', '18', '19', '20', '21', '22', '23', '24', '25', '26', '27', '28', '29', '30', '31', 'product_id', 'aisle_id', 'department_id']\n",
      "Calculate feature importances...\n",
      "Feature importances: [472, 745, 581, 710, 984, 2554, 989, 577, 720, 632, 998, 1011, 551, 368, 571, 484, 555, 325, 1159, 350, 1642, 491, 817, 257, 692, 1272, 2175, 1511, 1635, 2533, 950, 264, 367, 401, 1357, 250, 359, 163, 716, 468, 801, 278, 148, 171, 194, 189, 187, 189, 165, 183, 177, 162, 161, 177, 224, 180, 168, 183, 177, 166, 157, 141, 192, 150, 178, 224, 191, 192, 159, 152, 186, 168, 171, 196, 64, 88, 92, 61, 73, 62, 99, 70, 59, 56, 99, 91, 65, 61, 65, 78, 83, 54, 54, 102, 78, 80, 60, 74, 53, 80, 61, 59, 59, 75, 86, 112, 14669, 9733, 1192]\n",
      "                             feature  importances\n",
      "98                                24           53\n",
      "91                                17           54\n",
      "92                                18           54\n",
      "83                                 9           56\n",
      "102                               28           59\n",
      "101                               27           59\n",
      "82                                 8           59\n",
      "96                                22           60\n",
      "77                                 3           61\n",
      "87                                13           61\n",
      "100                               26           61\n",
      "79                                 5           62\n",
      "74                                 0           64\n",
      "88                                14           65\n",
      "86                                12           65\n",
      "81                                 7           70\n",
      "78                                 4           73\n",
      "97                                23           74\n",
      "103                               29           75\n",
      "89                                15           78\n",
      "94                                20           78\n",
      "95                                21           80\n",
      "99                                25           80\n",
      "90                                16           83\n",
      "104                               30           86\n",
      "75                                 1           88\n",
      "85                                11           91\n",
      "76                                 2           92\n",
      "84                                10           99\n",
      "80                                 6           99\n",
      "..                               ...          ...\n",
      "12                    aisle_products          551\n",
      "16                    prod_users_unq          555\n",
      "14                      dep_products          571\n",
      "7                              prev2          577\n",
      "2    add_to_cart_order_inverted_mean          581\n",
      "9                               mean          632\n",
      "24                       user_orders          692\n",
      "3    add_to_cart_order_relative_mean          710\n",
      "38                     up_last_order          716\n",
      "8                             median          720\n",
      "1                      reordered_sum          745\n",
      "40       days_since_prior_order_mean          801\n",
      "22                 order_hour_of_day          817\n",
      "30               user_total_products          950\n",
      "4                       reorder_prob          984\n",
      "6                              prev1          989\n",
      "10               dep_reordered_ratio          998\n",
      "11             aisle_reordered_ratio         1011\n",
      "18                      order_number         1159\n",
      "108                    department_id         1192\n",
      "25              user_order_starts_at         1272\n",
      "34        up_orders_since_last_order         1357\n",
      "27               user_average_basket         1511\n",
      "28            user_distinct_products         1635\n",
      "20            days_since_prior_order         1642\n",
      "26        user_mean_days_since_prior         2175\n",
      "29                user_reorder_ratio         2533\n",
      "5                               last         2554\n",
      "107                         aisle_id         9733\n",
      "106                       product_id        14669\n",
      "\n",
      "[109 rows x 2 columns]\n",
      "CPU times: user 1h 41min 49s, sys: 13.4 s, total: 1h 42min 2s\n",
      "Wall time: 13min 43s\n"
     ]
    }
   ],
   "source": [
    "%%time\n",
    "print('Start training...')\n",
    "# train\n",
    "gbm = lgb.train(params,\n",
    "                lgb_train,\n",
    "                num_boost_round=2000,    \n",
    "                valid_sets=lgb_eval,\n",
    "                early_stopping_rounds=30)\n",
    "\n",
    "print('Feature names:', gbm.feature_name())\n",
    "print('Calculate feature importances...')\n",
    "# feature importances\n",
    "print('Feature importances:', list(gbm.feature_importance()))\n",
    "\n",
    "df = pd.DataFrame({'feature':gbm.feature_name(), 'importances': gbm.feature_importance()})\n",
    "print(df.sort_values('importances'))"
   ]
  },
  {
   "cell_type": "code",
   "execution_count": 183,
   "metadata": {
    "collapsed": false,
    "scrolled": true
   },
   "outputs": [
    {
     "data": {
      "text/plain": [
       "defaultdict(dict,\n",
       "            {'valid_0': {'auc': 0.83577523380819063,\n",
       "              'binary_logloss': 0.24408596539104024}})"
      ]
     },
     "execution_count": 183,
     "metadata": {},
     "output_type": "execute_result"
    }
   ],
   "source": [
    "gbm.best_score"
   ]
  },
  {
   "cell_type": "code",
   "execution_count": 186,
   "metadata": {
    "collapsed": false
   },
   "outputs": [
    {
     "data": {
      "text/plain": [
       "268"
      ]
     },
     "execution_count": 186,
     "metadata": {},
     "output_type": "execute_result"
    }
   ],
   "source": [
    "gbm.best_iteration"
   ]
  },
  {
   "cell_type": "code",
   "execution_count": 189,
   "metadata": {
    "collapsed": false
   },
   "outputs": [],
   "source": [
    "gbm.save_model('cv_lgbm.txt')"
   ]
  },
  {
   "cell_type": "code",
   "execution_count": 199,
   "metadata": {
    "collapsed": true
   },
   "outputs": [],
   "source": [
    "prediction = gbm.predict(data_val)"
   ]
  },
  {
   "cell_type": "code",
   "execution_count": 200,
   "metadata": {
    "collapsed": true
   },
   "outputs": [],
   "source": [
    "orders = order_test.order_id.values\n",
    "products = order_test.product_id.values\n",
    "\n",
    "result = pd.DataFrame({'product_id': products, 'order_id': orders, 'prediction': prediction})\n",
    "result.to_pickle('data/prediction_lgbm_cv_ver.pkl')"
   ]
  },
  {
   "cell_type": "code",
   "execution_count": 207,
   "metadata": {
    "collapsed": true
   },
   "outputs": [],
   "source": [
    "result = pd.read_pickle('data/prediction_lgbm_cv_ver.pkl')"
   ]
  },
  {
   "cell_type": "code",
   "execution_count": 208,
   "metadata": {
    "collapsed": false,
    "scrolled": true
   },
   "outputs": [
    {
     "name": "stderr",
     "output_type": "stream",
     "text": [
      "/home/supermario0759/anaconda3/lib/python3.5/site-packages/pandas/core/indexing.py:337: SettingWithCopyWarning: \n",
      "A value is trying to be set on a copy of a slice from a DataFrame.\n",
      "Try using .loc[row_indexer,col_indexer] = value instead\n",
      "\n",
      "See the caveats in the documentation: http://pandas.pydata.org/pandas-docs/stable/indexing.html#indexing-view-versus-copy\n",
      "  self.obj[key] = _infer_fill_value(value)\n",
      "/home/supermario0759/anaconda3/lib/python3.5/site-packages/pandas/core/indexing.py:337: SettingWithCopyWarning: \n",
      "A value is trying to be set on a copy of a slice from a DataFrame.\n",
      "Try using .loc[row_indexer,col_indexer] = value instead\n",
      "\n",
      "See the caveats in the documentation: http://pandas.pydata.org/pandas-docs/stable/indexing.html#indexing-view-versus-copy\n",
      "  self.obj[key] = _infer_fill_value(value)\n",
      "/home/supermario0759/anaconda3/lib/python3.5/site-packages/pandas/core/indexing.py:337: SettingWithCopyWarning: \n",
      "A value is trying to be set on a copy of a slice from a DataFrame.\n",
      "Try using .loc[row_indexer,col_indexer] = value instead\n",
      "\n",
      "See the caveats in the documentation: http://pandas.pydata.org/pandas-docs/stable/indexing.html#indexing-view-versus-copy\n",
      "  self.obj[key] = _infer_fill_value(value)\n",
      "/home/supermario0759/anaconda3/lib/python3.5/site-packages/pandas/core/indexing.py:517: SettingWithCopyWarning: \n",
      "A value is trying to be set on a copy of a slice from a DataFrame.\n",
      "Try using .loc[row_indexer,col_indexer] = value instead\n",
      "\n",
      "See the caveats in the documentation: http://pandas.pydata.org/pandas-docs/stable/indexing.html#indexing-view-versus-copy\n",
      "  self.obj[item] = s\n",
      "/home/supermario0759/anaconda3/lib/python3.5/site-packages/pandas/core/indexing.py:337: SettingWithCopyWarning: \n",
      "A value is trying to be set on a copy of a slice from a DataFrame.\n",
      "Try using .loc[row_indexer,col_indexer] = value instead\n",
      "\n",
      "See the caveats in the documentation: http://pandas.pydata.org/pandas-docs/stable/indexing.html#indexing-view-versus-copy\n",
      "  self.obj[key] = _infer_fill_value(value)\n",
      "/home/supermario0759/anaconda3/lib/python3.5/site-packages/pandas/core/indexing.py:337: SettingWithCopyWarning: \n",
      "A value is trying to be set on a copy of a slice from a DataFrame.\n",
      "Try using .loc[row_indexer,col_indexer] = value instead\n",
      "\n",
      "See the caveats in the documentation: http://pandas.pydata.org/pandas-docs/stable/indexing.html#indexing-view-versus-copy\n",
      "  self.obj[key] = _infer_fill_value(value)\n",
      "/home/supermario0759/anaconda3/lib/python3.5/site-packages/pandas/core/indexing.py:337: SettingWithCopyWarning: \n",
      "A value is trying to be set on a copy of a slice from a DataFrame.\n",
      "Try using .loc[row_indexer,col_indexer] = value instead\n",
      "\n",
      "See the caveats in the documentation: http://pandas.pydata.org/pandas-docs/stable/indexing.html#indexing-view-versus-copy\n",
      "  self.obj[key] = _infer_fill_value(value)\n",
      "/home/supermario0759/anaconda3/lib/python3.5/site-packages/pandas/core/indexing.py:337: SettingWithCopyWarning: \n",
      "A value is trying to be set on a copy of a slice from a DataFrame.\n",
      "Try using .loc[row_indexer,col_indexer] = value instead\n",
      "\n",
      "See the caveats in the documentation: http://pandas.pydata.org/pandas-docs/stable/indexing.html#indexing-view-versus-copy\n",
      "  self.obj[key] = _infer_fill_value(value)\n",
      "/home/supermario0759/anaconda3/lib/python3.5/site-packages/pandas/core/indexing.py:517: SettingWithCopyWarning: \n",
      "A value is trying to be set on a copy of a slice from a DataFrame.\n",
      "Try using .loc[row_indexer,col_indexer] = value instead\n",
      "\n",
      "See the caveats in the documentation: http://pandas.pydata.org/pandas-docs/stable/indexing.html#indexing-view-versus-copy\n",
      "  self.obj[item] = s\n",
      "/home/supermario0759/anaconda3/lib/python3.5/site-packages/pandas/core/indexing.py:517: SettingWithCopyWarning: \n",
      "A value is trying to be set on a copy of a slice from a DataFrame.\n",
      "Try using .loc[row_indexer,col_indexer] = value instead\n",
      "\n",
      "See the caveats in the documentation: http://pandas.pydata.org/pandas-docs/stable/indexing.html#indexing-view-versus-copy\n",
      "  self.obj[item] = s\n",
      "/home/supermario0759/anaconda3/lib/python3.5/site-packages/pandas/core/indexing.py:517: SettingWithCopyWarning: \n",
      "A value is trying to be set on a copy of a slice from a DataFrame.\n",
      "Try using .loc[row_indexer,col_indexer] = value instead\n",
      "\n",
      "See the caveats in the documentation: http://pandas.pydata.org/pandas-docs/stable/indexing.html#indexing-view-versus-copy\n",
      "  self.obj[item] = s\n",
      "/home/supermario0759/anaconda3/lib/python3.5/site-packages/pandas/core/indexing.py:517: SettingWithCopyWarning: \n",
      "A value is trying to be set on a copy of a slice from a DataFrame.\n",
      "Try using .loc[row_indexer,col_indexer] = value instead\n",
      "\n",
      "See the caveats in the documentation: http://pandas.pydata.org/pandas-docs/stable/indexing.html#indexing-view-versus-copy\n",
      "  self.obj[item] = s\n",
      "/home/supermario0759/anaconda3/lib/python3.5/site-packages/pandas/core/indexing.py:517: SettingWithCopyWarning: \n",
      "A value is trying to be set on a copy of a slice from a DataFrame.\n",
      "Try using .loc[row_indexer,col_indexer] = value instead\n",
      "\n",
      "See the caveats in the documentation: http://pandas.pydata.org/pandas-docs/stable/indexing.html#indexing-view-versus-copy\n",
      "  self.obj[item] = s\n",
      "/home/supermario0759/anaconda3/lib/python3.5/site-packages/pandas/core/indexing.py:337: SettingWithCopyWarning: \n",
      "A value is trying to be set on a copy of a slice from a DataFrame.\n",
      "Try using .loc[row_indexer,col_indexer] = value instead\n",
      "\n",
      "See the caveats in the documentation: http://pandas.pydata.org/pandas-docs/stable/indexing.html#indexing-view-versus-copy\n",
      "  self.obj[key] = _infer_fill_value(value)\n",
      "/home/supermario0759/anaconda3/lib/python3.5/site-packages/pandas/core/indexing.py:517: SettingWithCopyWarning: \n",
      "A value is trying to be set on a copy of a slice from a DataFrame.\n",
      "Try using .loc[row_indexer,col_indexer] = value instead\n",
      "\n",
      "See the caveats in the documentation: http://pandas.pydata.org/pandas-docs/stable/indexing.html#indexing-view-versus-copy\n",
      "  self.obj[item] = s\n",
      "/home/supermario0759/anaconda3/lib/python3.5/site-packages/pandas/core/indexing.py:517: SettingWithCopyWarning: \n",
      "A value is trying to be set on a copy of a slice from a DataFrame.\n",
      "Try using .loc[row_indexer,col_indexer] = value instead\n",
      "\n",
      "See the caveats in the documentation: http://pandas.pydata.org/pandas-docs/stable/indexing.html#indexing-view-versus-copy\n",
      "  self.obj[item] = s\n"
     ]
    },
    {
     "name": "stdout",
     "output_type": "stream",
     "text": [
      "CPU times: user 1min 37s, sys: 3.9 s, total: 1min 41s\n",
      "Wall time: 16min 4s\n"
     ]
    }
   ],
   "source": [
    "%%time\n",
    "import pandas as pd\n",
    "import numpy as np\n",
    "from joblib import Parallel, delayed\n",
    "import multiprocessing\n",
    "\n",
    "from utils import fast_search\n",
    "\n",
    "none_product = 50000\n",
    "\n",
    "def applyParallel(dfGrouped, func):\n",
    "    retLst = Parallel(n_jobs=multiprocessing.cpu_count())(delayed(func)(group) for name, group in dfGrouped)\n",
    "    return pd.concat(retLst)\n",
    "\n",
    "def create_products(df):\n",
    "    # print(df.product_id.values.shape)\n",
    "    products = df.product_id.values\n",
    "    prob = df.prediction.values\n",
    "\n",
    "    sort_index = np.argsort(prob)[::-1]\n",
    "\n",
    "    values = fast_search(prob[sort_index][0:80], dtype=np.float64)\n",
    "\n",
    "    index = np.argmax(values)\n",
    "\n",
    "    #print('iteration', df.shape[0], 'optimal value', index)\n",
    "\n",
    "    best = ' '.join(map(lambda x: str(x) if x != none_product else 'None', products[sort_index][0:index]))\n",
    "    df = df[0:1]\n",
    "    df.loc[:, 'products'] = best\n",
    "    return df\n",
    "\n",
    "if __name__ == '__main__':\n",
    "    result['not_a_product'] = 1. - result.prediction\n",
    "\n",
    "    gp = result.groupby('order_id')['not_a_product'].apply(lambda x: np.multiply.reduce(x.values)).reset_index()\n",
    "    gp.rename(columns={'not_a_product': 'prediction'}, inplace=True)\n",
    "    gp['product_id'] = none_product\n",
    "\n",
    "    result = pd.concat([result, gp], axis=0)\n",
    "    result.product_id = result.product_id.astype(np.uint32)\n",
    "\n",
    "    result = result.loc[result.prediction > 0.01, ['order_id', 'prediction', 'product_id']]\n",
    "\n",
    "    result = applyParallel(result.groupby(result.order_id), create_products).reset_index()\n",
    "\n",
    "    result[['order_id', 'products']].to_csv('data/sub_1_lgbm.csv', index=False)"
   ]
  },
  {
   "cell_type": "code",
   "execution_count": 210,
   "metadata": {
    "collapsed": false
   },
   "outputs": [
    {
     "data": {
      "text/plain": [
       "(32803, 2)"
      ]
     },
     "execution_count": 210,
     "metadata": {},
     "output_type": "execute_result"
    }
   ],
   "source": [
    "result[['order_id', 'products']].shape"
   ]
  },
  {
   "cell_type": "code",
   "execution_count": null,
   "metadata": {
    "collapsed": true
   },
   "outputs": [],
   "source": []
  }
 ],
 "metadata": {
  "kernelspec": {
   "display_name": "Python 3",
   "language": "python",
   "name": "python3"
  },
  "language_info": {
   "codemirror_mode": {
    "name": "ipython",
    "version": 3
   },
   "file_extension": ".py",
   "mimetype": "text/x-python",
   "name": "python",
   "nbconvert_exporter": "python",
   "pygments_lexer": "ipython3",
   "version": "3.5.4"
  }
 },
 "nbformat": 4,
 "nbformat_minor": 2
}
