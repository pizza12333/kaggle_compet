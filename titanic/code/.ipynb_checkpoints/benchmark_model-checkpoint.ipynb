{
 "cells": [
  {
   "cell_type": "code",
   "execution_count": 37,
   "metadata": {
    "collapsed": false
   },
   "outputs": [
    {
     "data": {
      "text/plain": [
       "['test.csv', 'train.csv']"
      ]
     },
     "execution_count": 37,
     "metadata": {},
     "output_type": "execute_result"
    }
   ],
   "source": [
    "import warnings\n",
    "warnings.filterwarnings('ignore')\n",
    "\n",
    "import os\n",
    "import pandas as pd\n",
    "import numpy as np\n",
    "from sklearn.tree import DecisionTreeClassifier\n",
    "from sklearn.neighbors import KNeighborsClassifier\n",
    "from sklearn.cross_validation import train_test_split\n",
    "from sklearn.metrics import accuracy_score, auc, recall_score, f1_score\n",
    "\n",
    "import matplotlib.pyplot as plt\n",
    "import seaborn as sns\n",
    "\n",
    "sns.set_palette('Set1')\n",
    "%matplotlib inline\n",
    "\n",
    "path = os.listdir('../data/')\n",
    "path"
   ]
  },
  {
   "cell_type": "code",
   "execution_count": 38,
   "metadata": {
    "collapsed": false
   },
   "outputs": [
    {
     "name": "stdout",
     "output_type": "stream",
     "text": [
      "============= Checking N ====================\n",
      "Train 데이터는 |891| 행과 |12| 열로 구성돼 있습니다.\n",
      "Test  데이터는 |418| 행과 |11| 열로 구성돼 있습니다.\n",
      "=============================================\n"
     ]
    }
   ],
   "source": [
    "train = pd.read_csv('../data/train.csv')\n",
    "test = pd.read_csv('../data/test.csv')\n",
    "\n",
    "print('============= Checking N ====================')\n",
    "print('Train 데이터는 |{}| 행과 |{}| 열로 구성돼 있습니다.'.format(train.shape[0], train.shape[1]))\n",
    "print('Test  데이터는 |{}| 행과 |{}| 열로 구성돼 있습니다.'.format(test.shape[0], test.shape[1]))\n",
    "print('=============================================')"
   ]
  },
  {
   "cell_type": "code",
   "execution_count": 40,
   "metadata": {
    "collapsed": true
   },
   "outputs": [],
   "source": [
    "# age 평균 사용 : 결과론 적으로 평균을 사용한 모델들이 나머지 보다 전부 좋은 성능을 보여줬습니다.\n",
    "train.Age = train.Age.fillna(train.Age.mean())\n",
    "\n",
    "# Pclass\n",
    "train.Pclass = train.Pclass.astype(np.int64)\n",
    "\n",
    "# Sex\n",
    "train.loc[train.Sex =='male', 'Sex'] = 0\n",
    "train.loc[train.Sex =='female', 'Sex'] = 1\n",
    "train.Sex = train.Sex.astype(np.int)\n",
    "\n",
    "# Embarked\n",
    "train.Embarked = train.Embarked.fillna('S')\n",
    "\n",
    "train.loc[train.Embarked =='S', 'Embarked'] = 0\n",
    "train.loc[train.Embarked =='C', 'Embarked'] = 1\n",
    "train.loc[train.Embarked =='Q', 'Embarked'] = 2\n",
    "train.Embarked = train.Embarked.astype(np.int)\n",
    "\n",
    "#featrue selection\n",
    "y = train.Survived\n",
    "X = train.drop(['PassengerId','Name','Ticket','Cabin','Survived'], axis=1)"
   ]
  },
  {
   "cell_type": "code",
   "execution_count": 55,
   "metadata": {
    "collapsed": true
   },
   "outputs": [],
   "source": [
    "X_train, X_test, y_train, y_test = train_test_split(X, y, test_size=0.25, random_state=42)\n",
    "X_train.shape, X_test.shape, y_train.shape, y_test.shape"
   ]
  },
  {
   "cell_type": "code",
   "execution_count": 73,
   "metadata": {
    "collapsed": false
   },
   "outputs": [
    {
     "data": {
      "text/plain": [
       "0.74439461883408076"
      ]
     },
     "execution_count": 73,
     "metadata": {},
     "output_type": "execute_result"
    }
   ],
   "source": [
    "dt =DecisionTreeClassifier()\n",
    "dt.fit(X_train, y_train)\n",
    "pred = dt.predict(X_test)\n",
    "(pred == y_test).sum() / y_test.shape[0]"
   ]
  },
  {
   "cell_type": "code",
   "execution_count": 80,
   "metadata": {
    "collapsed": false,
    "scrolled": true
   },
   "outputs": [
    {
     "data": {
      "image/png": "[encoded data removed]",
      "text/plain": [
       "<matplotlib.figure.Figure at 0x103710c88>"
      ]
     },
     "metadata": {},
     "output_type": "display_data"
    }
   ],
   "source": [
    "con = pd.DataFrame()\n",
    "con['col_name'] = X_train.columns\n",
    "con['importance'] = dt.feature_importances_\n",
    "con = con.sort_values('importance', ascending=False)\n",
    "sns.barplot(x = con.importance, y = con.col_name)\n",
    "plt.show()"
   ]
  }
 ],
 "metadata": {
  "anaconda-cloud": {},
  "kernelspec": {
   "display_name": "Python [conda root]",
   "language": "python",
   "name": "conda-root-py"
  },
  "language_info": {
   "codemirror_mode": {
    "name": "ipython",
    "version": 3
   },
   "file_extension": ".py",
   "mimetype": "text/x-python",
   "name": "python",
   "nbconvert_exporter": "python",
   "pygments_lexer": "ipython3",
   "version": "3.5.2"
  }
 },
 "nbformat": 4,
 "nbformat_minor": 1
}
